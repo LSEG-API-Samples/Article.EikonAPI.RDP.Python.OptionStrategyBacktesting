{
 "cells": [
  {
   "cell_type": "markdown",
   "id": "0bef2408-4a37-418d-8dec-d7861a929d1b",
   "metadata": {},
   "source": [
    "##  2021:Refinitiv Article series. All rights reserved"
   ]
  },
  {
   "cell_type": "markdown",
   "id": "7633e1eb-e828-4977-84b0-68d241a1da10",
   "metadata": {},
   "source": [
    "### 1.Install and import necessary packages "
   ]
  },
  {
   "cell_type": "code",
   "execution_count": null,
   "id": "5c9231bf-606d-4c59-9375-00865a43b4cb",
   "metadata": {},
   "outputs": [],
   "source": [
    "!pip install eikon"
   ]
  },
  {
   "cell_type": "code",
   "execution_count": null,
   "id": "06567e6a-244b-4544-9ccb-264e69f1e79a",
   "metadata": {},
   "outputs": [],
   "source": [
    "!pip install refinitiv.dataplatform==1.0.0a8.post1"
   ]
  },
  {
   "cell_type": "code",
   "execution_count": null,
   "id": "178738de-900f-4296-87c9-80a9731636c9",
   "metadata": {},
   "outputs": [],
   "source": [
    "!pip install plotly"
   ]
  },
  {
   "cell_type": "code",
   "execution_count": null,
   "id": "54ab85de-8d04-4a2b-8872-9f29ff88eaa2",
   "metadata": {},
   "outputs": [],
   "source": [
    "!pip install holidays"
   ]
  },
  {
   "cell_type": "code",
   "execution_count": 1,
   "id": "77a058ab-cabf-4804-be9e-6738b9f7d2f3",
   "metadata": {},
   "outputs": [
    {
     "data": {
      "text/plain": [
       "<refinitiv.dataplatform.core.session.desktop_session.DesktopSession at 0x21540692820>"
      ]
     },
     "execution_count": 2,
     "metadata": {},
     "output_type": "execute_result"
    }
   ],
   "source": [
    "import eikon as ek\n",
    "import refinitiv.dataplatform as rdp\n",
    "import calendar\n",
    "import numpy as np\n",
    "import pandas as pd\n",
    "from pandas.tseries.holiday import USFederalHolidayCalendar\n",
    "import datetime as dt\n",
    "from dateutil.easter import *\n",
    "from datetime import timedelta\n",
    "import plotly.express as px\n",
    "import plotly.graph_objects as go\n",
    "from plotly.subplots import make_subplots\n",
    "from plotly.graph_objs.scatter.marker import Line\n",
    "import warnings\n",
    "warnings.filterwarnings(\"ignore\")\n",
    "\n",
    "app_key = open(\"app_key.txt\",\"r\").read()\n",
    "\n",
    "ek.set_app_key(app_key)\n",
    "rdp.open_desktop_session(app_key)"
   ]
  },
  {
   "cell_type": "markdown",
   "id": "a2959459-f3e0-4a74-8f76-150be62348be",
   "metadata": {},
   "source": [
    "### 2.Functions to get Expiration dates and first business days for each month (considering also holidays)"
   ]
  },
  {
   "cell_type": "code",
   "execution_count": 2,
   "id": "8f683e09-dc2c-4ab0-837a-9804f9a0dd94",
   "metadata": {},
   "outputs": [],
   "source": [
    "def get_exp_dates(year):\n",
    "    '''\n",
    "    This functions gets expiration dates for a year for NDX options, which is the 3rd Friday of each month. \n",
    "    If that day is a holiday the previuos day is considerd. We need this information for expired RIC reconstruction.\n",
    "    '''\n",
    "    cal = USFederalHolidayCalendar()\n",
    "    c = calendar.Calendar(firstweekday=calendar.SATURDAY)\n",
    "    dates = {}\n",
    "    for i in range(1, 13):        \n",
    "        monthcal = c.monthdatescalendar(year, i)\n",
    "        date = monthcal[2][-1]\n",
    "        if date in cal.holidays() or date == easter(year) + timedelta(-2):\n",
    "            date = date + timedelta(-1)\n",
    "        if year in dates:\n",
    "            dates[year].append(date.day)\n",
    "        else:\n",
    "            dates[year] = [date.day]        \n",
    "    return dates"
   ]
  },
  {
   "cell_type": "code",
   "execution_count": 3,
   "id": "f5057b70-905c-434a-b66f-c7b662fe35e3",
   "metadata": {},
   "outputs": [
    {
     "data": {
      "text/plain": [
       "{2020: [17, 21, 20, 17, 15, 19, 17, 21, 18, 16, 20, 18]}"
      ]
     },
     "execution_count": 3,
     "metadata": {},
     "output_type": "execute_result"
    }
   ],
   "source": [
    "dates = get_exp_dates(2020)\n",
    "dates"
   ]
  },
  {
   "cell_type": "code",
   "execution_count": 3,
   "id": "fee0e6b0-a27a-4eb1-8104-31d88f872ed6",
   "metadata": {},
   "outputs": [],
   "source": [
    "def get_business_day(year):\n",
    "    '''\n",
    "    This functions gets the first business day of each month of a year. We use this information for registering option transactions. \n",
    "    We buy/sell option contracts every month on the day returned by the function\n",
    "    '''    \n",
    "    cal = USFederalHolidayCalendar()\n",
    "    start_date = str(year) + '-01' +'-01'\n",
    "    end_date = str(year) + '-12' + '-31'\n",
    "    first_days = []\n",
    "    \n",
    "    for date in pd.date_range(start_date, end_date, freq='BMS'):\n",
    "        while date.isoweekday() > 5 or date in cal.holidays():\n",
    "            date += dt.timedelta(1)\n",
    "        first_days.append(date.date().day)\n",
    "    return first_days"
   ]
  },
  {
   "cell_type": "code",
   "execution_count": 5,
   "id": "e1902b57-7c8d-4808-a21d-2271b380f9d1",
   "metadata": {},
   "outputs": [
    {
     "data": {
      "text/plain": [
       "[2, 3, 2, 1, 1, 1, 1, 3, 1, 1, 2, 1]"
      ]
     },
     "execution_count": 5,
     "metadata": {},
     "output_type": "execute_result"
    }
   ],
   "source": [
    "first_bday = get_business_day(2020)\n",
    "first_bday"
   ]
  },
  {
   "cell_type": "markdown",
   "id": "749f52a7-7a92-4ce0-9116-994145c12cd8",
   "metadata": {},
   "source": [
    "### 3.Functions to get potential RICs and Validate those"
   ]
  },
  {
   "cell_type": "code",
   "execution_count": 4,
   "id": "118216b5-9bdb-4435-b3e6-b097c9404d28",
   "metadata": {},
   "outputs": [],
   "source": [
    "def get_potential_rics(year, OTM_size, diff, opt_type):\n",
    "    '''\n",
    "    This functions returns the list of potential option RICs for a specified year reconstructed based on Refinitiv RIC and option trading rules.\n",
    "    '''     \n",
    "    first_bday = get_business_day(year)\n",
    "    dates = get_exp_dates(year)\n",
    "    first_bday_prev = get_business_day(year-1)\n",
    "\n",
    "    c = calendar.Calendar(firstweekday = calendar.MONDAY)\n",
    "    potential_RICs = {}\n",
    "    strikes = []\n",
    "    report = open(\"Log report.txt\", \"a\")\n",
    "    \n",
    "    for j in range(1,13):\n",
    "        if j != 1:\n",
    "            date = str(year) + '-' + str(j-1) + '-' + str(first_bday[j-2])\n",
    "        if j == 1:\n",
    "            date = str(year-1) + '-' + str(j+11) + '-' + str(first_bday_prev[j+10])        \n",
    "\n",
    "        price, err = ek.get_data(['.NDX'], fields = ['TR.PriceClose'], parameters = {'SDate': date})\n",
    "        price = price.iloc[0,1]\n",
    "\n",
    "        exp_codes_call = ['a', 'b', 'c', 'd','e','f','g', 'h', 'i', 'j', 'k', 'l']\n",
    "        exp_codes_put = ['m', 'n', 'o', 'p','q','r','s', 't', 'u', 'v', 'w', 'x']\n",
    "        exp = ['A', 'B', 'C', 'D','E','F','G', 'H', 'I', 'J', 'K', 'L']\n",
    "        day = dates[year][j-1]\n",
    "        \n",
    "        if opt_type == 'call':\n",
    "            strike = price + price * OTM_size/100\n",
    "            exp_month = exp_codes_call[j-1]\n",
    "                \n",
    "        elif opt_type == 'put':\n",
    "            strike = price - price * OTM_size/100\n",
    "            exp_month = exp_codes_put[j-1]    \n",
    "        else:\n",
    "            print('Input valid option type')\n",
    "        \n",
    "        strikes.append(int(strike))\n",
    "        strike_ub = int(round((strike + strike * diff/100),-1))\n",
    "        strike_lb = int(round((strike - strike * diff/100),-1))\n",
    "        \n",
    "        for n in range(strike_lb, strike_ub, 5):\n",
    "            if len(str(n)) == 4:\n",
    "                z = 'NDX' + exp_month + str(day) + str(year)[-2:] + str(n) + '0.U^' + exp[j-1] + str(year)[-2:]\n",
    "            elif len(str(n)) == 5:\n",
    "                z = 'NDX' + exp_month + str(day) + str(year)[-2:] + 'A' + str(n)[-4:] + '.U^' + exp[j-1] + str(year)[-2:]\n",
    "            if j in potential_RICs:\n",
    "                potential_RICs[j].append(z)\n",
    "            else:\n",
    "                potential_RICs[j] = [z]\n",
    "    \n",
    "    report.write(f'Potential RICs for {opt_type} options with {OTM_size}% OTM for {year} are constructed\\n')\n",
    "    report.close()\n",
    "    return potential_RICs, strikes"
   ]
  },
  {
   "cell_type": "code",
   "execution_count": 22,
   "id": "db58b11f-e852-4c0c-ae68-30825ce6e8ff",
   "metadata": {},
   "outputs": [],
   "source": [
    "call_RICs, call_strikes = get_potential_rics(2020, 8, 0.5, 'call')"
   ]
  },
  {
   "cell_type": "code",
   "execution_count": 5,
   "id": "ede143c9-89e9-47be-be6b-ceabb999a650",
   "metadata": {},
   "outputs": [],
   "source": [
    "def sort_option(pot_RICs, strikes):\n",
    "    '''\n",
    "    This functions sorts the potential RICs in an order of closeseness of option contract strike price with underlying price with given OTM.\n",
    "    Further we use this order for buying/sekking option contracts. This allows to by/sell contracts which strike prices are closest\n",
    "    to the OTM size price (as most of the time it is not possible to arrive ar the exaxt OTM price).  \n",
    "    '''  \n",
    "    i = -1\n",
    "    for month in pot_RICs:\n",
    "        i += 1\n",
    "        for RIC in pot_RICs[month]:\n",
    "            if RIC[8] == 'A':\n",
    "                sort = [abs(int(RIC[10:13]) - int(str(strikes[i])[-3:])) for RIC in pot_RICs[month]]\n",
    "            elif RIC[8] != 'A':\n",
    "                sort = [abs(int(RIC[9:12]) - int(str(strikes[i])[-3:])) for RIC in pot_RICs[month]]\n",
    "            pot_RICs[month] = [month_sorted for _, month_sorted in sorted(zip(sort, pot_RICs[month]))]\n",
    "    return pot_RICs"
   ]
  },
  {
   "cell_type": "code",
   "execution_count": 24,
   "id": "32bec316-a674-4a34-93c3-f9d7d32bf45e",
   "metadata": {},
   "outputs": [],
   "source": [
    "call_sorted = sort_option(call_RICs, call_strikes)"
   ]
  },
  {
   "cell_type": "code",
   "execution_count": 17,
   "id": "005ae912-dfcb-40c8-9e57-715532b79510",
   "metadata": {},
   "outputs": [],
   "source": [
    "def get_valid_rics(year, pot_RICs_sorted):\n",
    "    '''\n",
    "    This functions checks the validity of a RIC by making API calls and returns dictionary of valid RICs per month at a specified year.  \n",
    "    '''      \n",
    "    first_bday = get_business_day(year)\n",
    "    first_bday_prev = get_business_day(year-1)\n",
    "\n",
    "    dates = get_exp_dates(year)\n",
    "    valid_rics = {}\n",
    "    report = open(\"Log report.txt\", \"a\")\n",
    "    \n",
    "    for month in pot_RICs_sorted:\n",
    "        edate = str(year) + '-' + str(month) + '-' + str(dates[year][month-1])\n",
    "        if month != 2:\n",
    "            sdate = str(year) + '-' + str(month-1) + '-' + str(first_bday[month-2])\n",
    "        if month == 1:\n",
    "            sdate = str(year-1) + '-' + str(month+11) + '-' + str(first_bday_prev[month+10])\n",
    "\n",
    "        for RIC in pot_RICs_sorted[month]:\n",
    "            vals = rdp.get_historical_price_summaries(RIC,  start = sdate, end = edate, interval = rdp.Intervals.DAILY,\n",
    "                                                        fields = ['BID','ASK','TRDPRC_1'])                \n",
    "            if vals is not None:\n",
    "                vals.reset_index(inplace = True)\n",
    "                if month in valid_rics:\n",
    "                    valid_rics[month].append(RIC)\n",
    "                else:\n",
    "                    valid_rics[month] = [RIC]\n",
    "    report.write(f'Valid RICs with specified criteria for {len(valid_rics)} month during {year} are found\\n')\n",
    "    report.close()\n",
    "    return valid_rics"
   ]
  },
  {
   "cell_type": "code",
   "execution_count": 34,
   "id": "bb516aeb-4ab4-4f33-b764-b3b9f969bce1",
   "metadata": {},
   "outputs": [
    {
     "name": "stdout",
     "output_type": "stream",
     "text": [
      "{1: ['NDXa172087250.U^A20', 'NDXa172087200.U^A20', 'NDXa172087300.U^A20', 'NDXa172087100.U^A20', 'NDXa172087400.U^A20', 'NDXa172087000.U^A20', 'NDXa172087500.U^A20', 'NDXa172086900.U^A20', 'NDXa172087600.U^A20', 'NDXa172086800.U^A20'], 2: ['NDXb212093100.U^B20', 'NDXb212093200.U^B20', 'NDXb212093250.U^B20', 'NDXb212093000.U^B20', 'NDXb212093300.U^B20', 'NDXb212092900.U^B20', 'NDXb212093400.U^B20', 'NDXb212092800.U^B20', 'NDXb212093500.U^B20', 'NDXb212092750.U^B20', 'NDXb212092700.U^B20'], 3: ['NDXc202095800.U^C20', 'NDXc202095750.U^C20', 'NDXc202095900.U^C20', 'NDXc202095700.U^C20', 'NDXc202096000.U^C20', 'NDXc202095600.U^C20', 'NDXc202096100.U^C20', 'NDXc202095500.U^C20', 'NDXc202096200.U^C20', 'NDXc202095400.U^C20', 'NDXc202096250.U^C20', 'NDXc202095300.U^C20'], 4: ['NDXd172093250.U^D20', 'NDXd172093000.U^D20', 'NDXd172093500.U^D20'], 5: ['NDXe152078500.U^E20', 'NDXe152078750.U^E20', 'NDXe152078250.U^E20'], 6: ['NDXf192091500.U^F20', 'NDXf192091750.U^F20', 'NDXf192091250.U^F20'], 7: ['NDXg1720A0080.U^G20', 'NDXg1720A0075.U^G20', 'NDXg1720A0070.U^G20', 'NDXg1720A0090.U^G20', 'NDXg1720A0060.U^G20', 'NDXg1720A0100.U^G20', 'NDXg1720A0050.U^G20', 'NDXg1720A0110.U^G20', 'NDXg1720A0040.U^G20', 'NDXg1720A0120.U^G20', 'NDXg1720A0125.U^G20', 'NDXg1720A0030.U^G20'], 8: ['NDXh2120A0790.U^H20', 'NDXh2120A0800.U^H20', 'NDXh2120A0780.U^H20', 'NDXh2120A0810.U^H20', 'NDXh2120A0775.U^H20', 'NDXh2120A0770.U^H20', 'NDXh2120A0820.U^H20', 'NDXh2120A0825.U^H20', 'NDXh2120A0760.U^H20', 'NDXh2120A0830.U^H20', 'NDXh2120A0750.U^H20', 'NDXh2120A0840.U^H20', 'NDXh2120A0740.U^H20'], 9: ['NDXi1820A1610.U^I20', 'NDXi1820A1600.U^I20', 'NDXi1820A1620.U^I20', 'NDXi1820A1590.U^I20', 'NDXi1820A1625.U^I20', 'NDXi1820A1630.U^I20', 'NDXi1820A1580.U^I20', 'NDXi1820A1575.U^I20', 'NDXi1820A1640.U^I20', 'NDXi1820A1570.U^I20', 'NDXi1820A1650.U^I20', 'NDXi1820A1560.U^I20', 'NDXi1820A1660.U^I20', 'NDXi1820A1550.U^I20'], 10: ['NDXj1620A2900.U^J20', 'NDXj1620A2925.U^J20', 'NDXj1620A2875.U^J20', 'NDXj1620A2950.U^J20', 'NDXj1620A2850.U^J20'], 11: ['NDXk2020A2160.U^K20', 'NDXk2020A2170.U^K20', 'NDXk2020A2150.U^K20', 'NDXk2020A2175.U^K20', 'NDXk2020A2180.U^K20', 'NDXk2020A2140.U^K20', 'NDXk2020A2190.U^K20', 'NDXk2020A2130.U^K20', 'NDXk2020A2125.U^K20', 'NDXk2020A2200.U^K20', 'NDXk2020A2120.U^K20', 'NDXk2020A2110.U^K20', 'NDXk2020A2100.U^K20'], 12: ['NDXl1820A1650.U^L20', 'NDXl1820A1625.U^L20', 'NDXl1820A1675.U^L20', 'NDXl1820A1600.U^L20']}\n"
     ]
    }
   ],
   "source": [
    "valid_rics_call = get_valid_rics(2020, call_sorted)\n",
    "print(valid_rics)"
   ]
  },
  {
   "cell_type": "markdown",
   "id": "3d9b6ddd-f788-4d92-8e53-5817fb3a7097",
   "metadata": {},
   "source": [
    "### 4.Function to register Option buy/sell transactions and register the strategy outcome"
   ]
  },
  {
   "cell_type": "code",
   "execution_count": 6,
   "id": "3a986451-774a-4a24-b530-6ac258b32b96",
   "metadata": {},
   "outputs": [],
   "source": [
    "def trans_option(year, RICs, opt_type, position):\n",
    "    '''\n",
    "    This functions registers the option contract buy/sell transaction for each month in a given year along with other transaction details,\n",
    "    such as Strike price, underlying price, actual OTM size etc.  \n",
    "    '''         \n",
    "    first_bday = get_business_day(year)\n",
    "    dates = get_exp_dates(year)\n",
    "    first_bday_prev = get_business_day(year-1)\n",
    "    dict = {'RIC':[],'Trans_Date':[],'Exp_date': [],'Option type':[], 'Position':[], 'Strike':[], 'Price_Trans_Date': [], 'Option Price':[], 'OTM size': []}\n",
    "    report = open(\"Log report.txt\", \"a\")\n",
    "    \n",
    "    for month in RICs:\n",
    "        \n",
    "        for RIC in RICs[month]:\n",
    "            edate = str(year) + '-' + str(month) + '-' + str(dates[year][month-1])\n",
    "            if month > 2:\n",
    "                sdate = str(year) + '-' + str(month-1) + '-' + str(first_bday[month-2])\n",
    "                sdate_req = str(year) + '-' + str(month-2) + '-' + str(first_bday[month-3])\n",
    "            if month == 1:\n",
    "                sdate = str(year-1) + '-' + str(month+11) + '-' + str(first_bday_prev[month+10])\n",
    "                sdate_req = str(year-1) + '-' + str(month+10) + '-' + str(first_bday_prev[month-4])\n",
    "            if month == 2:\n",
    "                sdate = str(year) + '-' + str(month-1) + '-' + str(first_bday[month-2])\n",
    "                sdate_req = str(year-1) + '-' + str(month+10) + '-' + str(first_bday_prev[month-4])\n",
    "            vals = rdp.get_historical_price_summaries(RIC,  start = sdate_req, end = edate, interval = rdp.Intervals.DAILY,\n",
    "                                                        fields = ['BID','ASK','TRDPRC_1'])         \n",
    "            if vals is not None:\n",
    "                vals.reset_index(inplace = True)\n",
    "                if vals.loc[vals['index'] == sdate].shape[0] == 1:\n",
    "                    if len(vals['TRDPRC_1'].loc[vals['index'] == sdate]) == 1 and vals['TRDPRC_1'].loc[vals['index'] == sdate].notna().any():\n",
    "                        price = vals['TRDPRC_1'].loc[vals['index'] == sdate].values[0]\n",
    "                    elif (vals['ASK']).sum() == 0 and (vals['BID']).sum() != 0:\n",
    "                        price = vals['BID'].loc[vals['index'] == sdate].values[0]  \n",
    "                    elif (vals['ASK']).sum() != 0 and (vals['BID']).sum() == 0:\n",
    "                        price = vals['ASK'].loc[vals['index'] == sdate].values[0]\n",
    "                    elif vals['ASK'].loc[vals['index'] == sdate].any() == True and vals['BID'].loc[vals['index'] == sdate].any() == True:\n",
    "                        price = (vals['ASK'].loc[vals['index'] == sdate].values[0] + vals['BID'].loc[vals['index'] == sdate].values[0])/2\n",
    "                    elif vals['ASK'].loc[vals['index'] == sdate].any() == True and vals['BID'].loc[vals['index'] == sdate].any() == False:\n",
    "                        av_spread = ((vals['ASK'] - vals['BID'])/vals['ASK']).mean()\n",
    "                        price = vals['ASK'].loc[vals['index'] == sdate].values[0] - vals['ASK'].loc[vals['index'] == sdate].values[0]*av_spread\n",
    "                    elif vals['ASK'].loc[vals['index'] == sdate].any() == False and vals['BID'].loc[vals['index'] == sdate].any() == True:\n",
    "                        av_spread = ((vals['ASK'] - vals['BID'])/vals['BID']).mean()\n",
    "                        price = vals['BID'].loc[vals['index'] == sdate].values[0] + vals['BID'].loc[vals['index'] == sdate].values[0]*av_spread  \n",
    "\n",
    "                    dict['Option Price'].append(round(float(price),2))\n",
    "                    dict['Trans_Date'].append(vals['index'].loc[vals['index'] == sdate].values[0])\n",
    "                    dict['Option type'].append(opt_type)\n",
    "                    dict['Exp_date'].append(edate)\n",
    "                    dict['RIC'].append(RIC)              \n",
    "                    dict['Position'].append(position)\n",
    "\n",
    "                    if RIC[8] == 'A':    \n",
    "                        strike = int(RIC[8:13].replace('A', \"1\"))\n",
    "                    else:\n",
    "                        strike = int(RIC[8:12])\n",
    "                    dict['Strike'].append(strike)\n",
    "\n",
    "                    prices = []                    \n",
    "                    val, err = ek.get_data(['.NDX'], fields = ['TR.PriceClose'], parameters = {'SDate': sdate})\n",
    "                    price = val.iloc[0,1]\n",
    "                    if opt_type == 'call':\n",
    "                        OTM = round((strike - price)/price*100, 2)\n",
    "                    elif opt_type == 'put':\n",
    "                        OTM = round((price-strike)/price*100, 2)  \n",
    "                    dict['OTM size'].append(OTM)\n",
    "                    dict['Price_Trans_Date'].append(price)\n",
    "                    break\n",
    "    \n",
    "        if edate not in dict['Exp_date']:\n",
    "            report.write(f'No {opt_type} option is purchased for month {month}\\n')\n",
    "    report.write(f'{len(pd.DataFrame(dict))} {position} {opt_type} transactions for {year} are registered\\n')\n",
    "    report.close()\n",
    "    return pd.DataFrame(dict)"
   ]
  },
  {
   "cell_type": "code",
   "execution_count": 35,
   "id": "1cd4e8a2-8e8f-4be8-b426-a4e6a1abe5d1",
   "metadata": {},
   "outputs": [
    {
     "data": {
      "text/html": [
       "<div>\n",
       "<style scoped>\n",
       "    .dataframe tbody tr th:only-of-type {\n",
       "        vertical-align: middle;\n",
       "    }\n",
       "\n",
       "    .dataframe tbody tr th {\n",
       "        vertical-align: top;\n",
       "    }\n",
       "\n",
       "    .dataframe thead th {\n",
       "        text-align: right;\n",
       "    }\n",
       "</style>\n",
       "<table border=\"1\" class=\"dataframe\">\n",
       "  <thead>\n",
       "    <tr style=\"text-align: right;\">\n",
       "      <th></th>\n",
       "      <th>RIC</th>\n",
       "      <th>Trans_Date</th>\n",
       "      <th>Exp_date</th>\n",
       "      <th>Option type</th>\n",
       "      <th>Position</th>\n",
       "      <th>Strike</th>\n",
       "      <th>Price_Trans_Date</th>\n",
       "      <th>Option Price</th>\n",
       "      <th>OTM size</th>\n",
       "    </tr>\n",
       "  </thead>\n",
       "  <tbody>\n",
       "    <tr>\n",
       "      <th>0</th>\n",
       "      <td>NDXa172089750.U^A20</td>\n",
       "      <td>2019-12-02</td>\n",
       "      <td>2020-1-17</td>\n",
       "      <td>call</td>\n",
       "      <td>short</td>\n",
       "      <td>8975</td>\n",
       "      <td>8309.260</td>\n",
       "      <td>3.73</td>\n",
       "      <td>8.01</td>\n",
       "    </tr>\n",
       "    <tr>\n",
       "      <th>1</th>\n",
       "      <td>NDXb212096000.U^B20</td>\n",
       "      <td>2020-01-02</td>\n",
       "      <td>2020-2-21</td>\n",
       "      <td>call</td>\n",
       "      <td>short</td>\n",
       "      <td>9600</td>\n",
       "      <td>8872.219</td>\n",
       "      <td>4.95</td>\n",
       "      <td>8.20</td>\n",
       "    </tr>\n",
       "    <tr>\n",
       "      <th>2</th>\n",
       "      <td>NDXc202098500.U^C20</td>\n",
       "      <td>2020-02-03</td>\n",
       "      <td>2020-3-20</td>\n",
       "      <td>call</td>\n",
       "      <td>short</td>\n",
       "      <td>9850</td>\n",
       "      <td>9126.232</td>\n",
       "      <td>8.73</td>\n",
       "      <td>7.93</td>\n",
       "    </tr>\n",
       "    <tr>\n",
       "      <th>3</th>\n",
       "      <td>NDXd172096000.U^D20</td>\n",
       "      <td>2020-03-02</td>\n",
       "      <td>2020-4-17</td>\n",
       "      <td>call</td>\n",
       "      <td>short</td>\n",
       "      <td>9600</td>\n",
       "      <td>8877.978</td>\n",
       "      <td>41.00</td>\n",
       "      <td>8.13</td>\n",
       "    </tr>\n",
       "    <tr>\n",
       "      <th>4</th>\n",
       "      <td>NDXe152080750.U^E20</td>\n",
       "      <td>2020-04-01</td>\n",
       "      <td>2020-5-15</td>\n",
       "      <td>call</td>\n",
       "      <td>short</td>\n",
       "      <td>8075</td>\n",
       "      <td>7486.287</td>\n",
       "      <td>193.40</td>\n",
       "      <td>7.86</td>\n",
       "    </tr>\n",
       "    <tr>\n",
       "      <th>5</th>\n",
       "      <td>NDXf192094250.U^F20</td>\n",
       "      <td>2020-05-01</td>\n",
       "      <td>2020-6-19</td>\n",
       "      <td>call</td>\n",
       "      <td>short</td>\n",
       "      <td>9425</td>\n",
       "      <td>8718.179</td>\n",
       "      <td>107.90</td>\n",
       "      <td>8.11</td>\n",
       "    </tr>\n",
       "    <tr>\n",
       "      <th>6</th>\n",
       "      <td>NDXg1720A0375.U^G20</td>\n",
       "      <td>2020-06-01</td>\n",
       "      <td>2020-7-17</td>\n",
       "      <td>call</td>\n",
       "      <td>short</td>\n",
       "      <td>10375</td>\n",
       "      <td>9598.887</td>\n",
       "      <td>43.40</td>\n",
       "      <td>8.09</td>\n",
       "    </tr>\n",
       "    <tr>\n",
       "      <th>7</th>\n",
       "      <td>NDXh2120A1100.U^H20</td>\n",
       "      <td>2020-07-01</td>\n",
       "      <td>2020-8-21</td>\n",
       "      <td>call</td>\n",
       "      <td>short</td>\n",
       "      <td>11100</td>\n",
       "      <td>10279.248</td>\n",
       "      <td>69.25</td>\n",
       "      <td>7.98</td>\n",
       "    </tr>\n",
       "    <tr>\n",
       "      <th>8</th>\n",
       "      <td>NDXi1820A1950.U^I20</td>\n",
       "      <td>2020-08-03</td>\n",
       "      <td>2020-9-18</td>\n",
       "      <td>call</td>\n",
       "      <td>short</td>\n",
       "      <td>11950</td>\n",
       "      <td>11055.076</td>\n",
       "      <td>66.25</td>\n",
       "      <td>8.10</td>\n",
       "    </tr>\n",
       "    <tr>\n",
       "      <th>9</th>\n",
       "      <td>NDXj1620A3275.U^J20</td>\n",
       "      <td>2020-09-01</td>\n",
       "      <td>2020-10-16</td>\n",
       "      <td>call</td>\n",
       "      <td>short</td>\n",
       "      <td>13275</td>\n",
       "      <td>12292.863</td>\n",
       "      <td>158.70</td>\n",
       "      <td>7.99</td>\n",
       "    </tr>\n",
       "    <tr>\n",
       "      <th>10</th>\n",
       "      <td>NDXk2020A2500.U^K20</td>\n",
       "      <td>2020-10-01</td>\n",
       "      <td>2020-11-20</td>\n",
       "      <td>call</td>\n",
       "      <td>short</td>\n",
       "      <td>12500</td>\n",
       "      <td>11583.203</td>\n",
       "      <td>187.50</td>\n",
       "      <td>7.91</td>\n",
       "    </tr>\n",
       "    <tr>\n",
       "      <th>11</th>\n",
       "      <td>NDXl1820A1975.U^L20</td>\n",
       "      <td>2020-11-02</td>\n",
       "      <td>2020-12-18</td>\n",
       "      <td>call</td>\n",
       "      <td>short</td>\n",
       "      <td>11975</td>\n",
       "      <td>11084.757</td>\n",
       "      <td>166.35</td>\n",
       "      <td>8.03</td>\n",
       "    </tr>\n",
       "  </tbody>\n",
       "</table>\n",
       "</div>"
      ],
      "text/plain": [
       "                    RIC Trans_Date    Exp_date Option type Position  Strike  \\\n",
       "0   NDXa172089750.U^A20 2019-12-02   2020-1-17        call    short    8975   \n",
       "1   NDXb212096000.U^B20 2020-01-02   2020-2-21        call    short    9600   \n",
       "2   NDXc202098500.U^C20 2020-02-03   2020-3-20        call    short    9850   \n",
       "3   NDXd172096000.U^D20 2020-03-02   2020-4-17        call    short    9600   \n",
       "4   NDXe152080750.U^E20 2020-04-01   2020-5-15        call    short    8075   \n",
       "5   NDXf192094250.U^F20 2020-05-01   2020-6-19        call    short    9425   \n",
       "6   NDXg1720A0375.U^G20 2020-06-01   2020-7-17        call    short   10375   \n",
       "7   NDXh2120A1100.U^H20 2020-07-01   2020-8-21        call    short   11100   \n",
       "8   NDXi1820A1950.U^I20 2020-08-03   2020-9-18        call    short   11950   \n",
       "9   NDXj1620A3275.U^J20 2020-09-01  2020-10-16        call    short   13275   \n",
       "10  NDXk2020A2500.U^K20 2020-10-01  2020-11-20        call    short   12500   \n",
       "11  NDXl1820A1975.U^L20 2020-11-02  2020-12-18        call    short   11975   \n",
       "\n",
       "    Price_Trans_Date  Option Price  OTM size  \n",
       "0           8309.260          3.73      8.01  \n",
       "1           8872.219          4.95      8.20  \n",
       "2           9126.232          8.73      7.93  \n",
       "3           8877.978         41.00      8.13  \n",
       "4           7486.287        193.40      7.86  \n",
       "5           8718.179        107.90      8.11  \n",
       "6           9598.887         43.40      8.09  \n",
       "7          10279.248         69.25      7.98  \n",
       "8          11055.076         66.25      8.10  \n",
       "9          12292.863        158.70      7.99  \n",
       "10         11583.203        187.50      7.91  \n",
       "11         11084.757        166.35      8.03  "
      ]
     },
     "execution_count": 35,
     "metadata": {},
     "output_type": "execute_result"
    }
   ],
   "source": [
    "call_trans = trans_option(2020, call_sorted, 'call', 'short')\n",
    "call_trans"
   ]
  },
  {
   "cell_type": "code",
   "execution_count": 7,
   "id": "7eef5657-f5ba-4bf4-b852-8d40e73ee1d3",
   "metadata": {},
   "outputs": [],
   "source": [
    "def pair_trans(year, call_OTM, put_OTM, call_pos, put_pos):\n",
    "    '''\n",
    "    This functions implements option pair transaction by calling some of the abovementioned functions for call/put pair.\n",
    "    '''    \n",
    "    call_RICs, call_strikes = get_potential_rics(year, call_OTM, 0.5, 'call')\n",
    "    call_sorted = sort_option(call_RICs, call_strikes)\n",
    "    call_trans = trans_option(year, call_sorted, 'call', call_pos)\n",
    "    \n",
    "    put_RICs, put_strikes = get_potential_rics(year, put_OTM, 0.5, 'put')\n",
    "    put_sorted = sort_option(put_RICs, put_strikes)\n",
    "    put_trans = trans_option(year, put_sorted, 'put', put_pos)\n",
    "    \n",
    "    return call_trans, put_trans"
   ]
  },
  {
   "cell_type": "code",
   "execution_count": 27,
   "id": "7c01249f-4231-4271-b9b4-5082adce9c91",
   "metadata": {},
   "outputs": [],
   "source": [
    "call_trans, put_trans = pair_trans(2020, 8, 10, 'short', 'long')"
   ]
  },
  {
   "cell_type": "code",
   "execution_count": 8,
   "id": "37cd797e-699d-4055-8248-a9b498c86b4b",
   "metadata": {},
   "outputs": [],
   "source": [
    "def strategy_outcome(call_trans, put_trans):\n",
    "    '''\n",
    "    This functions summarizes the strategy outcome by calculating profit/loss of each trnsaction and the bundle.\n",
    "    '''  \n",
    "    report = open(\"Log report.txt\", \"a\")\n",
    "    option_trans = pd.concat([call_trans, put_trans]).reset_index()\n",
    "    option_trans.drop(columns = ['index'], inplace=True)\n",
    "    \n",
    "    for date in option_trans['Exp_date']:\n",
    "        if option_trans[option_trans['Exp_date'] == date].shape[0] < 2:\n",
    "            option_trans.drop(option_trans.loc[option_trans['Exp_date'] == date].index, inplace=True)\n",
    "            report.write(f'Transations with {date} expiration date has been removed because of unavailble option pair\\n')\n",
    "\n",
    "    option_trans = option_trans.sort_values(by=['Trans_Date'])\n",
    "    option_trans.index = option_trans.index + 1\n",
    "    \n",
    "    exp_date = option_trans['Exp_date'].to_list()\n",
    "    prices_edate = []\n",
    "    for i in range(option_trans.shape[0]):\n",
    "        df, err =ek.get_data('.NDX', fields = ['TR.PriceClose'] , parameters={'SDate': exp_date[i]})\n",
    "        prices_edate.append(df.iloc[0,1])\n",
    "    \n",
    "    option_trans.insert(loc = len(option_trans.columns), column = 'price_exp_date', value = prices_edate)\n",
    "    \n",
    "    option_trans.insert(loc = len(option_trans.columns), column = \"Contract price\", value = np.where(option_trans['Position'] == 'short', option_trans['Option Price']*100, -option_trans['Option Price']*100))\n",
    "   \n",
    "    option_trans.insert(loc = len(option_trans.columns), column = \"Exercise outcome\", value = \n",
    "        np.where((option_trans['Option type'] == 'call') & (option_trans['Position'] == 'long') & (option_trans['Strike'] > option_trans['price_exp_date']), 0,\n",
    "        np.where((option_trans['Option type'] == 'call') & (option_trans['Position'] == 'short') & (option_trans['Strike'] > option_trans['price_exp_date']), 0,\n",
    "        np.where((option_trans['Option type'] == 'call') & (option_trans['Position'] == 'long') & (option_trans['Strike'] < option_trans['price_exp_date']), (option_trans['price_exp_date'] - option_trans['Strike'])*100,\n",
    "        np.where((option_trans['Option type'] == 'call') & (option_trans['Position'] == 'short') & (option_trans['Strike'] < option_trans['price_exp_date']), -(option_trans['price_exp_date'] -  option_trans['Strike'])*100,\n",
    "        np.where((option_trans['Option type'] == 'put') & (option_trans['Position'] == 'long') & (option_trans['Strike'] > option_trans['price_exp_date']), (option_trans['Strike'] - option_trans['price_exp_date'])*100,\n",
    "        np.where((option_trans['Option type'] == 'put') & (option_trans['Position'] == 'short') & (option_trans['Strike'] > option_trans['price_exp_date']), -(option_trans['Strike'] - option_trans['price_exp_date'])*100,\n",
    "        np.where((option_trans['Option type'] == 'put') & (option_trans['Position'] == 'long') & (option_trans['Strike'] < option_trans['price_exp_date']), 0,\n",
    "        np.where((option_trans['Option type'] == 'put') & (option_trans['Position'] == 'short') & (option_trans['Strike'] < option_trans['price_exp_date']), 0, 'NA')))))))))\n",
    "\n",
    "    option_trans.insert(loc = len(option_trans.columns), column = \"Total Profit/Loss\", value =  option_trans[\"Contract price\"] + option_trans[\"Exercise outcome\"].astype(float))\n",
    "                        \n",
    "    option_trans.insert(loc = len(option_trans.columns), column = \"Outcome\", value = \n",
    "        np.where((option_trans['Option type'] == 'call') & (option_trans['Position'] == 'long') & (option_trans['Strike'] > option_trans['price_exp_date']), \"Expired worthless\",\n",
    "        np.where((option_trans['Option type'] == 'call') & (option_trans['Position'] == 'short') & (option_trans['Strike'] > option_trans['price_exp_date']), \"Expired worthless\",\n",
    "        np.where((option_trans['Option type'] == 'call') & (option_trans['Position'] == 'long') & (option_trans['Strike'] < option_trans['price_exp_date']), \"Exercised option\",\n",
    "        np.where((option_trans['Option type'] == 'call') & (option_trans['Position'] == 'short') & (option_trans['Strike'] < option_trans['price_exp_date']), \"Exercised option\",\n",
    "        np.where((option_trans['Option type'] == 'put') & (option_trans['Position'] == 'long') & (option_trans['Strike'] > option_trans['price_exp_date']), \"Exercised option\",\n",
    "        np.where((option_trans['Option type'] == 'put') & (option_trans['Position'] == 'short') & (option_trans['Strike'] > option_trans['price_exp_date']), \"Exercised option\",\n",
    "        np.where((option_trans['Option type'] == 'put') & (option_trans['Position'] == 'long') & (option_trans['Strike'] < option_trans['price_exp_date']), \"Expired worthless\",\n",
    "        np.where((option_trans['Option type'] == 'put') & (option_trans['Position'] == 'short') & (option_trans['Strike'] < option_trans['price_exp_date']), \"Expired worthless\", 'NA')))))))))\n",
    "    \n",
    "    report.write(f'{len(option_trans)} option transactions are conducted\\n')\n",
    "    report.close()\n",
    "    return option_trans"
   ]
  },
  {
   "cell_type": "code",
   "execution_count": 32,
   "id": "d8a75bb5-0906-4c6d-874c-48f7cf0de0f2",
   "metadata": {},
   "outputs": [
    {
     "data": {
      "text/html": [
       "<div>\n",
       "<style scoped>\n",
       "    .dataframe tbody tr th:only-of-type {\n",
       "        vertical-align: middle;\n",
       "    }\n",
       "\n",
       "    .dataframe tbody tr th {\n",
       "        vertical-align: top;\n",
       "    }\n",
       "\n",
       "    .dataframe thead th {\n",
       "        text-align: right;\n",
       "    }\n",
       "</style>\n",
       "<table border=\"1\" class=\"dataframe\">\n",
       "  <thead>\n",
       "    <tr style=\"text-align: right;\">\n",
       "      <th></th>\n",
       "      <th>RIC</th>\n",
       "      <th>Trans_Date</th>\n",
       "      <th>Exp_date</th>\n",
       "      <th>Option type</th>\n",
       "      <th>Position</th>\n",
       "      <th>Strike</th>\n",
       "      <th>Price_Trans_Date</th>\n",
       "      <th>Option Price</th>\n",
       "      <th>OTM size</th>\n",
       "      <th>price_exp_date</th>\n",
       "      <th>Contract price</th>\n",
       "      <th>Exercise outcome</th>\n",
       "      <th>Total Profit/Loss</th>\n",
       "      <th>Outcome</th>\n",
       "    </tr>\n",
       "  </thead>\n",
       "  <tbody>\n",
       "    <tr>\n",
       "      <th>1</th>\n",
       "      <td>NDXa172089750.U^A20</td>\n",
       "      <td>2019-12-02</td>\n",
       "      <td>2020-1-17</td>\n",
       "      <td>call</td>\n",
       "      <td>short</td>\n",
       "      <td>8975</td>\n",
       "      <td>8309.260</td>\n",
       "      <td>3.73</td>\n",
       "      <td>8.01</td>\n",
       "      <td>9173.733</td>\n",
       "      <td>373.0</td>\n",
       "      <td>-19873.300000000017</td>\n",
       "      <td>-19500.3</td>\n",
       "      <td>Exercised option</td>\n",
       "    </tr>\n",
       "    <tr>\n",
       "      <th>13</th>\n",
       "      <td>NDXm172074750.U^A20</td>\n",
       "      <td>2019-12-02</td>\n",
       "      <td>2020-1-17</td>\n",
       "      <td>put</td>\n",
       "      <td>long</td>\n",
       "      <td>7475</td>\n",
       "      <td>8309.260</td>\n",
       "      <td>31.65</td>\n",
       "      <td>10.04</td>\n",
       "      <td>9173.733</td>\n",
       "      <td>-3165.0</td>\n",
       "      <td>0</td>\n",
       "      <td>-3165.0</td>\n",
       "      <td>Expired worthless</td>\n",
       "    </tr>\n",
       "    <tr>\n",
       "      <th>2</th>\n",
       "      <td>NDXb212096000.U^B20</td>\n",
       "      <td>2020-01-02</td>\n",
       "      <td>2020-2-21</td>\n",
       "      <td>call</td>\n",
       "      <td>short</td>\n",
       "      <td>9600</td>\n",
       "      <td>8872.219</td>\n",
       "      <td>4.95</td>\n",
       "      <td>8.20</td>\n",
       "      <td>9446.688</td>\n",
       "      <td>495.0</td>\n",
       "      <td>0</td>\n",
       "      <td>495.0</td>\n",
       "      <td>Expired worthless</td>\n",
       "    </tr>\n",
       "    <tr>\n",
       "      <th>14</th>\n",
       "      <td>NDXn212080000.U^B20</td>\n",
       "      <td>2020-01-02</td>\n",
       "      <td>2020-2-21</td>\n",
       "      <td>put</td>\n",
       "      <td>long</td>\n",
       "      <td>8000</td>\n",
       "      <td>8872.219</td>\n",
       "      <td>31.36</td>\n",
       "      <td>9.83</td>\n",
       "      <td>9446.688</td>\n",
       "      <td>-3136.0</td>\n",
       "      <td>0</td>\n",
       "      <td>-3136.0</td>\n",
       "      <td>Expired worthless</td>\n",
       "    </tr>\n",
       "    <tr>\n",
       "      <th>3</th>\n",
       "      <td>NDXc202098500.U^C20</td>\n",
       "      <td>2020-02-03</td>\n",
       "      <td>2020-3-20</td>\n",
       "      <td>call</td>\n",
       "      <td>short</td>\n",
       "      <td>9850</td>\n",
       "      <td>9126.232</td>\n",
       "      <td>8.73</td>\n",
       "      <td>7.93</td>\n",
       "      <td>6994.291</td>\n",
       "      <td>873.0</td>\n",
       "      <td>0</td>\n",
       "      <td>873.0</td>\n",
       "      <td>Expired worthless</td>\n",
       "    </tr>\n",
       "    <tr>\n",
       "      <th>15</th>\n",
       "      <td>NDXo202082250.U^C20</td>\n",
       "      <td>2020-02-03</td>\n",
       "      <td>2020-3-20</td>\n",
       "      <td>put</td>\n",
       "      <td>long</td>\n",
       "      <td>8225</td>\n",
       "      <td>9126.232</td>\n",
       "      <td>55.30</td>\n",
       "      <td>9.88</td>\n",
       "      <td>6994.291</td>\n",
       "      <td>-5530.0</td>\n",
       "      <td>123070.89999999998</td>\n",
       "      <td>117540.9</td>\n",
       "      <td>Exercised option</td>\n",
       "    </tr>\n",
       "    <tr>\n",
       "      <th>4</th>\n",
       "      <td>NDXd172096000.U^D20</td>\n",
       "      <td>2020-03-02</td>\n",
       "      <td>2020-4-17</td>\n",
       "      <td>call</td>\n",
       "      <td>short</td>\n",
       "      <td>9600</td>\n",
       "      <td>8877.978</td>\n",
       "      <td>41.00</td>\n",
       "      <td>8.13</td>\n",
       "      <td>8832.414</td>\n",
       "      <td>4100.0</td>\n",
       "      <td>0</td>\n",
       "      <td>4100.0</td>\n",
       "      <td>Expired worthless</td>\n",
       "    </tr>\n",
       "    <tr>\n",
       "      <th>16</th>\n",
       "      <td>NDXp172079750.U^D20</td>\n",
       "      <td>2020-03-02</td>\n",
       "      <td>2020-4-17</td>\n",
       "      <td>put</td>\n",
       "      <td>long</td>\n",
       "      <td>7975</td>\n",
       "      <td>8877.978</td>\n",
       "      <td>252.98</td>\n",
       "      <td>10.17</td>\n",
       "      <td>8832.414</td>\n",
       "      <td>-25298.0</td>\n",
       "      <td>0</td>\n",
       "      <td>-25298.0</td>\n",
       "      <td>Expired worthless</td>\n",
       "    </tr>\n",
       "    <tr>\n",
       "      <th>5</th>\n",
       "      <td>NDXe152080750.U^E20</td>\n",
       "      <td>2020-04-01</td>\n",
       "      <td>2020-5-15</td>\n",
       "      <td>call</td>\n",
       "      <td>short</td>\n",
       "      <td>8075</td>\n",
       "      <td>7486.287</td>\n",
       "      <td>193.40</td>\n",
       "      <td>7.86</td>\n",
       "      <td>9152.639</td>\n",
       "      <td>19340.0</td>\n",
       "      <td>-107763.89999999992</td>\n",
       "      <td>-88423.9</td>\n",
       "      <td>Exercised option</td>\n",
       "    </tr>\n",
       "    <tr>\n",
       "      <th>17</th>\n",
       "      <td>NDXq152067250.U^E20</td>\n",
       "      <td>2020-04-01</td>\n",
       "      <td>2020-5-15</td>\n",
       "      <td>put</td>\n",
       "      <td>long</td>\n",
       "      <td>6725</td>\n",
       "      <td>7486.287</td>\n",
       "      <td>274.30</td>\n",
       "      <td>10.17</td>\n",
       "      <td>9152.639</td>\n",
       "      <td>-27430.0</td>\n",
       "      <td>0</td>\n",
       "      <td>-27430.0</td>\n",
       "      <td>Expired worthless</td>\n",
       "    </tr>\n",
       "    <tr>\n",
       "      <th>6</th>\n",
       "      <td>NDXf192094250.U^F20</td>\n",
       "      <td>2020-05-01</td>\n",
       "      <td>2020-6-19</td>\n",
       "      <td>call</td>\n",
       "      <td>short</td>\n",
       "      <td>9425</td>\n",
       "      <td>8718.179</td>\n",
       "      <td>107.90</td>\n",
       "      <td>8.11</td>\n",
       "      <td>10008.644</td>\n",
       "      <td>10790.0</td>\n",
       "      <td>-58364.40000000002</td>\n",
       "      <td>-47574.4</td>\n",
       "      <td>Exercised option</td>\n",
       "    </tr>\n",
       "    <tr>\n",
       "      <th>18</th>\n",
       "      <td>NDXr192078500.U^F20</td>\n",
       "      <td>2020-05-01</td>\n",
       "      <td>2020-6-19</td>\n",
       "      <td>put</td>\n",
       "      <td>long</td>\n",
       "      <td>7850</td>\n",
       "      <td>8718.179</td>\n",
       "      <td>182.35</td>\n",
       "      <td>9.96</td>\n",
       "      <td>10008.644</td>\n",
       "      <td>-18235.0</td>\n",
       "      <td>0</td>\n",
       "      <td>-18235.0</td>\n",
       "      <td>Expired worthless</td>\n",
       "    </tr>\n",
       "    <tr>\n",
       "      <th>19</th>\n",
       "      <td>NDXs172086500.U^G20</td>\n",
       "      <td>2020-06-01</td>\n",
       "      <td>2020-7-17</td>\n",
       "      <td>put</td>\n",
       "      <td>long</td>\n",
       "      <td>8650</td>\n",
       "      <td>9598.887</td>\n",
       "      <td>111.75</td>\n",
       "      <td>9.89</td>\n",
       "      <td>10645.220</td>\n",
       "      <td>-11175.0</td>\n",
       "      <td>0</td>\n",
       "      <td>-11175.0</td>\n",
       "      <td>Expired worthless</td>\n",
       "    </tr>\n",
       "    <tr>\n",
       "      <th>7</th>\n",
       "      <td>NDXg1720A0375.U^G20</td>\n",
       "      <td>2020-06-01</td>\n",
       "      <td>2020-7-17</td>\n",
       "      <td>call</td>\n",
       "      <td>short</td>\n",
       "      <td>10375</td>\n",
       "      <td>9598.887</td>\n",
       "      <td>43.40</td>\n",
       "      <td>8.09</td>\n",
       "      <td>10645.220</td>\n",
       "      <td>4340.0</td>\n",
       "      <td>-27021.999999999935</td>\n",
       "      <td>-22682.0</td>\n",
       "      <td>Exercised option</td>\n",
       "    </tr>\n",
       "    <tr>\n",
       "      <th>20</th>\n",
       "      <td>NDXt212092500.U^H20</td>\n",
       "      <td>2020-07-01</td>\n",
       "      <td>2020-8-21</td>\n",
       "      <td>put</td>\n",
       "      <td>long</td>\n",
       "      <td>9250</td>\n",
       "      <td>10279.248</td>\n",
       "      <td>143.20</td>\n",
       "      <td>10.01</td>\n",
       "      <td>11555.164</td>\n",
       "      <td>-14320.0</td>\n",
       "      <td>0</td>\n",
       "      <td>-14320.0</td>\n",
       "      <td>Expired worthless</td>\n",
       "    </tr>\n",
       "    <tr>\n",
       "      <th>8</th>\n",
       "      <td>NDXh2120A1100.U^H20</td>\n",
       "      <td>2020-07-01</td>\n",
       "      <td>2020-8-21</td>\n",
       "      <td>call</td>\n",
       "      <td>short</td>\n",
       "      <td>11100</td>\n",
       "      <td>10279.248</td>\n",
       "      <td>69.25</td>\n",
       "      <td>7.98</td>\n",
       "      <td>11555.164</td>\n",
       "      <td>6925.0</td>\n",
       "      <td>-45516.40000000007</td>\n",
       "      <td>-38591.4</td>\n",
       "      <td>Exercised option</td>\n",
       "    </tr>\n",
       "    <tr>\n",
       "      <th>21</th>\n",
       "      <td>NDXu182099500.U^I20</td>\n",
       "      <td>2020-08-03</td>\n",
       "      <td>2020-9-18</td>\n",
       "      <td>put</td>\n",
       "      <td>long</td>\n",
       "      <td>9950</td>\n",
       "      <td>11055.076</td>\n",
       "      <td>131.55</td>\n",
       "      <td>10.00</td>\n",
       "      <td>10936.982</td>\n",
       "      <td>-13155.0</td>\n",
       "      <td>0</td>\n",
       "      <td>-13155.0</td>\n",
       "      <td>Expired worthless</td>\n",
       "    </tr>\n",
       "    <tr>\n",
       "      <th>9</th>\n",
       "      <td>NDXi1820A1950.U^I20</td>\n",
       "      <td>2020-08-03</td>\n",
       "      <td>2020-9-18</td>\n",
       "      <td>call</td>\n",
       "      <td>short</td>\n",
       "      <td>11950</td>\n",
       "      <td>11055.076</td>\n",
       "      <td>66.25</td>\n",
       "      <td>8.10</td>\n",
       "      <td>10936.982</td>\n",
       "      <td>6625.0</td>\n",
       "      <td>0</td>\n",
       "      <td>6625.0</td>\n",
       "      <td>Expired worthless</td>\n",
       "    </tr>\n",
       "    <tr>\n",
       "      <th>22</th>\n",
       "      <td>NDXv1620A1075.U^J20</td>\n",
       "      <td>2020-09-01</td>\n",
       "      <td>2020-10-16</td>\n",
       "      <td>put</td>\n",
       "      <td>long</td>\n",
       "      <td>11075</td>\n",
       "      <td>12292.863</td>\n",
       "      <td>191.00</td>\n",
       "      <td>9.91</td>\n",
       "      <td>11852.168</td>\n",
       "      <td>-19100.0</td>\n",
       "      <td>0</td>\n",
       "      <td>-19100.0</td>\n",
       "      <td>Expired worthless</td>\n",
       "    </tr>\n",
       "    <tr>\n",
       "      <th>10</th>\n",
       "      <td>NDXj1620A3275.U^J20</td>\n",
       "      <td>2020-09-01</td>\n",
       "      <td>2020-10-16</td>\n",
       "      <td>call</td>\n",
       "      <td>short</td>\n",
       "      <td>13275</td>\n",
       "      <td>12292.863</td>\n",
       "      <td>158.70</td>\n",
       "      <td>7.99</td>\n",
       "      <td>11852.168</td>\n",
       "      <td>15870.0</td>\n",
       "      <td>0</td>\n",
       "      <td>15870.0</td>\n",
       "      <td>Expired worthless</td>\n",
       "    </tr>\n",
       "    <tr>\n",
       "      <th>23</th>\n",
       "      <td>NDXw2020A0425.U^K20</td>\n",
       "      <td>2020-10-01</td>\n",
       "      <td>2020-11-20</td>\n",
       "      <td>put</td>\n",
       "      <td>long</td>\n",
       "      <td>10425</td>\n",
       "      <td>11583.203</td>\n",
       "      <td>221.65</td>\n",
       "      <td>10.00</td>\n",
       "      <td>11906.441</td>\n",
       "      <td>-22165.0</td>\n",
       "      <td>0</td>\n",
       "      <td>-22165.0</td>\n",
       "      <td>Expired worthless</td>\n",
       "    </tr>\n",
       "    <tr>\n",
       "      <th>11</th>\n",
       "      <td>NDXk2020A2500.U^K20</td>\n",
       "      <td>2020-10-01</td>\n",
       "      <td>2020-11-20</td>\n",
       "      <td>call</td>\n",
       "      <td>short</td>\n",
       "      <td>12500</td>\n",
       "      <td>11583.203</td>\n",
       "      <td>187.50</td>\n",
       "      <td>7.91</td>\n",
       "      <td>11906.441</td>\n",
       "      <td>18750.0</td>\n",
       "      <td>0</td>\n",
       "      <td>18750.0</td>\n",
       "      <td>Expired worthless</td>\n",
       "    </tr>\n",
       "    <tr>\n",
       "      <th>12</th>\n",
       "      <td>NDXl1820A1975.U^L20</td>\n",
       "      <td>2020-11-02</td>\n",
       "      <td>2020-12-18</td>\n",
       "      <td>call</td>\n",
       "      <td>short</td>\n",
       "      <td>11975</td>\n",
       "      <td>11084.757</td>\n",
       "      <td>166.35</td>\n",
       "      <td>8.03</td>\n",
       "      <td>12738.181</td>\n",
       "      <td>16635.0</td>\n",
       "      <td>-76318.10000000005</td>\n",
       "      <td>-59683.1</td>\n",
       "      <td>Exercised option</td>\n",
       "    </tr>\n",
       "    <tr>\n",
       "      <th>24</th>\n",
       "      <td>NDXx182099750.U^L20</td>\n",
       "      <td>2020-11-02</td>\n",
       "      <td>2020-12-18</td>\n",
       "      <td>put</td>\n",
       "      <td>long</td>\n",
       "      <td>9975</td>\n",
       "      <td>11084.757</td>\n",
       "      <td>222.80</td>\n",
       "      <td>10.01</td>\n",
       "      <td>12738.181</td>\n",
       "      <td>-22280.0</td>\n",
       "      <td>0</td>\n",
       "      <td>-22280.0</td>\n",
       "      <td>Expired worthless</td>\n",
       "    </tr>\n",
       "  </tbody>\n",
       "</table>\n",
       "</div>"
      ],
      "text/plain": [
       "                    RIC Trans_Date    Exp_date Option type Position  Strike  \\\n",
       "1   NDXa172089750.U^A20 2019-12-02   2020-1-17        call    short    8975   \n",
       "13  NDXm172074750.U^A20 2019-12-02   2020-1-17         put     long    7475   \n",
       "2   NDXb212096000.U^B20 2020-01-02   2020-2-21        call    short    9600   \n",
       "14  NDXn212080000.U^B20 2020-01-02   2020-2-21         put     long    8000   \n",
       "3   NDXc202098500.U^C20 2020-02-03   2020-3-20        call    short    9850   \n",
       "15  NDXo202082250.U^C20 2020-02-03   2020-3-20         put     long    8225   \n",
       "4   NDXd172096000.U^D20 2020-03-02   2020-4-17        call    short    9600   \n",
       "16  NDXp172079750.U^D20 2020-03-02   2020-4-17         put     long    7975   \n",
       "5   NDXe152080750.U^E20 2020-04-01   2020-5-15        call    short    8075   \n",
       "17  NDXq152067250.U^E20 2020-04-01   2020-5-15         put     long    6725   \n",
       "6   NDXf192094250.U^F20 2020-05-01   2020-6-19        call    short    9425   \n",
       "18  NDXr192078500.U^F20 2020-05-01   2020-6-19         put     long    7850   \n",
       "19  NDXs172086500.U^G20 2020-06-01   2020-7-17         put     long    8650   \n",
       "7   NDXg1720A0375.U^G20 2020-06-01   2020-7-17        call    short   10375   \n",
       "20  NDXt212092500.U^H20 2020-07-01   2020-8-21         put     long    9250   \n",
       "8   NDXh2120A1100.U^H20 2020-07-01   2020-8-21        call    short   11100   \n",
       "21  NDXu182099500.U^I20 2020-08-03   2020-9-18         put     long    9950   \n",
       "9   NDXi1820A1950.U^I20 2020-08-03   2020-9-18        call    short   11950   \n",
       "22  NDXv1620A1075.U^J20 2020-09-01  2020-10-16         put     long   11075   \n",
       "10  NDXj1620A3275.U^J20 2020-09-01  2020-10-16        call    short   13275   \n",
       "23  NDXw2020A0425.U^K20 2020-10-01  2020-11-20         put     long   10425   \n",
       "11  NDXk2020A2500.U^K20 2020-10-01  2020-11-20        call    short   12500   \n",
       "12  NDXl1820A1975.U^L20 2020-11-02  2020-12-18        call    short   11975   \n",
       "24  NDXx182099750.U^L20 2020-11-02  2020-12-18         put     long    9975   \n",
       "\n",
       "    Price_Trans_Date  Option Price  OTM size  price_exp_date  Contract price  \\\n",
       "1           8309.260          3.73      8.01        9173.733           373.0   \n",
       "13          8309.260         31.65     10.04        9173.733         -3165.0   \n",
       "2           8872.219          4.95      8.20        9446.688           495.0   \n",
       "14          8872.219         31.36      9.83        9446.688         -3136.0   \n",
       "3           9126.232          8.73      7.93        6994.291           873.0   \n",
       "15          9126.232         55.30      9.88        6994.291         -5530.0   \n",
       "4           8877.978         41.00      8.13        8832.414          4100.0   \n",
       "16          8877.978        252.98     10.17        8832.414        -25298.0   \n",
       "5           7486.287        193.40      7.86        9152.639         19340.0   \n",
       "17          7486.287        274.30     10.17        9152.639        -27430.0   \n",
       "6           8718.179        107.90      8.11       10008.644         10790.0   \n",
       "18          8718.179        182.35      9.96       10008.644        -18235.0   \n",
       "19          9598.887        111.75      9.89       10645.220        -11175.0   \n",
       "7           9598.887         43.40      8.09       10645.220          4340.0   \n",
       "20         10279.248        143.20     10.01       11555.164        -14320.0   \n",
       "8          10279.248         69.25      7.98       11555.164          6925.0   \n",
       "21         11055.076        131.55     10.00       10936.982        -13155.0   \n",
       "9          11055.076         66.25      8.10       10936.982          6625.0   \n",
       "22         12292.863        191.00      9.91       11852.168        -19100.0   \n",
       "10         12292.863        158.70      7.99       11852.168         15870.0   \n",
       "23         11583.203        221.65     10.00       11906.441        -22165.0   \n",
       "11         11583.203        187.50      7.91       11906.441         18750.0   \n",
       "12         11084.757        166.35      8.03       12738.181         16635.0   \n",
       "24         11084.757        222.80     10.01       12738.181        -22280.0   \n",
       "\n",
       "       Exercise outcome  Total Profit/Loss            Outcome  \n",
       "1   -19873.300000000017           -19500.3   Exercised option  \n",
       "13                    0            -3165.0  Expired worthless  \n",
       "2                     0              495.0  Expired worthless  \n",
       "14                    0            -3136.0  Expired worthless  \n",
       "3                     0              873.0  Expired worthless  \n",
       "15   123070.89999999998           117540.9   Exercised option  \n",
       "4                     0             4100.0  Expired worthless  \n",
       "16                    0           -25298.0  Expired worthless  \n",
       "5   -107763.89999999992           -88423.9   Exercised option  \n",
       "17                    0           -27430.0  Expired worthless  \n",
       "6    -58364.40000000002           -47574.4   Exercised option  \n",
       "18                    0           -18235.0  Expired worthless  \n",
       "19                    0           -11175.0  Expired worthless  \n",
       "7   -27021.999999999935           -22682.0   Exercised option  \n",
       "20                    0           -14320.0  Expired worthless  \n",
       "8    -45516.40000000007           -38591.4   Exercised option  \n",
       "21                    0           -13155.0  Expired worthless  \n",
       "9                     0             6625.0  Expired worthless  \n",
       "22                    0           -19100.0  Expired worthless  \n",
       "10                    0            15870.0  Expired worthless  \n",
       "23                    0           -22165.0  Expired worthless  \n",
       "11                    0            18750.0  Expired worthless  \n",
       "12   -76318.10000000005           -59683.1   Exercised option  \n",
       "24                    0           -22280.0  Expired worthless  "
      ]
     },
     "execution_count": 32,
     "metadata": {},
     "output_type": "execute_result"
    }
   ],
   "source": [
    "results = strategy_outcome(call_trans, put_trans)\n",
    "results = results.sort_values(by = ['Trans_Date'])\n",
    "results"
   ]
  },
  {
   "cell_type": "code",
   "execution_count": 33,
   "id": "38a13a15-1c6d-4408-8927-7de7940dc433",
   "metadata": {},
   "outputs": [
    {
     "data": {
      "text/html": [
       "<div>\n",
       "<style scoped>\n",
       "    .dataframe tbody tr th:only-of-type {\n",
       "        vertical-align: middle;\n",
       "    }\n",
       "\n",
       "    .dataframe tbody tr th {\n",
       "        vertical-align: top;\n",
       "    }\n",
       "\n",
       "    .dataframe thead th {\n",
       "        text-align: right;\n",
       "    }\n",
       "</style>\n",
       "<table border=\"1\" class=\"dataframe\">\n",
       "  <thead>\n",
       "    <tr style=\"text-align: right;\">\n",
       "      <th></th>\n",
       "      <th>Trans_Date</th>\n",
       "      <th>Exp_date</th>\n",
       "      <th>Total Profit/Loss</th>\n",
       "    </tr>\n",
       "  </thead>\n",
       "  <tbody>\n",
       "    <tr>\n",
       "      <th>0</th>\n",
       "      <td>2019-12-02</td>\n",
       "      <td>2020-1-17</td>\n",
       "      <td>-22665.3</td>\n",
       "    </tr>\n",
       "    <tr>\n",
       "      <th>1</th>\n",
       "      <td>2020-01-02</td>\n",
       "      <td>2020-2-21</td>\n",
       "      <td>-2641.0</td>\n",
       "    </tr>\n",
       "    <tr>\n",
       "      <th>2</th>\n",
       "      <td>2020-02-03</td>\n",
       "      <td>2020-3-20</td>\n",
       "      <td>118413.9</td>\n",
       "    </tr>\n",
       "    <tr>\n",
       "      <th>3</th>\n",
       "      <td>2020-03-02</td>\n",
       "      <td>2020-4-17</td>\n",
       "      <td>-21198.0</td>\n",
       "    </tr>\n",
       "    <tr>\n",
       "      <th>4</th>\n",
       "      <td>2020-04-01</td>\n",
       "      <td>2020-5-15</td>\n",
       "      <td>-115853.9</td>\n",
       "    </tr>\n",
       "    <tr>\n",
       "      <th>5</th>\n",
       "      <td>2020-05-01</td>\n",
       "      <td>2020-6-19</td>\n",
       "      <td>-65809.4</td>\n",
       "    </tr>\n",
       "    <tr>\n",
       "      <th>6</th>\n",
       "      <td>2020-06-01</td>\n",
       "      <td>2020-7-17</td>\n",
       "      <td>-33857.0</td>\n",
       "    </tr>\n",
       "    <tr>\n",
       "      <th>7</th>\n",
       "      <td>2020-07-01</td>\n",
       "      <td>2020-8-21</td>\n",
       "      <td>-52911.4</td>\n",
       "    </tr>\n",
       "    <tr>\n",
       "      <th>8</th>\n",
       "      <td>2020-08-03</td>\n",
       "      <td>2020-9-18</td>\n",
       "      <td>-6530.0</td>\n",
       "    </tr>\n",
       "    <tr>\n",
       "      <th>9</th>\n",
       "      <td>2020-09-01</td>\n",
       "      <td>2020-10-16</td>\n",
       "      <td>-3230.0</td>\n",
       "    </tr>\n",
       "    <tr>\n",
       "      <th>10</th>\n",
       "      <td>2020-10-01</td>\n",
       "      <td>2020-11-20</td>\n",
       "      <td>-3415.0</td>\n",
       "    </tr>\n",
       "    <tr>\n",
       "      <th>11</th>\n",
       "      <td>2020-11-02</td>\n",
       "      <td>2020-12-18</td>\n",
       "      <td>-81963.1</td>\n",
       "    </tr>\n",
       "  </tbody>\n",
       "</table>\n",
       "</div>"
      ],
      "text/plain": [
       "   Trans_Date    Exp_date  Total Profit/Loss\n",
       "0  2019-12-02   2020-1-17           -22665.3\n",
       "1  2020-01-02   2020-2-21            -2641.0\n",
       "2  2020-02-03   2020-3-20           118413.9\n",
       "3  2020-03-02   2020-4-17           -21198.0\n",
       "4  2020-04-01   2020-5-15          -115853.9\n",
       "5  2020-05-01   2020-6-19           -65809.4\n",
       "6  2020-06-01   2020-7-17           -33857.0\n",
       "7  2020-07-01   2020-8-21           -52911.4\n",
       "8  2020-08-03   2020-9-18            -6530.0\n",
       "9  2020-09-01  2020-10-16            -3230.0\n",
       "10 2020-10-01  2020-11-20            -3415.0\n",
       "11 2020-11-02  2020-12-18           -81963.1"
      ]
     },
     "execution_count": 33,
     "metadata": {},
     "output_type": "execute_result"
    }
   ],
   "source": [
    "agg_prof = results.groupby(by = ['Trans_Date', 'Exp_date'])['Total Profit/Loss'].sum().reset_index()\n",
    "agg_prof"
   ]
  },
  {
   "cell_type": "markdown",
   "id": "17a95470-f8d1-49cc-a98a-09179fded253",
   "metadata": {
    "tags": []
   },
   "source": [
    "### 5.Implement options strategies"
   ]
  },
  {
   "cell_type": "code",
   "execution_count": 9,
   "id": "ba3bbfa3-0442-4648-9788-17f7b57ec2c1",
   "metadata": {},
   "outputs": [
    {
     "data": {
      "text/html": [
       "<div>\n",
       "<style scoped>\n",
       "    .dataframe tbody tr th:only-of-type {\n",
       "        vertical-align: middle;\n",
       "    }\n",
       "\n",
       "    .dataframe tbody tr th {\n",
       "        vertical-align: top;\n",
       "    }\n",
       "\n",
       "    .dataframe thead th {\n",
       "        text-align: right;\n",
       "    }\n",
       "</style>\n",
       "<table border=\"1\" class=\"dataframe\">\n",
       "  <thead>\n",
       "    <tr style=\"text-align: right;\">\n",
       "      <th></th>\n",
       "      <th>RIC</th>\n",
       "      <th>Trans_Date</th>\n",
       "      <th>Exp_date</th>\n",
       "      <th>Option type</th>\n",
       "      <th>Position</th>\n",
       "      <th>Strike</th>\n",
       "      <th>Price_Trans_Date</th>\n",
       "      <th>Option Price</th>\n",
       "      <th>OTM size</th>\n",
       "      <th>price_exp_date</th>\n",
       "      <th>Contract price</th>\n",
       "      <th>Exercise outcome</th>\n",
       "      <th>Total Profit/Loss</th>\n",
       "      <th>Outcome</th>\n",
       "    </tr>\n",
       "  </thead>\n",
       "  <tbody>\n",
       "    <tr>\n",
       "      <th>1</th>\n",
       "      <td>NDXb201546500.U^B15</td>\n",
       "      <td>2015-01-02</td>\n",
       "      <td>2015-2-20</td>\n",
       "      <td>call</td>\n",
       "      <td>short</td>\n",
       "      <td>4650</td>\n",
       "      <td>4230.237</td>\n",
       "      <td>1.90</td>\n",
       "      <td>9.92</td>\n",
       "      <td>4443.053</td>\n",
       "      <td>190.0</td>\n",
       "      <td>0</td>\n",
       "      <td>190.0</td>\n",
       "      <td>Expired worthless</td>\n",
       "    </tr>\n",
       "    <tr>\n",
       "      <th>10</th>\n",
       "      <td>NDXn201533750.U^B15</td>\n",
       "      <td>2015-01-02</td>\n",
       "      <td>2015-2-20</td>\n",
       "      <td>put</td>\n",
       "      <td>long</td>\n",
       "      <td>3375</td>\n",
       "      <td>4230.237</td>\n",
       "      <td>5.85</td>\n",
       "      <td>20.22</td>\n",
       "      <td>4443.053</td>\n",
       "      <td>-585.0</td>\n",
       "      <td>0</td>\n",
       "      <td>-585.0</td>\n",
       "      <td>Expired worthless</td>\n",
       "    </tr>\n",
       "    <tr>\n",
       "      <th>2</th>\n",
       "      <td>NDXc201546000.U^C15</td>\n",
       "      <td>2015-02-02</td>\n",
       "      <td>2015-3-20</td>\n",
       "      <td>call</td>\n",
       "      <td>short</td>\n",
       "      <td>4600</td>\n",
       "      <td>4188.586</td>\n",
       "      <td>2.00</td>\n",
       "      <td>9.82</td>\n",
       "      <td>4458.538</td>\n",
       "      <td>200.0</td>\n",
       "      <td>0</td>\n",
       "      <td>200.0</td>\n",
       "      <td>Expired worthless</td>\n",
       "    </tr>\n",
       "    <tr>\n",
       "      <th>11</th>\n",
       "      <td>NDXo201533500.U^C15</td>\n",
       "      <td>2015-02-02</td>\n",
       "      <td>2015-3-20</td>\n",
       "      <td>put</td>\n",
       "      <td>long</td>\n",
       "      <td>3350</td>\n",
       "      <td>4188.586</td>\n",
       "      <td>6.25</td>\n",
       "      <td>20.02</td>\n",
       "      <td>4458.538</td>\n",
       "      <td>-625.0</td>\n",
       "      <td>0</td>\n",
       "      <td>-625.0</td>\n",
       "      <td>Expired worthless</td>\n",
       "    </tr>\n",
       "    <tr>\n",
       "      <th>5</th>\n",
       "      <td>NDXo201537750.U^C15</td>\n",
       "      <td>2015-02-02</td>\n",
       "      <td>2015-3-20</td>\n",
       "      <td>put</td>\n",
       "      <td>short</td>\n",
       "      <td>3775</td>\n",
       "      <td>4188.586</td>\n",
       "      <td>31.75</td>\n",
       "      <td>9.87</td>\n",
       "      <td>4458.538</td>\n",
       "      <td>3175.0</td>\n",
       "      <td>0</td>\n",
       "      <td>3175.0</td>\n",
       "      <td>Expired worthless</td>\n",
       "    </tr>\n",
       "    <tr>\n",
       "      <th>...</th>\n",
       "      <td>...</td>\n",
       "      <td>...</td>\n",
       "      <td>...</td>\n",
       "      <td>...</td>\n",
       "      <td>...</td>\n",
       "      <td>...</td>\n",
       "      <td>...</td>\n",
       "      <td>...</td>\n",
       "      <td>...</td>\n",
       "      <td>...</td>\n",
       "      <td>...</td>\n",
       "      <td>...</td>\n",
       "      <td>...</td>\n",
       "      <td>...</td>\n",
       "    </tr>\n",
       "    <tr>\n",
       "      <th>17</th>\n",
       "      <td>NDXt2021A3100.U^H21</td>\n",
       "      <td>2021-07-01</td>\n",
       "      <td>2021-8-20</td>\n",
       "      <td>put</td>\n",
       "      <td>short</td>\n",
       "      <td>13100</td>\n",
       "      <td>14560.054</td>\n",
       "      <td>82.20</td>\n",
       "      <td>10.03</td>\n",
       "      <td>15092.568</td>\n",
       "      <td>8220.0</td>\n",
       "      <td>0</td>\n",
       "      <td>8220.0</td>\n",
       "      <td>Expired worthless</td>\n",
       "    </tr>\n",
       "    <tr>\n",
       "      <th>9</th>\n",
       "      <td>NDXi1721A6450.U^I21</td>\n",
       "      <td>2021-08-02</td>\n",
       "      <td>2021-9-17</td>\n",
       "      <td>call</td>\n",
       "      <td>short</td>\n",
       "      <td>16450</td>\n",
       "      <td>14963.624</td>\n",
       "      <td>11.90</td>\n",
       "      <td>9.93</td>\n",
       "      <td>15333.471</td>\n",
       "      <td>1190.0</td>\n",
       "      <td>0</td>\n",
       "      <td>1190.0</td>\n",
       "      <td>Expired worthless</td>\n",
       "    </tr>\n",
       "    <tr>\n",
       "      <th>9</th>\n",
       "      <td>NDXi1721A7950.U^I21</td>\n",
       "      <td>2021-08-02</td>\n",
       "      <td>2021-9-17</td>\n",
       "      <td>call</td>\n",
       "      <td>long</td>\n",
       "      <td>17950</td>\n",
       "      <td>14963.624</td>\n",
       "      <td>1.15</td>\n",
       "      <td>19.96</td>\n",
       "      <td>15333.471</td>\n",
       "      <td>-115.0</td>\n",
       "      <td>0</td>\n",
       "      <td>-115.0</td>\n",
       "      <td>Expired worthless</td>\n",
       "    </tr>\n",
       "    <tr>\n",
       "      <th>18</th>\n",
       "      <td>NDXu1721A1975.U^I21</td>\n",
       "      <td>2021-08-02</td>\n",
       "      <td>2021-9-17</td>\n",
       "      <td>put</td>\n",
       "      <td>long</td>\n",
       "      <td>11975</td>\n",
       "      <td>14963.624</td>\n",
       "      <td>28.50</td>\n",
       "      <td>19.97</td>\n",
       "      <td>15333.471</td>\n",
       "      <td>-2850.0</td>\n",
       "      <td>0</td>\n",
       "      <td>-2850.0</td>\n",
       "      <td>Expired worthless</td>\n",
       "    </tr>\n",
       "    <tr>\n",
       "      <th>18</th>\n",
       "      <td>NDXu1721A3475.U^I21</td>\n",
       "      <td>2021-08-02</td>\n",
       "      <td>2021-9-17</td>\n",
       "      <td>put</td>\n",
       "      <td>short</td>\n",
       "      <td>13475</td>\n",
       "      <td>14963.624</td>\n",
       "      <td>92.55</td>\n",
       "      <td>9.95</td>\n",
       "      <td>15333.471</td>\n",
       "      <td>9255.0</td>\n",
       "      <td>0</td>\n",
       "      <td>9255.0</td>\n",
       "      <td>Expired worthless</td>\n",
       "    </tr>\n",
       "  </tbody>\n",
       "</table>\n",
       "<p>240 rows × 14 columns</p>\n",
       "</div>"
      ],
      "text/plain": [
       "                    RIC Trans_Date   Exp_date Option type Position  Strike  \\\n",
       "1   NDXb201546500.U^B15 2015-01-02  2015-2-20        call    short    4650   \n",
       "10  NDXn201533750.U^B15 2015-01-02  2015-2-20         put     long    3375   \n",
       "2   NDXc201546000.U^C15 2015-02-02  2015-3-20        call    short    4600   \n",
       "11  NDXo201533500.U^C15 2015-02-02  2015-3-20         put     long    3350   \n",
       "5   NDXo201537750.U^C15 2015-02-02  2015-3-20         put    short    3775   \n",
       "..                  ...        ...        ...         ...      ...     ...   \n",
       "17  NDXt2021A3100.U^H21 2021-07-01  2021-8-20         put    short   13100   \n",
       "9   NDXi1721A6450.U^I21 2021-08-02  2021-9-17        call    short   16450   \n",
       "9   NDXi1721A7950.U^I21 2021-08-02  2021-9-17        call     long   17950   \n",
       "18  NDXu1721A1975.U^I21 2021-08-02  2021-9-17         put     long   11975   \n",
       "18  NDXu1721A3475.U^I21 2021-08-02  2021-9-17         put    short   13475   \n",
       "\n",
       "    Price_Trans_Date  Option Price  OTM size  price_exp_date  Contract price  \\\n",
       "1           4230.237          1.90      9.92        4443.053           190.0   \n",
       "10          4230.237          5.85     20.22        4443.053          -585.0   \n",
       "2           4188.586          2.00      9.82        4458.538           200.0   \n",
       "11          4188.586          6.25     20.02        4458.538          -625.0   \n",
       "5           4188.586         31.75      9.87        4458.538          3175.0   \n",
       "..               ...           ...       ...             ...             ...   \n",
       "17         14560.054         82.20     10.03       15092.568          8220.0   \n",
       "9          14963.624         11.90      9.93       15333.471          1190.0   \n",
       "9          14963.624          1.15     19.96       15333.471          -115.0   \n",
       "18         14963.624         28.50     19.97       15333.471         -2850.0   \n",
       "18         14963.624         92.55      9.95       15333.471          9255.0   \n",
       "\n",
       "   Exercise outcome  Total Profit/Loss            Outcome  \n",
       "1                 0              190.0  Expired worthless  \n",
       "10                0             -585.0  Expired worthless  \n",
       "2                 0              200.0  Expired worthless  \n",
       "11                0             -625.0  Expired worthless  \n",
       "5                 0             3175.0  Expired worthless  \n",
       "..              ...                ...                ...  \n",
       "17                0             8220.0  Expired worthless  \n",
       "9                 0             1190.0  Expired worthless  \n",
       "9                 0             -115.0  Expired worthless  \n",
       "18                0            -2850.0  Expired worthless  \n",
       "18                0             9255.0  Expired worthless  \n",
       "\n",
       "[240 rows x 14 columns]"
      ]
     },
     "execution_count": 9,
     "metadata": {},
     "output_type": "execute_result"
    }
   ],
   "source": [
    "#short Iron Condor strategy with 10/20 OTM size. \n",
    "#This code is running for an approximatly 20 minutes. For your ease you can read already retrieved data from excel\n",
    "#instead of runing this code. Both 5%/10% and 10%/20% strategies are implemented and the data are available in the github folder.\n",
    "short_IC10_20 = pd.DataFrame()\n",
    "\n",
    "for d in range(2015, 2022):\n",
    "    call_trans10_20, put_trans10_20 = pair_trans(d, 10, 20, 'short', 'long')\n",
    "    results10_20 = strategy_outcome(call_trans10_20, put_trans10_20)\n",
    "    short_IC10_20 = short_IC10_20.append(results10_20)\n",
    "    \n",
    "    call_trans20_10, put_trans20_10 = pair_trans(d, 20, 10, 'long', 'short')\n",
    "    results20_10 = strategy_outcome(call_trans20_10, put_trans20_10)\n",
    "    short_IC10_20 = short_IC10_20.append(results20_10)\n",
    "\n",
    "short_IC10_20 = short_IC10_20.sort_values(by = ['Trans_Date'])\n",
    "short_IC10_20"
   ]
  },
  {
   "cell_type": "code",
   "execution_count": 10,
   "id": "11248c61-24de-4387-b5f4-3518081aae9b",
   "metadata": {},
   "outputs": [],
   "source": [
    "short_IC10_20.to_excel('short_IC10_20.xlsx')"
   ]
  },
  {
   "cell_type": "code",
   "execution_count": null,
   "id": "949b404a-273f-4168-98d3-fb2d18209f6e",
   "metadata": {},
   "outputs": [],
   "source": [
    "#short Iron Condor strategy with 5/10 OTM size. \n",
    "short_IC5_10 = pd.DataFrame()\n",
    "\n",
    "for d in range(2015, 2022):\n",
    "    call_trans5_10, put_trans5_10 = pair_trans(d, 5, 10, 'short', 'long')\n",
    "    results5_10 = strategy_outcome(call_trans5_10, put_trans5_10)\n",
    "    short_IC5_10 = short_IC5_10.append(results5_10)\n",
    "    \n",
    "    call_trans10_5, put_trans10_5 = pair_trans(d, 10, 5, 'long', 'short')\n",
    "    results10_5 = strategy_outcome(call_trans10_5, put_trans10_5)\n",
    "    short_IC5_10 = short_IC5_10.append(results10_5)\n",
    "\n",
    "short_IC_5_10 = short_IC_5_10.sort_values(by = ['Trans_Date'])"
   ]
  },
  {
   "cell_type": "code",
   "execution_count": null,
   "id": "f8c9df3f-34b1-48ce-b2ab-9199f7a6cb76",
   "metadata": {},
   "outputs": [],
   "source": [
    "short_IC_5_10.to_excel('short_IC_5_10.xlsx')"
   ]
  },
  {
   "cell_type": "markdown",
   "id": "08761afc-ef20-4435-afd8-9e1f7b67da61",
   "metadata": {},
   "source": [
    "### 6.Visualize the results"
   ]
  },
  {
   "cell_type": "markdown",
   "id": "72608ca8-301d-4a5b-a7da-3aa520169e87",
   "metadata": {},
   "source": [
    "Here we visualize results from iron condor strategy with 5/10% OTM size as it has more data (due to high liquidity of option market in 5/10 OTM). However, we provide the retrieved data for iron condor strategy with 10/20 OTM in the github folder. The belowmentioned codes could be easily adjusted to visualize that as well. You would just need to change the initial dataframe name (short_IC_5_10) to the one for 10/20 data (short_IC_10_20)."
   ]
  },
  {
   "cell_type": "code",
   "execution_count": 22,
   "id": "2d7b90f8-0fd0-430e-9afb-0b7b82bd8cc2",
   "metadata": {},
   "outputs": [],
   "source": [
    "# short_IC10_20 = pd.read_excel('short_IC10_20.xlsx')\n",
    "short_IC_5_10 = pd.read_excel('short_IC_5_10.xlsx')"
   ]
  },
  {
   "cell_type": "code",
   "execution_count": 23,
   "id": "6d13a6d9-e553-4f51-93f9-106f817bcd94",
   "metadata": {},
   "outputs": [
    {
     "name": "stdout",
     "output_type": "stream",
     "text": [
      "Data for 2015-08-03 00:00:00 has been removed because of unavailble option pair\n",
      "Data for 2015-08-03 00:00:00 has been removed because of unavailble option pair\n",
      "Data for 2016-04-01 00:00:00 has been removed because of unavailble option pair\n",
      "Data for 2016-04-01 00:00:00 has been removed because of unavailble option pair\n",
      "Data for 2016-07-01 00:00:00 has been removed because of unavailble option pair\n",
      "Data for 2016-07-01 00:00:00 has been removed because of unavailble option pair\n",
      "Data for 2016-10-03 00:00:00 has been removed because of unavailble option pair\n",
      "Data for 2016-10-03 00:00:00 has been removed because of unavailble option pair\n",
      "Data for 2018-01-02 00:00:00 has been removed because of unavailble option pair\n",
      "Data for 2018-01-02 00:00:00 has been removed because of unavailble option pair\n"
     ]
    },
    {
     "data": {
      "text/html": [
       "<div>\n",
       "<style scoped>\n",
       "    .dataframe tbody tr th:only-of-type {\n",
       "        vertical-align: middle;\n",
       "    }\n",
       "\n",
       "    .dataframe tbody tr th {\n",
       "        vertical-align: top;\n",
       "    }\n",
       "\n",
       "    .dataframe thead th {\n",
       "        text-align: right;\n",
       "    }\n",
       "</style>\n",
       "<table border=\"1\" class=\"dataframe\">\n",
       "  <thead>\n",
       "    <tr style=\"text-align: right;\">\n",
       "      <th></th>\n",
       "      <th>index</th>\n",
       "      <th>RIC</th>\n",
       "      <th>Option type</th>\n",
       "      <th>Position</th>\n",
       "      <th>Strike</th>\n",
       "      <th>Trans_Date</th>\n",
       "      <th>Price_Trans_Date</th>\n",
       "      <th>Exp_date</th>\n",
       "      <th>Option Price</th>\n",
       "      <th>OTM size</th>\n",
       "      <th>price_exp_date</th>\n",
       "      <th>Contract price</th>\n",
       "      <th>Exercise outcome</th>\n",
       "      <th>Total Profit/Loss</th>\n",
       "      <th>Outcome</th>\n",
       "      <th>Year</th>\n",
       "    </tr>\n",
       "  </thead>\n",
       "  <tbody>\n",
       "    <tr>\n",
       "      <th>0</th>\n",
       "      <td>0</td>\n",
       "      <td>NDXb201544500.U^B15</td>\n",
       "      <td>call</td>\n",
       "      <td>short</td>\n",
       "      <td>4450</td>\n",
       "      <td>2015-01-02</td>\n",
       "      <td>4230.237</td>\n",
       "      <td>2015-2-20</td>\n",
       "      <td>14.61</td>\n",
       "      <td>5.20</td>\n",
       "      <td>4443.053</td>\n",
       "      <td>1461.0</td>\n",
       "      <td>0.0</td>\n",
       "      <td>1461.0</td>\n",
       "      <td>Expired worthless</td>\n",
       "      <td>2015</td>\n",
       "    </tr>\n",
       "    <tr>\n",
       "      <th>1</th>\n",
       "      <td>1</td>\n",
       "      <td>NDXn201538000.U^B15</td>\n",
       "      <td>put</td>\n",
       "      <td>long</td>\n",
       "      <td>3800</td>\n",
       "      <td>2015-01-02</td>\n",
       "      <td>4230.237</td>\n",
       "      <td>2015-2-20</td>\n",
       "      <td>21.07</td>\n",
       "      <td>10.17</td>\n",
       "      <td>4443.053</td>\n",
       "      <td>-2107.0</td>\n",
       "      <td>0.0</td>\n",
       "      <td>-2107.0</td>\n",
       "      <td>Expired worthless</td>\n",
       "      <td>2015</td>\n",
       "    </tr>\n",
       "    <tr>\n",
       "      <th>2</th>\n",
       "      <td>2</td>\n",
       "      <td>NDXb201546500.U^B15</td>\n",
       "      <td>call</td>\n",
       "      <td>long</td>\n",
       "      <td>4650</td>\n",
       "      <td>2015-01-02</td>\n",
       "      <td>4230.237</td>\n",
       "      <td>2015-2-20</td>\n",
       "      <td>1.90</td>\n",
       "      <td>9.92</td>\n",
       "      <td>4443.053</td>\n",
       "      <td>-190.0</td>\n",
       "      <td>0.0</td>\n",
       "      <td>-190.0</td>\n",
       "      <td>Expired worthless</td>\n",
       "      <td>2015</td>\n",
       "    </tr>\n",
       "    <tr>\n",
       "      <th>3</th>\n",
       "      <td>3</td>\n",
       "      <td>NDXn201540250.U^B15</td>\n",
       "      <td>put</td>\n",
       "      <td>short</td>\n",
       "      <td>4025</td>\n",
       "      <td>2015-01-02</td>\n",
       "      <td>4230.237</td>\n",
       "      <td>2015-2-20</td>\n",
       "      <td>52.20</td>\n",
       "      <td>4.85</td>\n",
       "      <td>4443.053</td>\n",
       "      <td>5220.0</td>\n",
       "      <td>0.0</td>\n",
       "      <td>5220.0</td>\n",
       "      <td>Expired worthless</td>\n",
       "      <td>2015</td>\n",
       "    </tr>\n",
       "    <tr>\n",
       "      <th>4</th>\n",
       "      <td>4</td>\n",
       "      <td>NDXc201544000.U^C15</td>\n",
       "      <td>call</td>\n",
       "      <td>short</td>\n",
       "      <td>4400</td>\n",
       "      <td>2015-02-02</td>\n",
       "      <td>4188.586</td>\n",
       "      <td>2015-3-20</td>\n",
       "      <td>15.40</td>\n",
       "      <td>5.05</td>\n",
       "      <td>4458.538</td>\n",
       "      <td>1540.0</td>\n",
       "      <td>-5853.8</td>\n",
       "      <td>-4313.8</td>\n",
       "      <td>Exercised option</td>\n",
       "      <td>2015</td>\n",
       "    </tr>\n",
       "  </tbody>\n",
       "</table>\n",
       "</div>"
      ],
      "text/plain": [
       "   index                  RIC Option type Position  Strike Trans_Date  \\\n",
       "0      0  NDXb201544500.U^B15        call    short    4450 2015-01-02   \n",
       "1      1  NDXn201538000.U^B15         put     long    3800 2015-01-02   \n",
       "2      2  NDXb201546500.U^B15        call     long    4650 2015-01-02   \n",
       "3      3  NDXn201540250.U^B15         put    short    4025 2015-01-02   \n",
       "4      4  NDXc201544000.U^C15        call    short    4400 2015-02-02   \n",
       "\n",
       "   Price_Trans_Date   Exp_date  Option Price  OTM size  price_exp_date  \\\n",
       "0          4230.237  2015-2-20         14.61      5.20        4443.053   \n",
       "1          4230.237  2015-2-20         21.07     10.17        4443.053   \n",
       "2          4230.237  2015-2-20          1.90      9.92        4443.053   \n",
       "3          4230.237  2015-2-20         52.20      4.85        4443.053   \n",
       "4          4188.586  2015-3-20         15.40      5.05        4458.538   \n",
       "\n",
       "   Contract price  Exercise outcome  Total Profit/Loss            Outcome  \\\n",
       "0          1461.0               0.0             1461.0  Expired worthless   \n",
       "1         -2107.0               0.0            -2107.0  Expired worthless   \n",
       "2          -190.0               0.0             -190.0  Expired worthless   \n",
       "3          5220.0               0.0             5220.0  Expired worthless   \n",
       "4          1540.0           -5853.8            -4313.8   Exercised option   \n",
       "\n",
       "   Year  \n",
       "0  2015  \n",
       "1  2015  \n",
       "2  2015  \n",
       "3  2015  \n",
       "4  2015  "
      ]
     },
     "execution_count": 23,
     "metadata": {},
     "output_type": "execute_result"
    }
   ],
   "source": [
    "for date in short_IC_5_10['Trans_Date']:\n",
    "    if short_IC_5_10[short_IC_5_10['Trans_Date'] == date].shape[0] < 4:\n",
    "        short_IC_5_10.drop(short_IC_5_10.loc[short_IC_5_10['Trans_Date'] == date].index, inplace=True)\n",
    "        print(f'Data for {date} has been removed because of unavailble option pair')\n",
    "        \n",
    "short_IC_5_10.reset_index(inplace=True)\n",
    "short_IC_5_10.insert(loc = len(short_IC_5_10.columns), column = 'Year', value = [short_IC_5_10['Trans_Date'][j].year for j in range(len(short_IC_5_10))])\n",
    "short_IC_5_10.head()"
   ]
  },
  {
   "cell_type": "code",
   "execution_count": 25,
   "id": "e18a2581-ccca-4c9a-b8a9-99fb3963dceb",
   "metadata": {},
   "outputs": [
    {
     "data": {
      "application/vnd.plotly.v1+json": {
       "config": {
        "plotlyServerURL": "https://plot.ly"
       },
       "data": [
        {
         "name": "Total Profit",
         "type": "bar",
         "x": [
          "2015-01-02T00:00:00",
          "2015-02-02T00:00:00",
          "2015-03-02T00:00:00",
          "2015-04-01T00:00:00",
          "2015-05-01T00:00:00",
          "2015-06-01T00:00:00",
          "2015-07-01T00:00:00",
          "2015-09-01T00:00:00",
          "2015-10-01T00:00:00",
          "2015-12-01T00:00:00",
          "2016-01-04T00:00:00",
          "2016-02-01T00:00:00",
          "2016-03-01T00:00:00",
          "2016-05-02T00:00:00",
          "2016-06-01T00:00:00",
          "2016-08-01T00:00:00",
          "2016-09-01T00:00:00",
          "2016-11-01T00:00:00",
          "2016-12-01T00:00:00",
          "2017-01-03T00:00:00",
          "2017-02-01T00:00:00",
          "2017-03-01T00:00:00",
          "2017-04-03T00:00:00",
          "2017-05-01T00:00:00",
          "2017-06-01T00:00:00",
          "2017-07-03T00:00:00",
          "2017-08-01T00:00:00",
          "2017-09-01T00:00:00",
          "2017-10-02T00:00:00",
          "2017-11-01T00:00:00",
          "2017-12-01T00:00:00",
          "2018-02-01T00:00:00",
          "2018-03-01T00:00:00",
          "2018-04-02T00:00:00",
          "2018-05-01T00:00:00",
          "2018-06-01T00:00:00",
          "2018-07-02T00:00:00",
          "2018-08-01T00:00:00",
          "2018-09-04T00:00:00",
          "2018-10-01T00:00:00",
          "2018-11-01T00:00:00",
          "2018-12-03T00:00:00",
          "2019-01-02T00:00:00",
          "2019-02-01T00:00:00",
          "2019-03-01T00:00:00",
          "2019-04-01T00:00:00",
          "2019-05-01T00:00:00",
          "2019-06-03T00:00:00",
          "2019-07-01T00:00:00",
          "2019-08-01T00:00:00",
          "2019-09-03T00:00:00",
          "2019-10-01T00:00:00",
          "2019-11-01T00:00:00",
          "2019-12-02T00:00:00",
          "2020-01-02T00:00:00",
          "2020-02-03T00:00:00",
          "2020-03-02T00:00:00",
          "2020-04-01T00:00:00",
          "2020-05-01T00:00:00",
          "2020-06-01T00:00:00",
          "2020-07-01T00:00:00",
          "2020-08-03T00:00:00",
          "2020-09-01T00:00:00",
          "2020-10-01T00:00:00",
          "2020-11-02T00:00:00",
          "2020-12-01T00:00:00",
          "2021-01-04T00:00:00",
          "2021-02-01T00:00:00",
          "2021-03-01T00:00:00",
          "2021-04-01T00:00:00",
          "2021-05-03T00:00:00",
          "2021-06-01T00:00:00",
          "2021-07-01T00:00:00",
          "2021-08-02T00:00:00"
         ],
         "y": [
          4384,
          -2603.7999999999556,
          2408,
          3529,
          3609,
          2444,
          3971.099999999973,
          1638.7999999999702,
          -13986.000000000005,
          -19630.000000000004,
          -3289.200000000025,
          8315,
          5255,
          4364,
          2612,
          2450,
          3282,
          4364,
          -4507.700000000012,
          -12976.09999999995,
          1376.5999999999876,
          2843,
          1987,
          2032,
          2929,
          6141,
          3209,
          3323,
          -843.0000000000218,
          3671,
          -11963.899999999969,
          7168,
          8086.999999999999,
          -3319.3999999999905,
          -15448.600000000031,
          3533,
          8916,
          6910.999999999999,
          -8783.699999999983,
          -34875.00000000001,
          -24689.999999999996,
          10175,
          -19545,
          -294.7000000000089,
          -13404.500000000011,
          6139,
          7990.000000000001,
          -21157.000000000007,
          7781,
          4006,
          11728,
          -14619.29999999992,
          -4474.1,
          -35183,
          -6187.800000000009,
          -35272,
          9072,
          -14719.999999999985,
          -21935,
          -30099.999999999993,
          -31754.999999999996,
          22225,
          28585,
          34600,
          -26447,
          19112,
          5348.400000000016,
          28330,
          11546.200000000055,
          20305,
          15700,
          -20767.70000000004,
          14648,
          16100
         ]
        },
        {
         "name": "Cumulative sum of total profit",
         "type": "scatter",
         "x": [
          "2015-01-02T00:00:00",
          "2015-02-02T00:00:00",
          "2015-03-02T00:00:00",
          "2015-04-01T00:00:00",
          "2015-05-01T00:00:00",
          "2015-06-01T00:00:00",
          "2015-07-01T00:00:00",
          "2015-09-01T00:00:00",
          "2015-10-01T00:00:00",
          "2015-12-01T00:00:00",
          "2016-01-04T00:00:00",
          "2016-02-01T00:00:00",
          "2016-03-01T00:00:00",
          "2016-05-02T00:00:00",
          "2016-06-01T00:00:00",
          "2016-08-01T00:00:00",
          "2016-09-01T00:00:00",
          "2016-11-01T00:00:00",
          "2016-12-01T00:00:00",
          "2017-01-03T00:00:00",
          "2017-02-01T00:00:00",
          "2017-03-01T00:00:00",
          "2017-04-03T00:00:00",
          "2017-05-01T00:00:00",
          "2017-06-01T00:00:00",
          "2017-07-03T00:00:00",
          "2017-08-01T00:00:00",
          "2017-09-01T00:00:00",
          "2017-10-02T00:00:00",
          "2017-11-01T00:00:00",
          "2017-12-01T00:00:00",
          "2018-02-01T00:00:00",
          "2018-03-01T00:00:00",
          "2018-04-02T00:00:00",
          "2018-05-01T00:00:00",
          "2018-06-01T00:00:00",
          "2018-07-02T00:00:00",
          "2018-08-01T00:00:00",
          "2018-09-04T00:00:00",
          "2018-10-01T00:00:00",
          "2018-11-01T00:00:00",
          "2018-12-03T00:00:00",
          "2019-01-02T00:00:00",
          "2019-02-01T00:00:00",
          "2019-03-01T00:00:00",
          "2019-04-01T00:00:00",
          "2019-05-01T00:00:00",
          "2019-06-03T00:00:00",
          "2019-07-01T00:00:00",
          "2019-08-01T00:00:00",
          "2019-09-03T00:00:00",
          "2019-10-01T00:00:00",
          "2019-11-01T00:00:00",
          "2019-12-02T00:00:00",
          "2020-01-02T00:00:00",
          "2020-02-03T00:00:00",
          "2020-03-02T00:00:00",
          "2020-04-01T00:00:00",
          "2020-05-01T00:00:00",
          "2020-06-01T00:00:00",
          "2020-07-01T00:00:00",
          "2020-08-03T00:00:00",
          "2020-09-01T00:00:00",
          "2020-10-01T00:00:00",
          "2020-11-02T00:00:00",
          "2020-12-01T00:00:00",
          "2021-01-04T00:00:00",
          "2021-02-01T00:00:00",
          "2021-03-01T00:00:00",
          "2021-04-01T00:00:00",
          "2021-05-03T00:00:00",
          "2021-06-01T00:00:00",
          "2021-07-01T00:00:00",
          "2021-08-02T00:00:00"
         ],
         "y": [
          4384,
          1780.2000000000444,
          4188.200000000044,
          7717.200000000044,
          11326.200000000044,
          13770.200000000044,
          17741.300000000017,
          19380.099999999988,
          5394.099999999982,
          -14235.900000000021,
          -17525.100000000046,
          -9210.100000000046,
          -3955.100000000046,
          408.89999999995416,
          3020.899999999954,
          5470.899999999954,
          8752.899999999954,
          13116.899999999954,
          8609.199999999943,
          -4366.900000000007,
          -2990.3000000000193,
          -147.30000000001928,
          1839.6999999999807,
          3871.6999999999807,
          6800.699999999981,
          12941.69999999998,
          16150.69999999998,
          19473.699999999983,
          18630.69999999996,
          22301.69999999996,
          10337.799999999992,
          17505.799999999992,
          25592.799999999992,
          22273.4,
          6824.79999999997,
          10357.79999999997,
          19273.79999999997,
          26184.79999999997,
          17401.099999999988,
          -17473.90000000002,
          -42163.900000000016,
          -31988.900000000016,
          -51533.900000000016,
          -51828.60000000003,
          -65233.100000000035,
          -59094.100000000035,
          -51104.100000000035,
          -72261.10000000003,
          -64480.100000000035,
          -60474.100000000035,
          -48746.100000000035,
          -63365.39999999995,
          -67839.49999999996,
          -103022.49999999996,
          -109210.29999999996,
          -144482.29999999996,
          -135410.29999999996,
          -150130.29999999993,
          -172065.29999999993,
          -202165.29999999993,
          -233920.29999999993,
          -211695.29999999993,
          -183110.29999999993,
          -148510.29999999993,
          -174957.29999999993,
          -155845.29999999993,
          -150496.8999999999,
          -122166.8999999999,
          -110620.69999999985,
          -90315.69999999985,
          -74615.69999999985,
          -95383.39999999989,
          -80735.39999999989,
          -64635.39999999989
         ]
        }
       ],
       "layout": {
        "height": 500,
        "template": {
         "data": {
          "bar": [
           {
            "error_x": {
             "color": "#2a3f5f"
            },
            "error_y": {
             "color": "#2a3f5f"
            },
            "marker": {
             "line": {
              "color": "#E5ECF6",
              "width": 0.5
             },
             "pattern": {
              "fillmode": "overlay",
              "size": 10,
              "solidity": 0.2
             }
            },
            "type": "bar"
           }
          ],
          "barpolar": [
           {
            "marker": {
             "line": {
              "color": "#E5ECF6",
              "width": 0.5
             },
             "pattern": {
              "fillmode": "overlay",
              "size": 10,
              "solidity": 0.2
             }
            },
            "type": "barpolar"
           }
          ],
          "carpet": [
           {
            "aaxis": {
             "endlinecolor": "#2a3f5f",
             "gridcolor": "white",
             "linecolor": "white",
             "minorgridcolor": "white",
             "startlinecolor": "#2a3f5f"
            },
            "baxis": {
             "endlinecolor": "#2a3f5f",
             "gridcolor": "white",
             "linecolor": "white",
             "minorgridcolor": "white",
             "startlinecolor": "#2a3f5f"
            },
            "type": "carpet"
           }
          ],
          "choropleth": [
           {
            "colorbar": {
             "outlinewidth": 0,
             "ticks": ""
            },
            "type": "choropleth"
           }
          ],
          "contour": [
           {
            "colorbar": {
             "outlinewidth": 0,
             "ticks": ""
            },
            "colorscale": [
             [
              0,
              "#0d0887"
             ],
             [
              0.1111111111111111,
              "#46039f"
             ],
             [
              0.2222222222222222,
              "#7201a8"
             ],
             [
              0.3333333333333333,
              "#9c179e"
             ],
             [
              0.4444444444444444,
              "#bd3786"
             ],
             [
              0.5555555555555556,
              "#d8576b"
             ],
             [
              0.6666666666666666,
              "#ed7953"
             ],
             [
              0.7777777777777778,
              "#fb9f3a"
             ],
             [
              0.8888888888888888,
              "#fdca26"
             ],
             [
              1,
              "#f0f921"
             ]
            ],
            "type": "contour"
           }
          ],
          "contourcarpet": [
           {
            "colorbar": {
             "outlinewidth": 0,
             "ticks": ""
            },
            "type": "contourcarpet"
           }
          ],
          "heatmap": [
           {
            "colorbar": {
             "outlinewidth": 0,
             "ticks": ""
            },
            "colorscale": [
             [
              0,
              "#0d0887"
             ],
             [
              0.1111111111111111,
              "#46039f"
             ],
             [
              0.2222222222222222,
              "#7201a8"
             ],
             [
              0.3333333333333333,
              "#9c179e"
             ],
             [
              0.4444444444444444,
              "#bd3786"
             ],
             [
              0.5555555555555556,
              "#d8576b"
             ],
             [
              0.6666666666666666,
              "#ed7953"
             ],
             [
              0.7777777777777778,
              "#fb9f3a"
             ],
             [
              0.8888888888888888,
              "#fdca26"
             ],
             [
              1,
              "#f0f921"
             ]
            ],
            "type": "heatmap"
           }
          ],
          "heatmapgl": [
           {
            "colorbar": {
             "outlinewidth": 0,
             "ticks": ""
            },
            "colorscale": [
             [
              0,
              "#0d0887"
             ],
             [
              0.1111111111111111,
              "#46039f"
             ],
             [
              0.2222222222222222,
              "#7201a8"
             ],
             [
              0.3333333333333333,
              "#9c179e"
             ],
             [
              0.4444444444444444,
              "#bd3786"
             ],
             [
              0.5555555555555556,
              "#d8576b"
             ],
             [
              0.6666666666666666,
              "#ed7953"
             ],
             [
              0.7777777777777778,
              "#fb9f3a"
             ],
             [
              0.8888888888888888,
              "#fdca26"
             ],
             [
              1,
              "#f0f921"
             ]
            ],
            "type": "heatmapgl"
           }
          ],
          "histogram": [
           {
            "marker": {
             "pattern": {
              "fillmode": "overlay",
              "size": 10,
              "solidity": 0.2
             }
            },
            "type": "histogram"
           }
          ],
          "histogram2d": [
           {
            "colorbar": {
             "outlinewidth": 0,
             "ticks": ""
            },
            "colorscale": [
             [
              0,
              "#0d0887"
             ],
             [
              0.1111111111111111,
              "#46039f"
             ],
             [
              0.2222222222222222,
              "#7201a8"
             ],
             [
              0.3333333333333333,
              "#9c179e"
             ],
             [
              0.4444444444444444,
              "#bd3786"
             ],
             [
              0.5555555555555556,
              "#d8576b"
             ],
             [
              0.6666666666666666,
              "#ed7953"
             ],
             [
              0.7777777777777778,
              "#fb9f3a"
             ],
             [
              0.8888888888888888,
              "#fdca26"
             ],
             [
              1,
              "#f0f921"
             ]
            ],
            "type": "histogram2d"
           }
          ],
          "histogram2dcontour": [
           {
            "colorbar": {
             "outlinewidth": 0,
             "ticks": ""
            },
            "colorscale": [
             [
              0,
              "#0d0887"
             ],
             [
              0.1111111111111111,
              "#46039f"
             ],
             [
              0.2222222222222222,
              "#7201a8"
             ],
             [
              0.3333333333333333,
              "#9c179e"
             ],
             [
              0.4444444444444444,
              "#bd3786"
             ],
             [
              0.5555555555555556,
              "#d8576b"
             ],
             [
              0.6666666666666666,
              "#ed7953"
             ],
             [
              0.7777777777777778,
              "#fb9f3a"
             ],
             [
              0.8888888888888888,
              "#fdca26"
             ],
             [
              1,
              "#f0f921"
             ]
            ],
            "type": "histogram2dcontour"
           }
          ],
          "mesh3d": [
           {
            "colorbar": {
             "outlinewidth": 0,
             "ticks": ""
            },
            "type": "mesh3d"
           }
          ],
          "parcoords": [
           {
            "line": {
             "colorbar": {
              "outlinewidth": 0,
              "ticks": ""
             }
            },
            "type": "parcoords"
           }
          ],
          "pie": [
           {
            "automargin": true,
            "type": "pie"
           }
          ],
          "scatter": [
           {
            "marker": {
             "colorbar": {
              "outlinewidth": 0,
              "ticks": ""
             }
            },
            "type": "scatter"
           }
          ],
          "scatter3d": [
           {
            "line": {
             "colorbar": {
              "outlinewidth": 0,
              "ticks": ""
             }
            },
            "marker": {
             "colorbar": {
              "outlinewidth": 0,
              "ticks": ""
             }
            },
            "type": "scatter3d"
           }
          ],
          "scattercarpet": [
           {
            "marker": {
             "colorbar": {
              "outlinewidth": 0,
              "ticks": ""
             }
            },
            "type": "scattercarpet"
           }
          ],
          "scattergeo": [
           {
            "marker": {
             "colorbar": {
              "outlinewidth": 0,
              "ticks": ""
             }
            },
            "type": "scattergeo"
           }
          ],
          "scattergl": [
           {
            "marker": {
             "colorbar": {
              "outlinewidth": 0,
              "ticks": ""
             }
            },
            "type": "scattergl"
           }
          ],
          "scattermapbox": [
           {
            "marker": {
             "colorbar": {
              "outlinewidth": 0,
              "ticks": ""
             }
            },
            "type": "scattermapbox"
           }
          ],
          "scatterpolar": [
           {
            "marker": {
             "colorbar": {
              "outlinewidth": 0,
              "ticks": ""
             }
            },
            "type": "scatterpolar"
           }
          ],
          "scatterpolargl": [
           {
            "marker": {
             "colorbar": {
              "outlinewidth": 0,
              "ticks": ""
             }
            },
            "type": "scatterpolargl"
           }
          ],
          "scatterternary": [
           {
            "marker": {
             "colorbar": {
              "outlinewidth": 0,
              "ticks": ""
             }
            },
            "type": "scatterternary"
           }
          ],
          "surface": [
           {
            "colorbar": {
             "outlinewidth": 0,
             "ticks": ""
            },
            "colorscale": [
             [
              0,
              "#0d0887"
             ],
             [
              0.1111111111111111,
              "#46039f"
             ],
             [
              0.2222222222222222,
              "#7201a8"
             ],
             [
              0.3333333333333333,
              "#9c179e"
             ],
             [
              0.4444444444444444,
              "#bd3786"
             ],
             [
              0.5555555555555556,
              "#d8576b"
             ],
             [
              0.6666666666666666,
              "#ed7953"
             ],
             [
              0.7777777777777778,
              "#fb9f3a"
             ],
             [
              0.8888888888888888,
              "#fdca26"
             ],
             [
              1,
              "#f0f921"
             ]
            ],
            "type": "surface"
           }
          ],
          "table": [
           {
            "cells": {
             "fill": {
              "color": "#EBF0F8"
             },
             "line": {
              "color": "white"
             }
            },
            "header": {
             "fill": {
              "color": "#C8D4E3"
             },
             "line": {
              "color": "white"
             }
            },
            "type": "table"
           }
          ]
         },
         "layout": {
          "annotationdefaults": {
           "arrowcolor": "#2a3f5f",
           "arrowhead": 0,
           "arrowwidth": 1
          },
          "autotypenumbers": "strict",
          "coloraxis": {
           "colorbar": {
            "outlinewidth": 0,
            "ticks": ""
           }
          },
          "colorscale": {
           "diverging": [
            [
             0,
             "#8e0152"
            ],
            [
             0.1,
             "#c51b7d"
            ],
            [
             0.2,
             "#de77ae"
            ],
            [
             0.3,
             "#f1b6da"
            ],
            [
             0.4,
             "#fde0ef"
            ],
            [
             0.5,
             "#f7f7f7"
            ],
            [
             0.6,
             "#e6f5d0"
            ],
            [
             0.7,
             "#b8e186"
            ],
            [
             0.8,
             "#7fbc41"
            ],
            [
             0.9,
             "#4d9221"
            ],
            [
             1,
             "#276419"
            ]
           ],
           "sequential": [
            [
             0,
             "#0d0887"
            ],
            [
             0.1111111111111111,
             "#46039f"
            ],
            [
             0.2222222222222222,
             "#7201a8"
            ],
            [
             0.3333333333333333,
             "#9c179e"
            ],
            [
             0.4444444444444444,
             "#bd3786"
            ],
            [
             0.5555555555555556,
             "#d8576b"
            ],
            [
             0.6666666666666666,
             "#ed7953"
            ],
            [
             0.7777777777777778,
             "#fb9f3a"
            ],
            [
             0.8888888888888888,
             "#fdca26"
            ],
            [
             1,
             "#f0f921"
            ]
           ],
           "sequentialminus": [
            [
             0,
             "#0d0887"
            ],
            [
             0.1111111111111111,
             "#46039f"
            ],
            [
             0.2222222222222222,
             "#7201a8"
            ],
            [
             0.3333333333333333,
             "#9c179e"
            ],
            [
             0.4444444444444444,
             "#bd3786"
            ],
            [
             0.5555555555555556,
             "#d8576b"
            ],
            [
             0.6666666666666666,
             "#ed7953"
            ],
            [
             0.7777777777777778,
             "#fb9f3a"
            ],
            [
             0.8888888888888888,
             "#fdca26"
            ],
            [
             1,
             "#f0f921"
            ]
           ]
          },
          "colorway": [
           "#636efa",
           "#EF553B",
           "#00cc96",
           "#ab63fa",
           "#FFA15A",
           "#19d3f3",
           "#FF6692",
           "#B6E880",
           "#FF97FF",
           "#FECB52"
          ],
          "font": {
           "color": "#2a3f5f"
          },
          "geo": {
           "bgcolor": "white",
           "lakecolor": "white",
           "landcolor": "#E5ECF6",
           "showlakes": true,
           "showland": true,
           "subunitcolor": "white"
          },
          "hoverlabel": {
           "align": "left"
          },
          "hovermode": "closest",
          "mapbox": {
           "style": "light"
          },
          "paper_bgcolor": "white",
          "plot_bgcolor": "#E5ECF6",
          "polar": {
           "angularaxis": {
            "gridcolor": "white",
            "linecolor": "white",
            "ticks": ""
           },
           "bgcolor": "#E5ECF6",
           "radialaxis": {
            "gridcolor": "white",
            "linecolor": "white",
            "ticks": ""
           }
          },
          "scene": {
           "xaxis": {
            "backgroundcolor": "#E5ECF6",
            "gridcolor": "white",
            "gridwidth": 2,
            "linecolor": "white",
            "showbackground": true,
            "ticks": "",
            "zerolinecolor": "white"
           },
           "yaxis": {
            "backgroundcolor": "#E5ECF6",
            "gridcolor": "white",
            "gridwidth": 2,
            "linecolor": "white",
            "showbackground": true,
            "ticks": "",
            "zerolinecolor": "white"
           },
           "zaxis": {
            "backgroundcolor": "#E5ECF6",
            "gridcolor": "white",
            "gridwidth": 2,
            "linecolor": "white",
            "showbackground": true,
            "ticks": "",
            "zerolinecolor": "white"
           }
          },
          "shapedefaults": {
           "line": {
            "color": "#2a3f5f"
           }
          },
          "ternary": {
           "aaxis": {
            "gridcolor": "white",
            "linecolor": "white",
            "ticks": ""
           },
           "baxis": {
            "gridcolor": "white",
            "linecolor": "white",
            "ticks": ""
           },
           "bgcolor": "#E5ECF6",
           "caxis": {
            "gridcolor": "white",
            "linecolor": "white",
            "ticks": ""
           }
          },
          "title": {
           "x": 0.05
          },
          "xaxis": {
           "automargin": true,
           "gridcolor": "white",
           "linecolor": "white",
           "ticks": "",
           "title": {
            "standoff": 15
           },
           "zerolinecolor": "white",
           "zerolinewidth": 2
          },
          "yaxis": {
           "automargin": true,
           "gridcolor": "white",
           "linecolor": "white",
           "ticks": "",
           "title": {
            "standoff": 15
           },
           "zerolinecolor": "white",
           "zerolinewidth": 2
          }
         }
        },
        "width": 1100,
        "xaxis": {
         "anchor": "y",
         "autorange": true,
         "domain": [
          0,
          1
         ],
         "range": [
          "2014-12-19 12:00",
          "2021-08-15 12:00"
         ],
         "type": "date"
        },
        "yaxis": {
         "anchor": "x",
         "autorange": true,
         "domain": [
          0,
          1
         ],
         "range": [
          -248838.09444444437,
          49517.794444444444
         ],
         "type": "linear"
        }
       }
      },
      "image/png": "[encoded data removed]",
      "text/html": [
       "<div>                            <div id=\"56ae70b8-31f3-4a63-8a05-a80dfd60d3ea\" class=\"plotly-graph-div\" style=\"height:500px; width:1100px;\"></div>            <script type=\"text/javascript\">                require([\"plotly\"], function(Plotly) {                    window.PLOTLYENV=window.PLOTLYENV || {};                                    if (document.getElementById(\"56ae70b8-31f3-4a63-8a05-a80dfd60d3ea\")) {                    Plotly.newPlot(                        \"56ae70b8-31f3-4a63-8a05-a80dfd60d3ea\",                        [{\"name\":\"Total Profit\",\"type\":\"bar\",\"x\":[\"2015-01-02T00:00:00\",\"2015-02-02T00:00:00\",\"2015-03-02T00:00:00\",\"2015-04-01T00:00:00\",\"2015-05-01T00:00:00\",\"2015-06-01T00:00:00\",\"2015-07-01T00:00:00\",\"2015-09-01T00:00:00\",\"2015-10-01T00:00:00\",\"2015-12-01T00:00:00\",\"2016-01-04T00:00:00\",\"2016-02-01T00:00:00\",\"2016-03-01T00:00:00\",\"2016-05-02T00:00:00\",\"2016-06-01T00:00:00\",\"2016-08-01T00:00:00\",\"2016-09-01T00:00:00\",\"2016-11-01T00:00:00\",\"2016-12-01T00:00:00\",\"2017-01-03T00:00:00\",\"2017-02-01T00:00:00\",\"2017-03-01T00:00:00\",\"2017-04-03T00:00:00\",\"2017-05-01T00:00:00\",\"2017-06-01T00:00:00\",\"2017-07-03T00:00:00\",\"2017-08-01T00:00:00\",\"2017-09-01T00:00:00\",\"2017-10-02T00:00:00\",\"2017-11-01T00:00:00\",\"2017-12-01T00:00:00\",\"2018-02-01T00:00:00\",\"2018-03-01T00:00:00\",\"2018-04-02T00:00:00\",\"2018-05-01T00:00:00\",\"2018-06-01T00:00:00\",\"2018-07-02T00:00:00\",\"2018-08-01T00:00:00\",\"2018-09-04T00:00:00\",\"2018-10-01T00:00:00\",\"2018-11-01T00:00:00\",\"2018-12-03T00:00:00\",\"2019-01-02T00:00:00\",\"2019-02-01T00:00:00\",\"2019-03-01T00:00:00\",\"2019-04-01T00:00:00\",\"2019-05-01T00:00:00\",\"2019-06-03T00:00:00\",\"2019-07-01T00:00:00\",\"2019-08-01T00:00:00\",\"2019-09-03T00:00:00\",\"2019-10-01T00:00:00\",\"2019-11-01T00:00:00\",\"2019-12-02T00:00:00\",\"2020-01-02T00:00:00\",\"2020-02-03T00:00:00\",\"2020-03-02T00:00:00\",\"2020-04-01T00:00:00\",\"2020-05-01T00:00:00\",\"2020-06-01T00:00:00\",\"2020-07-01T00:00:00\",\"2020-08-03T00:00:00\",\"2020-09-01T00:00:00\",\"2020-10-01T00:00:00\",\"2020-11-02T00:00:00\",\"2020-12-01T00:00:00\",\"2021-01-04T00:00:00\",\"2021-02-01T00:00:00\",\"2021-03-01T00:00:00\",\"2021-04-01T00:00:00\",\"2021-05-03T00:00:00\",\"2021-06-01T00:00:00\",\"2021-07-01T00:00:00\",\"2021-08-02T00:00:00\"],\"y\":[4384.0,-2603.7999999999556,2408.0,3529.0,3609.0,2444.0,3971.099999999973,1638.7999999999702,-13986.000000000005,-19630.000000000004,-3289.200000000025,8315.0,5255.0,4364.0,2612.0,2450.0,3282.0,4364.0,-4507.700000000012,-12976.09999999995,1376.5999999999876,2843.0,1987.0,2032.0,2929.0,6141.0,3209.0,3323.0,-843.0000000000218,3671.0,-11963.899999999969,7168.0,8086.999999999999,-3319.3999999999905,-15448.600000000031,3533.0,8916.0,6910.999999999999,-8783.699999999983,-34875.00000000001,-24689.999999999996,10175.0,-19545.0,-294.7000000000089,-13404.500000000011,6139.0,7990.000000000001,-21157.000000000007,7781.0,4006.0,11728.0,-14619.29999999992,-4474.1,-35183.0,-6187.800000000009,-35272.0,9072.0,-14719.999999999985,-21935.0,-30099.999999999993,-31754.999999999996,22225.0,28585.0,34600.0,-26447.0,19112.0,5348.400000000016,28330.0,11546.200000000055,20305.0,15700.0,-20767.70000000004,14648.0,16100.0]},{\"name\":\"Cumulative sum of total profit\",\"type\":\"scatter\",\"x\":[\"2015-01-02T00:00:00\",\"2015-02-02T00:00:00\",\"2015-03-02T00:00:00\",\"2015-04-01T00:00:00\",\"2015-05-01T00:00:00\",\"2015-06-01T00:00:00\",\"2015-07-01T00:00:00\",\"2015-09-01T00:00:00\",\"2015-10-01T00:00:00\",\"2015-12-01T00:00:00\",\"2016-01-04T00:00:00\",\"2016-02-01T00:00:00\",\"2016-03-01T00:00:00\",\"2016-05-02T00:00:00\",\"2016-06-01T00:00:00\",\"2016-08-01T00:00:00\",\"2016-09-01T00:00:00\",\"2016-11-01T00:00:00\",\"2016-12-01T00:00:00\",\"2017-01-03T00:00:00\",\"2017-02-01T00:00:00\",\"2017-03-01T00:00:00\",\"2017-04-03T00:00:00\",\"2017-05-01T00:00:00\",\"2017-06-01T00:00:00\",\"2017-07-03T00:00:00\",\"2017-08-01T00:00:00\",\"2017-09-01T00:00:00\",\"2017-10-02T00:00:00\",\"2017-11-01T00:00:00\",\"2017-12-01T00:00:00\",\"2018-02-01T00:00:00\",\"2018-03-01T00:00:00\",\"2018-04-02T00:00:00\",\"2018-05-01T00:00:00\",\"2018-06-01T00:00:00\",\"2018-07-02T00:00:00\",\"2018-08-01T00:00:00\",\"2018-09-04T00:00:00\",\"2018-10-01T00:00:00\",\"2018-11-01T00:00:00\",\"2018-12-03T00:00:00\",\"2019-01-02T00:00:00\",\"2019-02-01T00:00:00\",\"2019-03-01T00:00:00\",\"2019-04-01T00:00:00\",\"2019-05-01T00:00:00\",\"2019-06-03T00:00:00\",\"2019-07-01T00:00:00\",\"2019-08-01T00:00:00\",\"2019-09-03T00:00:00\",\"2019-10-01T00:00:00\",\"2019-11-01T00:00:00\",\"2019-12-02T00:00:00\",\"2020-01-02T00:00:00\",\"2020-02-03T00:00:00\",\"2020-03-02T00:00:00\",\"2020-04-01T00:00:00\",\"2020-05-01T00:00:00\",\"2020-06-01T00:00:00\",\"2020-07-01T00:00:00\",\"2020-08-03T00:00:00\",\"2020-09-01T00:00:00\",\"2020-10-01T00:00:00\",\"2020-11-02T00:00:00\",\"2020-12-01T00:00:00\",\"2021-01-04T00:00:00\",\"2021-02-01T00:00:00\",\"2021-03-01T00:00:00\",\"2021-04-01T00:00:00\",\"2021-05-03T00:00:00\",\"2021-06-01T00:00:00\",\"2021-07-01T00:00:00\",\"2021-08-02T00:00:00\"],\"y\":[4384.0,1780.2000000000444,4188.200000000044,7717.200000000044,11326.200000000044,13770.200000000044,17741.300000000017,19380.099999999988,5394.099999999982,-14235.900000000021,-17525.100000000046,-9210.100000000046,-3955.100000000046,408.89999999995416,3020.899999999954,5470.899999999954,8752.899999999954,13116.899999999954,8609.199999999943,-4366.900000000007,-2990.3000000000193,-147.30000000001928,1839.6999999999807,3871.6999999999807,6800.699999999981,12941.69999999998,16150.69999999998,19473.699999999983,18630.69999999996,22301.69999999996,10337.799999999992,17505.799999999992,25592.799999999992,22273.4,6824.79999999997,10357.79999999997,19273.79999999997,26184.79999999997,17401.099999999988,-17473.90000000002,-42163.900000000016,-31988.900000000016,-51533.900000000016,-51828.60000000003,-65233.100000000035,-59094.100000000035,-51104.100000000035,-72261.10000000003,-64480.100000000035,-60474.100000000035,-48746.100000000035,-63365.39999999995,-67839.49999999996,-103022.49999999996,-109210.29999999996,-144482.29999999996,-135410.29999999996,-150130.29999999993,-172065.29999999993,-202165.29999999993,-233920.29999999993,-211695.29999999993,-183110.29999999993,-148510.29999999993,-174957.29999999993,-155845.29999999993,-150496.8999999999,-122166.8999999999,-110620.69999999985,-90315.69999999985,-74615.69999999985,-95383.39999999989,-80735.39999999989,-64635.39999999989]}],                        {\"height\":500,\"template\":{\"data\":{\"bar\":[{\"error_x\":{\"color\":\"#2a3f5f\"},\"error_y\":{\"color\":\"#2a3f5f\"},\"marker\":{\"line\":{\"color\":\"#E5ECF6\",\"width\":0.5},\"pattern\":{\"fillmode\":\"overlay\",\"size\":10,\"solidity\":0.2}},\"type\":\"bar\"}],\"barpolar\":[{\"marker\":{\"line\":{\"color\":\"#E5ECF6\",\"width\":0.5},\"pattern\":{\"fillmode\":\"overlay\",\"size\":10,\"solidity\":0.2}},\"type\":\"barpolar\"}],\"carpet\":[{\"aaxis\":{\"endlinecolor\":\"#2a3f5f\",\"gridcolor\":\"white\",\"linecolor\":\"white\",\"minorgridcolor\":\"white\",\"startlinecolor\":\"#2a3f5f\"},\"baxis\":{\"endlinecolor\":\"#2a3f5f\",\"gridcolor\":\"white\",\"linecolor\":\"white\",\"minorgridcolor\":\"white\",\"startlinecolor\":\"#2a3f5f\"},\"type\":\"carpet\"}],\"choropleth\":[{\"colorbar\":{\"outlinewidth\":0,\"ticks\":\"\"},\"type\":\"choropleth\"}],\"contour\":[{\"colorbar\":{\"outlinewidth\":0,\"ticks\":\"\"},\"colorscale\":[[0.0,\"#0d0887\"],[0.1111111111111111,\"#46039f\"],[0.2222222222222222,\"#7201a8\"],[0.3333333333333333,\"#9c179e\"],[0.4444444444444444,\"#bd3786\"],[0.5555555555555556,\"#d8576b\"],[0.6666666666666666,\"#ed7953\"],[0.7777777777777778,\"#fb9f3a\"],[0.8888888888888888,\"#fdca26\"],[1.0,\"#f0f921\"]],\"type\":\"contour\"}],\"contourcarpet\":[{\"colorbar\":{\"outlinewidth\":0,\"ticks\":\"\"},\"type\":\"contourcarpet\"}],\"heatmap\":[{\"colorbar\":{\"outlinewidth\":0,\"ticks\":\"\"},\"colorscale\":[[0.0,\"#0d0887\"],[0.1111111111111111,\"#46039f\"],[0.2222222222222222,\"#7201a8\"],[0.3333333333333333,\"#9c179e\"],[0.4444444444444444,\"#bd3786\"],[0.5555555555555556,\"#d8576b\"],[0.6666666666666666,\"#ed7953\"],[0.7777777777777778,\"#fb9f3a\"],[0.8888888888888888,\"#fdca26\"],[1.0,\"#f0f921\"]],\"type\":\"heatmap\"}],\"heatmapgl\":[{\"colorbar\":{\"outlinewidth\":0,\"ticks\":\"\"},\"colorscale\":[[0.0,\"#0d0887\"],[0.1111111111111111,\"#46039f\"],[0.2222222222222222,\"#7201a8\"],[0.3333333333333333,\"#9c179e\"],[0.4444444444444444,\"#bd3786\"],[0.5555555555555556,\"#d8576b\"],[0.6666666666666666,\"#ed7953\"],[0.7777777777777778,\"#fb9f3a\"],[0.8888888888888888,\"#fdca26\"],[1.0,\"#f0f921\"]],\"type\":\"heatmapgl\"}],\"histogram\":[{\"marker\":{\"pattern\":{\"fillmode\":\"overlay\",\"size\":10,\"solidity\":0.2}},\"type\":\"histogram\"}],\"histogram2d\":[{\"colorbar\":{\"outlinewidth\":0,\"ticks\":\"\"},\"colorscale\":[[0.0,\"#0d0887\"],[0.1111111111111111,\"#46039f\"],[0.2222222222222222,\"#7201a8\"],[0.3333333333333333,\"#9c179e\"],[0.4444444444444444,\"#bd3786\"],[0.5555555555555556,\"#d8576b\"],[0.6666666666666666,\"#ed7953\"],[0.7777777777777778,\"#fb9f3a\"],[0.8888888888888888,\"#fdca26\"],[1.0,\"#f0f921\"]],\"type\":\"histogram2d\"}],\"histogram2dcontour\":[{\"colorbar\":{\"outlinewidth\":0,\"ticks\":\"\"},\"colorscale\":[[0.0,\"#0d0887\"],[0.1111111111111111,\"#46039f\"],[0.2222222222222222,\"#7201a8\"],[0.3333333333333333,\"#9c179e\"],[0.4444444444444444,\"#bd3786\"],[0.5555555555555556,\"#d8576b\"],[0.6666666666666666,\"#ed7953\"],[0.7777777777777778,\"#fb9f3a\"],[0.8888888888888888,\"#fdca26\"],[1.0,\"#f0f921\"]],\"type\":\"histogram2dcontour\"}],\"mesh3d\":[{\"colorbar\":{\"outlinewidth\":0,\"ticks\":\"\"},\"type\":\"mesh3d\"}],\"parcoords\":[{\"line\":{\"colorbar\":{\"outlinewidth\":0,\"ticks\":\"\"}},\"type\":\"parcoords\"}],\"pie\":[{\"automargin\":true,\"type\":\"pie\"}],\"scatter\":[{\"marker\":{\"colorbar\":{\"outlinewidth\":0,\"ticks\":\"\"}},\"type\":\"scatter\"}],\"scatter3d\":[{\"line\":{\"colorbar\":{\"outlinewidth\":0,\"ticks\":\"\"}},\"marker\":{\"colorbar\":{\"outlinewidth\":0,\"ticks\":\"\"}},\"type\":\"scatter3d\"}],\"scattercarpet\":[{\"marker\":{\"colorbar\":{\"outlinewidth\":0,\"ticks\":\"\"}},\"type\":\"scattercarpet\"}],\"scattergeo\":[{\"marker\":{\"colorbar\":{\"outlinewidth\":0,\"ticks\":\"\"}},\"type\":\"scattergeo\"}],\"scattergl\":[{\"marker\":{\"colorbar\":{\"outlinewidth\":0,\"ticks\":\"\"}},\"type\":\"scattergl\"}],\"scattermapbox\":[{\"marker\":{\"colorbar\":{\"outlinewidth\":0,\"ticks\":\"\"}},\"type\":\"scattermapbox\"}],\"scatterpolar\":[{\"marker\":{\"colorbar\":{\"outlinewidth\":0,\"ticks\":\"\"}},\"type\":\"scatterpolar\"}],\"scatterpolargl\":[{\"marker\":{\"colorbar\":{\"outlinewidth\":0,\"ticks\":\"\"}},\"type\":\"scatterpolargl\"}],\"scatterternary\":[{\"marker\":{\"colorbar\":{\"outlinewidth\":0,\"ticks\":\"\"}},\"type\":\"scatterternary\"}],\"surface\":[{\"colorbar\":{\"outlinewidth\":0,\"ticks\":\"\"},\"colorscale\":[[0.0,\"#0d0887\"],[0.1111111111111111,\"#46039f\"],[0.2222222222222222,\"#7201a8\"],[0.3333333333333333,\"#9c179e\"],[0.4444444444444444,\"#bd3786\"],[0.5555555555555556,\"#d8576b\"],[0.6666666666666666,\"#ed7953\"],[0.7777777777777778,\"#fb9f3a\"],[0.8888888888888888,\"#fdca26\"],[1.0,\"#f0f921\"]],\"type\":\"surface\"}],\"table\":[{\"cells\":{\"fill\":{\"color\":\"#EBF0F8\"},\"line\":{\"color\":\"white\"}},\"header\":{\"fill\":{\"color\":\"#C8D4E3\"},\"line\":{\"color\":\"white\"}},\"type\":\"table\"}]},\"layout\":{\"annotationdefaults\":{\"arrowcolor\":\"#2a3f5f\",\"arrowhead\":0,\"arrowwidth\":1},\"autotypenumbers\":\"strict\",\"coloraxis\":{\"colorbar\":{\"outlinewidth\":0,\"ticks\":\"\"}},\"colorscale\":{\"diverging\":[[0,\"#8e0152\"],[0.1,\"#c51b7d\"],[0.2,\"#de77ae\"],[0.3,\"#f1b6da\"],[0.4,\"#fde0ef\"],[0.5,\"#f7f7f7\"],[0.6,\"#e6f5d0\"],[0.7,\"#b8e186\"],[0.8,\"#7fbc41\"],[0.9,\"#4d9221\"],[1,\"#276419\"]],\"sequential\":[[0.0,\"#0d0887\"],[0.1111111111111111,\"#46039f\"],[0.2222222222222222,\"#7201a8\"],[0.3333333333333333,\"#9c179e\"],[0.4444444444444444,\"#bd3786\"],[0.5555555555555556,\"#d8576b\"],[0.6666666666666666,\"#ed7953\"],[0.7777777777777778,\"#fb9f3a\"],[0.8888888888888888,\"#fdca26\"],[1.0,\"#f0f921\"]],\"sequentialminus\":[[0.0,\"#0d0887\"],[0.1111111111111111,\"#46039f\"],[0.2222222222222222,\"#7201a8\"],[0.3333333333333333,\"#9c179e\"],[0.4444444444444444,\"#bd3786\"],[0.5555555555555556,\"#d8576b\"],[0.6666666666666666,\"#ed7953\"],[0.7777777777777778,\"#fb9f3a\"],[0.8888888888888888,\"#fdca26\"],[1.0,\"#f0f921\"]]},\"colorway\":[\"#636efa\",\"#EF553B\",\"#00cc96\",\"#ab63fa\",\"#FFA15A\",\"#19d3f3\",\"#FF6692\",\"#B6E880\",\"#FF97FF\",\"#FECB52\"],\"font\":{\"color\":\"#2a3f5f\"},\"geo\":{\"bgcolor\":\"white\",\"lakecolor\":\"white\",\"landcolor\":\"#E5ECF6\",\"showlakes\":true,\"showland\":true,\"subunitcolor\":\"white\"},\"hoverlabel\":{\"align\":\"left\"},\"hovermode\":\"closest\",\"mapbox\":{\"style\":\"light\"},\"paper_bgcolor\":\"white\",\"plot_bgcolor\":\"#E5ECF6\",\"polar\":{\"angularaxis\":{\"gridcolor\":\"white\",\"linecolor\":\"white\",\"ticks\":\"\"},\"bgcolor\":\"#E5ECF6\",\"radialaxis\":{\"gridcolor\":\"white\",\"linecolor\":\"white\",\"ticks\":\"\"}},\"scene\":{\"xaxis\":{\"backgroundcolor\":\"#E5ECF6\",\"gridcolor\":\"white\",\"gridwidth\":2,\"linecolor\":\"white\",\"showbackground\":true,\"ticks\":\"\",\"zerolinecolor\":\"white\"},\"yaxis\":{\"backgroundcolor\":\"#E5ECF6\",\"gridcolor\":\"white\",\"gridwidth\":2,\"linecolor\":\"white\",\"showbackground\":true,\"ticks\":\"\",\"zerolinecolor\":\"white\"},\"zaxis\":{\"backgroundcolor\":\"#E5ECF6\",\"gridcolor\":\"white\",\"gridwidth\":2,\"linecolor\":\"white\",\"showbackground\":true,\"ticks\":\"\",\"zerolinecolor\":\"white\"}},\"shapedefaults\":{\"line\":{\"color\":\"#2a3f5f\"}},\"ternary\":{\"aaxis\":{\"gridcolor\":\"white\",\"linecolor\":\"white\",\"ticks\":\"\"},\"baxis\":{\"gridcolor\":\"white\",\"linecolor\":\"white\",\"ticks\":\"\"},\"bgcolor\":\"#E5ECF6\",\"caxis\":{\"gridcolor\":\"white\",\"linecolor\":\"white\",\"ticks\":\"\"}},\"title\":{\"x\":0.05},\"xaxis\":{\"automargin\":true,\"gridcolor\":\"white\",\"linecolor\":\"white\",\"ticks\":\"\",\"title\":{\"standoff\":15},\"zerolinecolor\":\"white\",\"zerolinewidth\":2},\"yaxis\":{\"automargin\":true,\"gridcolor\":\"white\",\"linecolor\":\"white\",\"ticks\":\"\",\"title\":{\"standoff\":15},\"zerolinecolor\":\"white\",\"zerolinewidth\":2}}},\"width\":1100,\"xaxis\":{\"anchor\":\"y\",\"domain\":[0.0,1.0]},\"yaxis\":{\"anchor\":\"x\",\"domain\":[0.0,1.0]}},                        {\"responsive\": true}                    ).then(function(){\n",
       "                            \n",
       "var gd = document.getElementById('56ae70b8-31f3-4a63-8a05-a80dfd60d3ea');\n",
       "var x = new MutationObserver(function (mutations, observer) {{\n",
       "        var display = window.getComputedStyle(gd).display;\n",
       "        if (!display || display === 'none') {{\n",
       "            console.log([gd, 'removed!']);\n",
       "            Plotly.purge(gd);\n",
       "            observer.disconnect();\n",
       "        }}\n",
       "}});\n",
       "\n",
       "// Listen for the removal of the full notebook cells\n",
       "var notebookContainer = gd.closest('#notebook-container');\n",
       "if (notebookContainer) {{\n",
       "    x.observe(notebookContainer, {childList: true});\n",
       "}}\n",
       "\n",
       "// Listen for the clearing of the current output cell\n",
       "var outputEl = gd.closest('.output');\n",
       "if (outputEl) {{\n",
       "    x.observe(outputEl, {childList: true});\n",
       "}}\n",
       "\n",
       "                        })                };                });            </script>        </div>"
      ]
     },
     "metadata": {},
     "output_type": "display_data"
    }
   ],
   "source": [
    "df1 = short_IC_5_10.groupby(by = ['Trans_Date', 'Exp_date'])['Total Profit/Loss'].sum().reset_index()\n",
    "fig = make_subplots()\n",
    "\n",
    "fig.add_trace(go.Bar(x=df1['Trans_Date'], y=df1['Total Profit/Loss'], name = 'Total Profit'))\n",
    "fig.add_trace(go.Line(x=df1['Trans_Date'], y=df1['Total Profit/Loss'].cumsum(), name = 'Cumulative sum of total profit'))\n",
    "\n",
    "fig.update_layout(height=500, width=1100)\n",
    "fig.show()"
   ]
  },
  {
   "cell_type": "code",
   "execution_count": 26,
   "id": "9d30f393-f61a-4352-ad54-d2238f6a2c75",
   "metadata": {},
   "outputs": [
    {
     "data": {
      "application/vnd.plotly.v1+json": {
       "config": {
        "plotlyServerURL": "https://plot.ly"
       },
       "data": [
        {
         "name": "Contract price",
         "type": "bar",
         "x": [
          2015,
          2016,
          2017,
          2018,
          2019,
          2020,
          2021
         ],
         "y": [
          44253,
          42256,
          42461,
          88651,
          98038,
          241846,
          161616
         ]
        },
        {
         "name": "Exercise outcome",
         "type": "bar",
         "x": [
          2015,
          2016,
          2017,
          2018,
          2019,
          2020,
          2021
         ],
         "y": [
          -58488.90000000001,
          -19410.90000000004,
          -40732.39999999995,
          -130977.7,
          -169071.59999999995,
          -294668.79999999993,
          -70406.09999999998
         ]
        },
        {
         "name": "Total Profit",
         "type": "scatter",
         "x": [
          2015,
          2016,
          2017,
          2018,
          2019,
          2020,
          2021
         ],
         "y": [
          -14235.900000000021,
          22845.099999999962,
          1728.6000000000477,
          -42326.700000000004,
          -71033.59999999995,
          -52822.799999999974,
          91209.90000000002
         ]
        }
       ],
       "layout": {
        "height": 500,
        "template": {
         "data": {
          "bar": [
           {
            "error_x": {
             "color": "#2a3f5f"
            },
            "error_y": {
             "color": "#2a3f5f"
            },
            "marker": {
             "line": {
              "color": "#E5ECF6",
              "width": 0.5
             },
             "pattern": {
              "fillmode": "overlay",
              "size": 10,
              "solidity": 0.2
             }
            },
            "type": "bar"
           }
          ],
          "barpolar": [
           {
            "marker": {
             "line": {
              "color": "#E5ECF6",
              "width": 0.5
             },
             "pattern": {
              "fillmode": "overlay",
              "size": 10,
              "solidity": 0.2
             }
            },
            "type": "barpolar"
           }
          ],
          "carpet": [
           {
            "aaxis": {
             "endlinecolor": "#2a3f5f",
             "gridcolor": "white",
             "linecolor": "white",
             "minorgridcolor": "white",
             "startlinecolor": "#2a3f5f"
            },
            "baxis": {
             "endlinecolor": "#2a3f5f",
             "gridcolor": "white",
             "linecolor": "white",
             "minorgridcolor": "white",
             "startlinecolor": "#2a3f5f"
            },
            "type": "carpet"
           }
          ],
          "choropleth": [
           {
            "colorbar": {
             "outlinewidth": 0,
             "ticks": ""
            },
            "type": "choropleth"
           }
          ],
          "contour": [
           {
            "colorbar": {
             "outlinewidth": 0,
             "ticks": ""
            },
            "colorscale": [
             [
              0,
              "#0d0887"
             ],
             [
              0.1111111111111111,
              "#46039f"
             ],
             [
              0.2222222222222222,
              "#7201a8"
             ],
             [
              0.3333333333333333,
              "#9c179e"
             ],
             [
              0.4444444444444444,
              "#bd3786"
             ],
             [
              0.5555555555555556,
              "#d8576b"
             ],
             [
              0.6666666666666666,
              "#ed7953"
             ],
             [
              0.7777777777777778,
              "#fb9f3a"
             ],
             [
              0.8888888888888888,
              "#fdca26"
             ],
             [
              1,
              "#f0f921"
             ]
            ],
            "type": "contour"
           }
          ],
          "contourcarpet": [
           {
            "colorbar": {
             "outlinewidth": 0,
             "ticks": ""
            },
            "type": "contourcarpet"
           }
          ],
          "heatmap": [
           {
            "colorbar": {
             "outlinewidth": 0,
             "ticks": ""
            },
            "colorscale": [
             [
              0,
              "#0d0887"
             ],
             [
              0.1111111111111111,
              "#46039f"
             ],
             [
              0.2222222222222222,
              "#7201a8"
             ],
             [
              0.3333333333333333,
              "#9c179e"
             ],
             [
              0.4444444444444444,
              "#bd3786"
             ],
             [
              0.5555555555555556,
              "#d8576b"
             ],
             [
              0.6666666666666666,
              "#ed7953"
             ],
             [
              0.7777777777777778,
              "#fb9f3a"
             ],
             [
              0.8888888888888888,
              "#fdca26"
             ],
             [
              1,
              "#f0f921"
             ]
            ],
            "type": "heatmap"
           }
          ],
          "heatmapgl": [
           {
            "colorbar": {
             "outlinewidth": 0,
             "ticks": ""
            },
            "colorscale": [
             [
              0,
              "#0d0887"
             ],
             [
              0.1111111111111111,
              "#46039f"
             ],
             [
              0.2222222222222222,
              "#7201a8"
             ],
             [
              0.3333333333333333,
              "#9c179e"
             ],
             [
              0.4444444444444444,
              "#bd3786"
             ],
             [
              0.5555555555555556,
              "#d8576b"
             ],
             [
              0.6666666666666666,
              "#ed7953"
             ],
             [
              0.7777777777777778,
              "#fb9f3a"
             ],
             [
              0.8888888888888888,
              "#fdca26"
             ],
             [
              1,
              "#f0f921"
             ]
            ],
            "type": "heatmapgl"
           }
          ],
          "histogram": [
           {
            "marker": {
             "pattern": {
              "fillmode": "overlay",
              "size": 10,
              "solidity": 0.2
             }
            },
            "type": "histogram"
           }
          ],
          "histogram2d": [
           {
            "colorbar": {
             "outlinewidth": 0,
             "ticks": ""
            },
            "colorscale": [
             [
              0,
              "#0d0887"
             ],
             [
              0.1111111111111111,
              "#46039f"
             ],
             [
              0.2222222222222222,
              "#7201a8"
             ],
             [
              0.3333333333333333,
              "#9c179e"
             ],
             [
              0.4444444444444444,
              "#bd3786"
             ],
             [
              0.5555555555555556,
              "#d8576b"
             ],
             [
              0.6666666666666666,
              "#ed7953"
             ],
             [
              0.7777777777777778,
              "#fb9f3a"
             ],
             [
              0.8888888888888888,
              "#fdca26"
             ],
             [
              1,
              "#f0f921"
             ]
            ],
            "type": "histogram2d"
           }
          ],
          "histogram2dcontour": [
           {
            "colorbar": {
             "outlinewidth": 0,
             "ticks": ""
            },
            "colorscale": [
             [
              0,
              "#0d0887"
             ],
             [
              0.1111111111111111,
              "#46039f"
             ],
             [
              0.2222222222222222,
              "#7201a8"
             ],
             [
              0.3333333333333333,
              "#9c179e"
             ],
             [
              0.4444444444444444,
              "#bd3786"
             ],
             [
              0.5555555555555556,
              "#d8576b"
             ],
             [
              0.6666666666666666,
              "#ed7953"
             ],
             [
              0.7777777777777778,
              "#fb9f3a"
             ],
             [
              0.8888888888888888,
              "#fdca26"
             ],
             [
              1,
              "#f0f921"
             ]
            ],
            "type": "histogram2dcontour"
           }
          ],
          "mesh3d": [
           {
            "colorbar": {
             "outlinewidth": 0,
             "ticks": ""
            },
            "type": "mesh3d"
           }
          ],
          "parcoords": [
           {
            "line": {
             "colorbar": {
              "outlinewidth": 0,
              "ticks": ""
             }
            },
            "type": "parcoords"
           }
          ],
          "pie": [
           {
            "automargin": true,
            "type": "pie"
           }
          ],
          "scatter": [
           {
            "marker": {
             "colorbar": {
              "outlinewidth": 0,
              "ticks": ""
             }
            },
            "type": "scatter"
           }
          ],
          "scatter3d": [
           {
            "line": {
             "colorbar": {
              "outlinewidth": 0,
              "ticks": ""
             }
            },
            "marker": {
             "colorbar": {
              "outlinewidth": 0,
              "ticks": ""
             }
            },
            "type": "scatter3d"
           }
          ],
          "scattercarpet": [
           {
            "marker": {
             "colorbar": {
              "outlinewidth": 0,
              "ticks": ""
             }
            },
            "type": "scattercarpet"
           }
          ],
          "scattergeo": [
           {
            "marker": {
             "colorbar": {
              "outlinewidth": 0,
              "ticks": ""
             }
            },
            "type": "scattergeo"
           }
          ],
          "scattergl": [
           {
            "marker": {
             "colorbar": {
              "outlinewidth": 0,
              "ticks": ""
             }
            },
            "type": "scattergl"
           }
          ],
          "scattermapbox": [
           {
            "marker": {
             "colorbar": {
              "outlinewidth": 0,
              "ticks": ""
             }
            },
            "type": "scattermapbox"
           }
          ],
          "scatterpolar": [
           {
            "marker": {
             "colorbar": {
              "outlinewidth": 0,
              "ticks": ""
             }
            },
            "type": "scatterpolar"
           }
          ],
          "scatterpolargl": [
           {
            "marker": {
             "colorbar": {
              "outlinewidth": 0,
              "ticks": ""
             }
            },
            "type": "scatterpolargl"
           }
          ],
          "scatterternary": [
           {
            "marker": {
             "colorbar": {
              "outlinewidth": 0,
              "ticks": ""
             }
            },
            "type": "scatterternary"
           }
          ],
          "surface": [
           {
            "colorbar": {
             "outlinewidth": 0,
             "ticks": ""
            },
            "colorscale": [
             [
              0,
              "#0d0887"
             ],
             [
              0.1111111111111111,
              "#46039f"
             ],
             [
              0.2222222222222222,
              "#7201a8"
             ],
             [
              0.3333333333333333,
              "#9c179e"
             ],
             [
              0.4444444444444444,
              "#bd3786"
             ],
             [
              0.5555555555555556,
              "#d8576b"
             ],
             [
              0.6666666666666666,
              "#ed7953"
             ],
             [
              0.7777777777777778,
              "#fb9f3a"
             ],
             [
              0.8888888888888888,
              "#fdca26"
             ],
             [
              1,
              "#f0f921"
             ]
            ],
            "type": "surface"
           }
          ],
          "table": [
           {
            "cells": {
             "fill": {
              "color": "#EBF0F8"
             },
             "line": {
              "color": "white"
             }
            },
            "header": {
             "fill": {
              "color": "#C8D4E3"
             },
             "line": {
              "color": "white"
             }
            },
            "type": "table"
           }
          ]
         },
         "layout": {
          "annotationdefaults": {
           "arrowcolor": "#2a3f5f",
           "arrowhead": 0,
           "arrowwidth": 1
          },
          "autotypenumbers": "strict",
          "coloraxis": {
           "colorbar": {
            "outlinewidth": 0,
            "ticks": ""
           }
          },
          "colorscale": {
           "diverging": [
            [
             0,
             "#8e0152"
            ],
            [
             0.1,
             "#c51b7d"
            ],
            [
             0.2,
             "#de77ae"
            ],
            [
             0.3,
             "#f1b6da"
            ],
            [
             0.4,
             "#fde0ef"
            ],
            [
             0.5,
             "#f7f7f7"
            ],
            [
             0.6,
             "#e6f5d0"
            ],
            [
             0.7,
             "#b8e186"
            ],
            [
             0.8,
             "#7fbc41"
            ],
            [
             0.9,
             "#4d9221"
            ],
            [
             1,
             "#276419"
            ]
           ],
           "sequential": [
            [
             0,
             "#0d0887"
            ],
            [
             0.1111111111111111,
             "#46039f"
            ],
            [
             0.2222222222222222,
             "#7201a8"
            ],
            [
             0.3333333333333333,
             "#9c179e"
            ],
            [
             0.4444444444444444,
             "#bd3786"
            ],
            [
             0.5555555555555556,
             "#d8576b"
            ],
            [
             0.6666666666666666,
             "#ed7953"
            ],
            [
             0.7777777777777778,
             "#fb9f3a"
            ],
            [
             0.8888888888888888,
             "#fdca26"
            ],
            [
             1,
             "#f0f921"
            ]
           ],
           "sequentialminus": [
            [
             0,
             "#0d0887"
            ],
            [
             0.1111111111111111,
             "#46039f"
            ],
            [
             0.2222222222222222,
             "#7201a8"
            ],
            [
             0.3333333333333333,
             "#9c179e"
            ],
            [
             0.4444444444444444,
             "#bd3786"
            ],
            [
             0.5555555555555556,
             "#d8576b"
            ],
            [
             0.6666666666666666,
             "#ed7953"
            ],
            [
             0.7777777777777778,
             "#fb9f3a"
            ],
            [
             0.8888888888888888,
             "#fdca26"
            ],
            [
             1,
             "#f0f921"
            ]
           ]
          },
          "colorway": [
           "#636efa",
           "#EF553B",
           "#00cc96",
           "#ab63fa",
           "#FFA15A",
           "#19d3f3",
           "#FF6692",
           "#B6E880",
           "#FF97FF",
           "#FECB52"
          ],
          "font": {
           "color": "#2a3f5f"
          },
          "geo": {
           "bgcolor": "white",
           "lakecolor": "white",
           "landcolor": "#E5ECF6",
           "showlakes": true,
           "showland": true,
           "subunitcolor": "white"
          },
          "hoverlabel": {
           "align": "left"
          },
          "hovermode": "closest",
          "mapbox": {
           "style": "light"
          },
          "paper_bgcolor": "white",
          "plot_bgcolor": "#E5ECF6",
          "polar": {
           "angularaxis": {
            "gridcolor": "white",
            "linecolor": "white",
            "ticks": ""
           },
           "bgcolor": "#E5ECF6",
           "radialaxis": {
            "gridcolor": "white",
            "linecolor": "white",
            "ticks": ""
           }
          },
          "scene": {
           "xaxis": {
            "backgroundcolor": "#E5ECF6",
            "gridcolor": "white",
            "gridwidth": 2,
            "linecolor": "white",
            "showbackground": true,
            "ticks": "",
            "zerolinecolor": "white"
           },
           "yaxis": {
            "backgroundcolor": "#E5ECF6",
            "gridcolor": "white",
            "gridwidth": 2,
            "linecolor": "white",
            "showbackground": true,
            "ticks": "",
            "zerolinecolor": "white"
           },
           "zaxis": {
            "backgroundcolor": "#E5ECF6",
            "gridcolor": "white",
            "gridwidth": 2,
            "linecolor": "white",
            "showbackground": true,
            "ticks": "",
            "zerolinecolor": "white"
           }
          },
          "shapedefaults": {
           "line": {
            "color": "#2a3f5f"
           }
          },
          "ternary": {
           "aaxis": {
            "gridcolor": "white",
            "linecolor": "white",
            "ticks": ""
           },
           "baxis": {
            "gridcolor": "white",
            "linecolor": "white",
            "ticks": ""
           },
           "bgcolor": "#E5ECF6",
           "caxis": {
            "gridcolor": "white",
            "linecolor": "white",
            "ticks": ""
           }
          },
          "title": {
           "x": 0.05
          },
          "xaxis": {
           "automargin": true,
           "gridcolor": "white",
           "linecolor": "white",
           "ticks": "",
           "title": {
            "standoff": 15
           },
           "zerolinecolor": "white",
           "zerolinewidth": 2
          },
          "yaxis": {
           "automargin": true,
           "gridcolor": "white",
           "linecolor": "white",
           "ticks": "",
           "title": {
            "standoff": 15
           },
           "zerolinecolor": "white",
           "zerolinewidth": 2
          }
         }
        },
        "width": 1100,
        "xaxis": {
         "anchor": "y",
         "autorange": true,
         "domain": [
          0,
          1
         ],
         "range": [
          2014.5,
          2021.5
         ],
         "type": "linear"
        },
        "yaxis": {
         "anchor": "x",
         "autorange": true,
         "domain": [
          0,
          1
         ],
         "range": [
          -324475.1777777777,
          271652.3777777778
         ],
         "type": "linear"
        }
       }
      },
      "image/png": "[encoded data removed]",
      "text/html": [
       "<div>                            <div id=\"5f5780b5-4852-4818-8d8f-9dfc9369c060\" class=\"plotly-graph-div\" style=\"height:500px; width:1100px;\"></div>            <script type=\"text/javascript\">                require([\"plotly\"], function(Plotly) {                    window.PLOTLYENV=window.PLOTLYENV || {};                                    if (document.getElementById(\"5f5780b5-4852-4818-8d8f-9dfc9369c060\")) {                    Plotly.newPlot(                        \"5f5780b5-4852-4818-8d8f-9dfc9369c060\",                        [{\"name\":\"Contract price\",\"type\":\"bar\",\"x\":[2015,2016,2017,2018,2019,2020,2021],\"y\":[44253.0,42256.0,42461.0,88651.0,98038.0,241846.0,161616.0]},{\"name\":\"Exercise outcome\",\"type\":\"bar\",\"x\":[2015,2016,2017,2018,2019,2020,2021],\"y\":[-58488.90000000001,-19410.90000000004,-40732.39999999995,-130977.7,-169071.59999999995,-294668.79999999993,-70406.09999999998]},{\"name\":\"Total Profit\",\"type\":\"scatter\",\"x\":[2015,2016,2017,2018,2019,2020,2021],\"y\":[-14235.900000000021,22845.099999999962,1728.6000000000477,-42326.700000000004,-71033.59999999995,-52822.799999999974,91209.90000000002]}],                        {\"height\":500,\"template\":{\"data\":{\"bar\":[{\"error_x\":{\"color\":\"#2a3f5f\"},\"error_y\":{\"color\":\"#2a3f5f\"},\"marker\":{\"line\":{\"color\":\"#E5ECF6\",\"width\":0.5},\"pattern\":{\"fillmode\":\"overlay\",\"size\":10,\"solidity\":0.2}},\"type\":\"bar\"}],\"barpolar\":[{\"marker\":{\"line\":{\"color\":\"#E5ECF6\",\"width\":0.5},\"pattern\":{\"fillmode\":\"overlay\",\"size\":10,\"solidity\":0.2}},\"type\":\"barpolar\"}],\"carpet\":[{\"aaxis\":{\"endlinecolor\":\"#2a3f5f\",\"gridcolor\":\"white\",\"linecolor\":\"white\",\"minorgridcolor\":\"white\",\"startlinecolor\":\"#2a3f5f\"},\"baxis\":{\"endlinecolor\":\"#2a3f5f\",\"gridcolor\":\"white\",\"linecolor\":\"white\",\"minorgridcolor\":\"white\",\"startlinecolor\":\"#2a3f5f\"},\"type\":\"carpet\"}],\"choropleth\":[{\"colorbar\":{\"outlinewidth\":0,\"ticks\":\"\"},\"type\":\"choropleth\"}],\"contour\":[{\"colorbar\":{\"outlinewidth\":0,\"ticks\":\"\"},\"colorscale\":[[0.0,\"#0d0887\"],[0.1111111111111111,\"#46039f\"],[0.2222222222222222,\"#7201a8\"],[0.3333333333333333,\"#9c179e\"],[0.4444444444444444,\"#bd3786\"],[0.5555555555555556,\"#d8576b\"],[0.6666666666666666,\"#ed7953\"],[0.7777777777777778,\"#fb9f3a\"],[0.8888888888888888,\"#fdca26\"],[1.0,\"#f0f921\"]],\"type\":\"contour\"}],\"contourcarpet\":[{\"colorbar\":{\"outlinewidth\":0,\"ticks\":\"\"},\"type\":\"contourcarpet\"}],\"heatmap\":[{\"colorbar\":{\"outlinewidth\":0,\"ticks\":\"\"},\"colorscale\":[[0.0,\"#0d0887\"],[0.1111111111111111,\"#46039f\"],[0.2222222222222222,\"#7201a8\"],[0.3333333333333333,\"#9c179e\"],[0.4444444444444444,\"#bd3786\"],[0.5555555555555556,\"#d8576b\"],[0.6666666666666666,\"#ed7953\"],[0.7777777777777778,\"#fb9f3a\"],[0.8888888888888888,\"#fdca26\"],[1.0,\"#f0f921\"]],\"type\":\"heatmap\"}],\"heatmapgl\":[{\"colorbar\":{\"outlinewidth\":0,\"ticks\":\"\"},\"colorscale\":[[0.0,\"#0d0887\"],[0.1111111111111111,\"#46039f\"],[0.2222222222222222,\"#7201a8\"],[0.3333333333333333,\"#9c179e\"],[0.4444444444444444,\"#bd3786\"],[0.5555555555555556,\"#d8576b\"],[0.6666666666666666,\"#ed7953\"],[0.7777777777777778,\"#fb9f3a\"],[0.8888888888888888,\"#fdca26\"],[1.0,\"#f0f921\"]],\"type\":\"heatmapgl\"}],\"histogram\":[{\"marker\":{\"pattern\":{\"fillmode\":\"overlay\",\"size\":10,\"solidity\":0.2}},\"type\":\"histogram\"}],\"histogram2d\":[{\"colorbar\":{\"outlinewidth\":0,\"ticks\":\"\"},\"colorscale\":[[0.0,\"#0d0887\"],[0.1111111111111111,\"#46039f\"],[0.2222222222222222,\"#7201a8\"],[0.3333333333333333,\"#9c179e\"],[0.4444444444444444,\"#bd3786\"],[0.5555555555555556,\"#d8576b\"],[0.6666666666666666,\"#ed7953\"],[0.7777777777777778,\"#fb9f3a\"],[0.8888888888888888,\"#fdca26\"],[1.0,\"#f0f921\"]],\"type\":\"histogram2d\"}],\"histogram2dcontour\":[{\"colorbar\":{\"outlinewidth\":0,\"ticks\":\"\"},\"colorscale\":[[0.0,\"#0d0887\"],[0.1111111111111111,\"#46039f\"],[0.2222222222222222,\"#7201a8\"],[0.3333333333333333,\"#9c179e\"],[0.4444444444444444,\"#bd3786\"],[0.5555555555555556,\"#d8576b\"],[0.6666666666666666,\"#ed7953\"],[0.7777777777777778,\"#fb9f3a\"],[0.8888888888888888,\"#fdca26\"],[1.0,\"#f0f921\"]],\"type\":\"histogram2dcontour\"}],\"mesh3d\":[{\"colorbar\":{\"outlinewidth\":0,\"ticks\":\"\"},\"type\":\"mesh3d\"}],\"parcoords\":[{\"line\":{\"colorbar\":{\"outlinewidth\":0,\"ticks\":\"\"}},\"type\":\"parcoords\"}],\"pie\":[{\"automargin\":true,\"type\":\"pie\"}],\"scatter\":[{\"marker\":{\"colorbar\":{\"outlinewidth\":0,\"ticks\":\"\"}},\"type\":\"scatter\"}],\"scatter3d\":[{\"line\":{\"colorbar\":{\"outlinewidth\":0,\"ticks\":\"\"}},\"marker\":{\"colorbar\":{\"outlinewidth\":0,\"ticks\":\"\"}},\"type\":\"scatter3d\"}],\"scattercarpet\":[{\"marker\":{\"colorbar\":{\"outlinewidth\":0,\"ticks\":\"\"}},\"type\":\"scattercarpet\"}],\"scattergeo\":[{\"marker\":{\"colorbar\":{\"outlinewidth\":0,\"ticks\":\"\"}},\"type\":\"scattergeo\"}],\"scattergl\":[{\"marker\":{\"colorbar\":{\"outlinewidth\":0,\"ticks\":\"\"}},\"type\":\"scattergl\"}],\"scattermapbox\":[{\"marker\":{\"colorbar\":{\"outlinewidth\":0,\"ticks\":\"\"}},\"type\":\"scattermapbox\"}],\"scatterpolar\":[{\"marker\":{\"colorbar\":{\"outlinewidth\":0,\"ticks\":\"\"}},\"type\":\"scatterpolar\"}],\"scatterpolargl\":[{\"marker\":{\"colorbar\":{\"outlinewidth\":0,\"ticks\":\"\"}},\"type\":\"scatterpolargl\"}],\"scatterternary\":[{\"marker\":{\"colorbar\":{\"outlinewidth\":0,\"ticks\":\"\"}},\"type\":\"scatterternary\"}],\"surface\":[{\"colorbar\":{\"outlinewidth\":0,\"ticks\":\"\"},\"colorscale\":[[0.0,\"#0d0887\"],[0.1111111111111111,\"#46039f\"],[0.2222222222222222,\"#7201a8\"],[0.3333333333333333,\"#9c179e\"],[0.4444444444444444,\"#bd3786\"],[0.5555555555555556,\"#d8576b\"],[0.6666666666666666,\"#ed7953\"],[0.7777777777777778,\"#fb9f3a\"],[0.8888888888888888,\"#fdca26\"],[1.0,\"#f0f921\"]],\"type\":\"surface\"}],\"table\":[{\"cells\":{\"fill\":{\"color\":\"#EBF0F8\"},\"line\":{\"color\":\"white\"}},\"header\":{\"fill\":{\"color\":\"#C8D4E3\"},\"line\":{\"color\":\"white\"}},\"type\":\"table\"}]},\"layout\":{\"annotationdefaults\":{\"arrowcolor\":\"#2a3f5f\",\"arrowhead\":0,\"arrowwidth\":1},\"autotypenumbers\":\"strict\",\"coloraxis\":{\"colorbar\":{\"outlinewidth\":0,\"ticks\":\"\"}},\"colorscale\":{\"diverging\":[[0,\"#8e0152\"],[0.1,\"#c51b7d\"],[0.2,\"#de77ae\"],[0.3,\"#f1b6da\"],[0.4,\"#fde0ef\"],[0.5,\"#f7f7f7\"],[0.6,\"#e6f5d0\"],[0.7,\"#b8e186\"],[0.8,\"#7fbc41\"],[0.9,\"#4d9221\"],[1,\"#276419\"]],\"sequential\":[[0.0,\"#0d0887\"],[0.1111111111111111,\"#46039f\"],[0.2222222222222222,\"#7201a8\"],[0.3333333333333333,\"#9c179e\"],[0.4444444444444444,\"#bd3786\"],[0.5555555555555556,\"#d8576b\"],[0.6666666666666666,\"#ed7953\"],[0.7777777777777778,\"#fb9f3a\"],[0.8888888888888888,\"#fdca26\"],[1.0,\"#f0f921\"]],\"sequentialminus\":[[0.0,\"#0d0887\"],[0.1111111111111111,\"#46039f\"],[0.2222222222222222,\"#7201a8\"],[0.3333333333333333,\"#9c179e\"],[0.4444444444444444,\"#bd3786\"],[0.5555555555555556,\"#d8576b\"],[0.6666666666666666,\"#ed7953\"],[0.7777777777777778,\"#fb9f3a\"],[0.8888888888888888,\"#fdca26\"],[1.0,\"#f0f921\"]]},\"colorway\":[\"#636efa\",\"#EF553B\",\"#00cc96\",\"#ab63fa\",\"#FFA15A\",\"#19d3f3\",\"#FF6692\",\"#B6E880\",\"#FF97FF\",\"#FECB52\"],\"font\":{\"color\":\"#2a3f5f\"},\"geo\":{\"bgcolor\":\"white\",\"lakecolor\":\"white\",\"landcolor\":\"#E5ECF6\",\"showlakes\":true,\"showland\":true,\"subunitcolor\":\"white\"},\"hoverlabel\":{\"align\":\"left\"},\"hovermode\":\"closest\",\"mapbox\":{\"style\":\"light\"},\"paper_bgcolor\":\"white\",\"plot_bgcolor\":\"#E5ECF6\",\"polar\":{\"angularaxis\":{\"gridcolor\":\"white\",\"linecolor\":\"white\",\"ticks\":\"\"},\"bgcolor\":\"#E5ECF6\",\"radialaxis\":{\"gridcolor\":\"white\",\"linecolor\":\"white\",\"ticks\":\"\"}},\"scene\":{\"xaxis\":{\"backgroundcolor\":\"#E5ECF6\",\"gridcolor\":\"white\",\"gridwidth\":2,\"linecolor\":\"white\",\"showbackground\":true,\"ticks\":\"\",\"zerolinecolor\":\"white\"},\"yaxis\":{\"backgroundcolor\":\"#E5ECF6\",\"gridcolor\":\"white\",\"gridwidth\":2,\"linecolor\":\"white\",\"showbackground\":true,\"ticks\":\"\",\"zerolinecolor\":\"white\"},\"zaxis\":{\"backgroundcolor\":\"#E5ECF6\",\"gridcolor\":\"white\",\"gridwidth\":2,\"linecolor\":\"white\",\"showbackground\":true,\"ticks\":\"\",\"zerolinecolor\":\"white\"}},\"shapedefaults\":{\"line\":{\"color\":\"#2a3f5f\"}},\"ternary\":{\"aaxis\":{\"gridcolor\":\"white\",\"linecolor\":\"white\",\"ticks\":\"\"},\"baxis\":{\"gridcolor\":\"white\",\"linecolor\":\"white\",\"ticks\":\"\"},\"bgcolor\":\"#E5ECF6\",\"caxis\":{\"gridcolor\":\"white\",\"linecolor\":\"white\",\"ticks\":\"\"}},\"title\":{\"x\":0.05},\"xaxis\":{\"automargin\":true,\"gridcolor\":\"white\",\"linecolor\":\"white\",\"ticks\":\"\",\"title\":{\"standoff\":15},\"zerolinecolor\":\"white\",\"zerolinewidth\":2},\"yaxis\":{\"automargin\":true,\"gridcolor\":\"white\",\"linecolor\":\"white\",\"ticks\":\"\",\"title\":{\"standoff\":15},\"zerolinecolor\":\"white\",\"zerolinewidth\":2}}},\"width\":1100,\"xaxis\":{\"anchor\":\"y\",\"domain\":[0.0,1.0]},\"yaxis\":{\"anchor\":\"x\",\"domain\":[0.0,1.0]}},                        {\"responsive\": true}                    ).then(function(){\n",
       "                            \n",
       "var gd = document.getElementById('5f5780b5-4852-4818-8d8f-9dfc9369c060');\n",
       "var x = new MutationObserver(function (mutations, observer) {{\n",
       "        var display = window.getComputedStyle(gd).display;\n",
       "        if (!display || display === 'none') {{\n",
       "            console.log([gd, 'removed!']);\n",
       "            Plotly.purge(gd);\n",
       "            observer.disconnect();\n",
       "        }}\n",
       "}});\n",
       "\n",
       "// Listen for the removal of the full notebook cells\n",
       "var notebookContainer = gd.closest('#notebook-container');\n",
       "if (notebookContainer) {{\n",
       "    x.observe(notebookContainer, {childList: true});\n",
       "}}\n",
       "\n",
       "// Listen for the clearing of the current output cell\n",
       "var outputEl = gd.closest('.output');\n",
       "if (outputEl) {{\n",
       "    x.observe(outputEl, {childList: true});\n",
       "}}\n",
       "\n",
       "                        })                };                });            </script>        </div>"
      ]
     },
     "metadata": {},
     "output_type": "display_data"
    }
   ],
   "source": [
    "newdf = short_IC_5_10.groupby(by = ['Year'])['Contract price','Exercise outcome', 'Total Profit/Loss' ].sum().reset_index()\n",
    "\n",
    "fig = make_subplots()\n",
    "\n",
    "fig.add_trace(go.Bar(x=newdf['Year'], y=newdf['Contract price'], name = 'Contract price'))\n",
    "fig.add_trace(go.Bar(x=newdf['Year'], y=newdf['Exercise outcome'], name = 'Exercise outcome'))\n",
    "fig.add_trace(go.Line(x=newdf['Year'], y=newdf['Total Profit/Loss'], name = 'Total Profit'))\n",
    "\n",
    "fig.update_layout(height=500, width=1100)\n",
    "fig.show()"
   ]
  },
  {
   "cell_type": "code",
   "execution_count": 27,
   "id": "908debd0-f0f5-4771-8a19-4802c47a4f64",
   "metadata": {},
   "outputs": [
    {
     "data": {
      "application/vnd.plotly.v1+json": {
       "config": {
        "plotlyServerURL": "https://plot.ly"
       },
       "data": [
        {
         "name": "Number of Exercised options",
         "type": "bar",
         "x": [
          2015,
          2016,
          2017,
          2018,
          2019,
          2020,
          2021
         ],
         "xaxis": "x",
         "y": [
          7,
          2,
          4,
          7,
          10,
          13,
          3
         ],
         "yaxis": "y"
        },
        {
         "name": "Number of Expired worthless options",
         "type": "bar",
         "x": [
          2015,
          2016,
          2017,
          2018,
          2019,
          2020,
          2021
         ],
         "xaxis": "x",
         "y": [
          33,
          34,
          44,
          37,
          38,
          35,
          29
         ],
         "yaxis": "y"
        },
        {
         "name": "Total Profit",
         "type": "scatter",
         "x": [
          2015,
          2016,
          2017,
          2018,
          2019,
          2020,
          2021
         ],
         "xaxis": "x",
         "y": [
          -14235.90000000002,
          22845.099999999962,
          1728.6000000000495,
          -42326.70000000001,
          -71033.59999999995,
          -52822.79999999999,
          91209.90000000002
         ],
         "yaxis": "y2"
        }
       ],
       "layout": {
        "autosize": true,
        "template": {
         "data": {
          "bar": [
           {
            "error_x": {
             "color": "#2a3f5f"
            },
            "error_y": {
             "color": "#2a3f5f"
            },
            "marker": {
             "line": {
              "color": "#E5ECF6",
              "width": 0.5
             },
             "pattern": {
              "fillmode": "overlay",
              "size": 10,
              "solidity": 0.2
             }
            },
            "type": "bar"
           }
          ],
          "barpolar": [
           {
            "marker": {
             "line": {
              "color": "#E5ECF6",
              "width": 0.5
             },
             "pattern": {
              "fillmode": "overlay",
              "size": 10,
              "solidity": 0.2
             }
            },
            "type": "barpolar"
           }
          ],
          "carpet": [
           {
            "aaxis": {
             "endlinecolor": "#2a3f5f",
             "gridcolor": "white",
             "linecolor": "white",
             "minorgridcolor": "white",
             "startlinecolor": "#2a3f5f"
            },
            "baxis": {
             "endlinecolor": "#2a3f5f",
             "gridcolor": "white",
             "linecolor": "white",
             "minorgridcolor": "white",
             "startlinecolor": "#2a3f5f"
            },
            "type": "carpet"
           }
          ],
          "choropleth": [
           {
            "colorbar": {
             "outlinewidth": 0,
             "ticks": ""
            },
            "type": "choropleth"
           }
          ],
          "contour": [
           {
            "colorbar": {
             "outlinewidth": 0,
             "ticks": ""
            },
            "colorscale": [
             [
              0,
              "#0d0887"
             ],
             [
              0.1111111111111111,
              "#46039f"
             ],
             [
              0.2222222222222222,
              "#7201a8"
             ],
             [
              0.3333333333333333,
              "#9c179e"
             ],
             [
              0.4444444444444444,
              "#bd3786"
             ],
             [
              0.5555555555555556,
              "#d8576b"
             ],
             [
              0.6666666666666666,
              "#ed7953"
             ],
             [
              0.7777777777777778,
              "#fb9f3a"
             ],
             [
              0.8888888888888888,
              "#fdca26"
             ],
             [
              1,
              "#f0f921"
             ]
            ],
            "type": "contour"
           }
          ],
          "contourcarpet": [
           {
            "colorbar": {
             "outlinewidth": 0,
             "ticks": ""
            },
            "type": "contourcarpet"
           }
          ],
          "heatmap": [
           {
            "colorbar": {
             "outlinewidth": 0,
             "ticks": ""
            },
            "colorscale": [
             [
              0,
              "#0d0887"
             ],
             [
              0.1111111111111111,
              "#46039f"
             ],
             [
              0.2222222222222222,
              "#7201a8"
             ],
             [
              0.3333333333333333,
              "#9c179e"
             ],
             [
              0.4444444444444444,
              "#bd3786"
             ],
             [
              0.5555555555555556,
              "#d8576b"
             ],
             [
              0.6666666666666666,
              "#ed7953"
             ],
             [
              0.7777777777777778,
              "#fb9f3a"
             ],
             [
              0.8888888888888888,
              "#fdca26"
             ],
             [
              1,
              "#f0f921"
             ]
            ],
            "type": "heatmap"
           }
          ],
          "heatmapgl": [
           {
            "colorbar": {
             "outlinewidth": 0,
             "ticks": ""
            },
            "colorscale": [
             [
              0,
              "#0d0887"
             ],
             [
              0.1111111111111111,
              "#46039f"
             ],
             [
              0.2222222222222222,
              "#7201a8"
             ],
             [
              0.3333333333333333,
              "#9c179e"
             ],
             [
              0.4444444444444444,
              "#bd3786"
             ],
             [
              0.5555555555555556,
              "#d8576b"
             ],
             [
              0.6666666666666666,
              "#ed7953"
             ],
             [
              0.7777777777777778,
              "#fb9f3a"
             ],
             [
              0.8888888888888888,
              "#fdca26"
             ],
             [
              1,
              "#f0f921"
             ]
            ],
            "type": "heatmapgl"
           }
          ],
          "histogram": [
           {
            "marker": {
             "pattern": {
              "fillmode": "overlay",
              "size": 10,
              "solidity": 0.2
             }
            },
            "type": "histogram"
           }
          ],
          "histogram2d": [
           {
            "colorbar": {
             "outlinewidth": 0,
             "ticks": ""
            },
            "colorscale": [
             [
              0,
              "#0d0887"
             ],
             [
              0.1111111111111111,
              "#46039f"
             ],
             [
              0.2222222222222222,
              "#7201a8"
             ],
             [
              0.3333333333333333,
              "#9c179e"
             ],
             [
              0.4444444444444444,
              "#bd3786"
             ],
             [
              0.5555555555555556,
              "#d8576b"
             ],
             [
              0.6666666666666666,
              "#ed7953"
             ],
             [
              0.7777777777777778,
              "#fb9f3a"
             ],
             [
              0.8888888888888888,
              "#fdca26"
             ],
             [
              1,
              "#f0f921"
             ]
            ],
            "type": "histogram2d"
           }
          ],
          "histogram2dcontour": [
           {
            "colorbar": {
             "outlinewidth": 0,
             "ticks": ""
            },
            "colorscale": [
             [
              0,
              "#0d0887"
             ],
             [
              0.1111111111111111,
              "#46039f"
             ],
             [
              0.2222222222222222,
              "#7201a8"
             ],
             [
              0.3333333333333333,
              "#9c179e"
             ],
             [
              0.4444444444444444,
              "#bd3786"
             ],
             [
              0.5555555555555556,
              "#d8576b"
             ],
             [
              0.6666666666666666,
              "#ed7953"
             ],
             [
              0.7777777777777778,
              "#fb9f3a"
             ],
             [
              0.8888888888888888,
              "#fdca26"
             ],
             [
              1,
              "#f0f921"
             ]
            ],
            "type": "histogram2dcontour"
           }
          ],
          "mesh3d": [
           {
            "colorbar": {
             "outlinewidth": 0,
             "ticks": ""
            },
            "type": "mesh3d"
           }
          ],
          "parcoords": [
           {
            "line": {
             "colorbar": {
              "outlinewidth": 0,
              "ticks": ""
             }
            },
            "type": "parcoords"
           }
          ],
          "pie": [
           {
            "automargin": true,
            "type": "pie"
           }
          ],
          "scatter": [
           {
            "marker": {
             "colorbar": {
              "outlinewidth": 0,
              "ticks": ""
             }
            },
            "type": "scatter"
           }
          ],
          "scatter3d": [
           {
            "line": {
             "colorbar": {
              "outlinewidth": 0,
              "ticks": ""
             }
            },
            "marker": {
             "colorbar": {
              "outlinewidth": 0,
              "ticks": ""
             }
            },
            "type": "scatter3d"
           }
          ],
          "scattercarpet": [
           {
            "marker": {
             "colorbar": {
              "outlinewidth": 0,
              "ticks": ""
             }
            },
            "type": "scattercarpet"
           }
          ],
          "scattergeo": [
           {
            "marker": {
             "colorbar": {
              "outlinewidth": 0,
              "ticks": ""
             }
            },
            "type": "scattergeo"
           }
          ],
          "scattergl": [
           {
            "marker": {
             "colorbar": {
              "outlinewidth": 0,
              "ticks": ""
             }
            },
            "type": "scattergl"
           }
          ],
          "scattermapbox": [
           {
            "marker": {
             "colorbar": {
              "outlinewidth": 0,
              "ticks": ""
             }
            },
            "type": "scattermapbox"
           }
          ],
          "scatterpolar": [
           {
            "marker": {
             "colorbar": {
              "outlinewidth": 0,
              "ticks": ""
             }
            },
            "type": "scatterpolar"
           }
          ],
          "scatterpolargl": [
           {
            "marker": {
             "colorbar": {
              "outlinewidth": 0,
              "ticks": ""
             }
            },
            "type": "scatterpolargl"
           }
          ],
          "scatterternary": [
           {
            "marker": {
             "colorbar": {
              "outlinewidth": 0,
              "ticks": ""
             }
            },
            "type": "scatterternary"
           }
          ],
          "surface": [
           {
            "colorbar": {
             "outlinewidth": 0,
             "ticks": ""
            },
            "colorscale": [
             [
              0,
              "#0d0887"
             ],
             [
              0.1111111111111111,
              "#46039f"
             ],
             [
              0.2222222222222222,
              "#7201a8"
             ],
             [
              0.3333333333333333,
              "#9c179e"
             ],
             [
              0.4444444444444444,
              "#bd3786"
             ],
             [
              0.5555555555555556,
              "#d8576b"
             ],
             [
              0.6666666666666666,
              "#ed7953"
             ],
             [
              0.7777777777777778,
              "#fb9f3a"
             ],
             [
              0.8888888888888888,
              "#fdca26"
             ],
             [
              1,
              "#f0f921"
             ]
            ],
            "type": "surface"
           }
          ],
          "table": [
           {
            "cells": {
             "fill": {
              "color": "#EBF0F8"
             },
             "line": {
              "color": "white"
             }
            },
            "header": {
             "fill": {
              "color": "#C8D4E3"
             },
             "line": {
              "color": "white"
             }
            },
            "type": "table"
           }
          ]
         },
         "layout": {
          "annotationdefaults": {
           "arrowcolor": "#2a3f5f",
           "arrowhead": 0,
           "arrowwidth": 1
          },
          "autotypenumbers": "strict",
          "coloraxis": {
           "colorbar": {
            "outlinewidth": 0,
            "ticks": ""
           }
          },
          "colorscale": {
           "diverging": [
            [
             0,
             "#8e0152"
            ],
            [
             0.1,
             "#c51b7d"
            ],
            [
             0.2,
             "#de77ae"
            ],
            [
             0.3,
             "#f1b6da"
            ],
            [
             0.4,
             "#fde0ef"
            ],
            [
             0.5,
             "#f7f7f7"
            ],
            [
             0.6,
             "#e6f5d0"
            ],
            [
             0.7,
             "#b8e186"
            ],
            [
             0.8,
             "#7fbc41"
            ],
            [
             0.9,
             "#4d9221"
            ],
            [
             1,
             "#276419"
            ]
           ],
           "sequential": [
            [
             0,
             "#0d0887"
            ],
            [
             0.1111111111111111,
             "#46039f"
            ],
            [
             0.2222222222222222,
             "#7201a8"
            ],
            [
             0.3333333333333333,
             "#9c179e"
            ],
            [
             0.4444444444444444,
             "#bd3786"
            ],
            [
             0.5555555555555556,
             "#d8576b"
            ],
            [
             0.6666666666666666,
             "#ed7953"
            ],
            [
             0.7777777777777778,
             "#fb9f3a"
            ],
            [
             0.8888888888888888,
             "#fdca26"
            ],
            [
             1,
             "#f0f921"
            ]
           ],
           "sequentialminus": [
            [
             0,
             "#0d0887"
            ],
            [
             0.1111111111111111,
             "#46039f"
            ],
            [
             0.2222222222222222,
             "#7201a8"
            ],
            [
             0.3333333333333333,
             "#9c179e"
            ],
            [
             0.4444444444444444,
             "#bd3786"
            ],
            [
             0.5555555555555556,
             "#d8576b"
            ],
            [
             0.6666666666666666,
             "#ed7953"
            ],
            [
             0.7777777777777778,
             "#fb9f3a"
            ],
            [
             0.8888888888888888,
             "#fdca26"
            ],
            [
             1,
             "#f0f921"
            ]
           ]
          },
          "colorway": [
           "#636efa",
           "#EF553B",
           "#00cc96",
           "#ab63fa",
           "#FFA15A",
           "#19d3f3",
           "#FF6692",
           "#B6E880",
           "#FF97FF",
           "#FECB52"
          ],
          "font": {
           "color": "#2a3f5f"
          },
          "geo": {
           "bgcolor": "white",
           "lakecolor": "white",
           "landcolor": "#E5ECF6",
           "showlakes": true,
           "showland": true,
           "subunitcolor": "white"
          },
          "hoverlabel": {
           "align": "left"
          },
          "hovermode": "closest",
          "mapbox": {
           "style": "light"
          },
          "paper_bgcolor": "white",
          "plot_bgcolor": "#E5ECF6",
          "polar": {
           "angularaxis": {
            "gridcolor": "white",
            "linecolor": "white",
            "ticks": ""
           },
           "bgcolor": "#E5ECF6",
           "radialaxis": {
            "gridcolor": "white",
            "linecolor": "white",
            "ticks": ""
           }
          },
          "scene": {
           "xaxis": {
            "backgroundcolor": "#E5ECF6",
            "gridcolor": "white",
            "gridwidth": 2,
            "linecolor": "white",
            "showbackground": true,
            "ticks": "",
            "zerolinecolor": "white"
           },
           "yaxis": {
            "backgroundcolor": "#E5ECF6",
            "gridcolor": "white",
            "gridwidth": 2,
            "linecolor": "white",
            "showbackground": true,
            "ticks": "",
            "zerolinecolor": "white"
           },
           "zaxis": {
            "backgroundcolor": "#E5ECF6",
            "gridcolor": "white",
            "gridwidth": 2,
            "linecolor": "white",
            "showbackground": true,
            "ticks": "",
            "zerolinecolor": "white"
           }
          },
          "shapedefaults": {
           "line": {
            "color": "#2a3f5f"
           }
          },
          "ternary": {
           "aaxis": {
            "gridcolor": "white",
            "linecolor": "white",
            "ticks": ""
           },
           "baxis": {
            "gridcolor": "white",
            "linecolor": "white",
            "ticks": ""
           },
           "bgcolor": "#E5ECF6",
           "caxis": {
            "gridcolor": "white",
            "linecolor": "white",
            "ticks": ""
           }
          },
          "title": {
           "x": 0.05
          },
          "xaxis": {
           "automargin": true,
           "gridcolor": "white",
           "linecolor": "white",
           "ticks": "",
           "title": {
            "standoff": 15
           },
           "zerolinecolor": "white",
           "zerolinewidth": 2
          },
          "yaxis": {
           "automargin": true,
           "gridcolor": "white",
           "linecolor": "white",
           "ticks": "",
           "title": {
            "standoff": 15
           },
           "zerolinecolor": "white",
           "zerolinewidth": 2
          }
         }
        },
        "xaxis": {
         "anchor": "y",
         "autorange": true,
         "domain": [
          0,
          0.94
         ],
         "range": [
          2014.5,
          2021.5
         ],
         "type": "linear"
        },
        "yaxis": {
         "anchor": "x",
         "autorange": true,
         "domain": [
          0,
          1
         ],
         "range": [
          0,
          46.31578947368421
         ],
         "type": "linear"
        },
        "yaxis2": {
         "anchor": "x",
         "autorange": true,
         "overlaying": "y",
         "range": [
          -84422.62669902908,
          104598.92669902915
         ],
         "side": "right",
         "type": "linear"
        }
       }
      },
      "image/png": "[encoded data removed]",
      "text/html": [
       "<div>                            <div id=\"d3aa598e-7cc9-4050-a8c3-51c9941f374f\" class=\"plotly-graph-div\" style=\"height:525px; width:100%;\"></div>            <script type=\"text/javascript\">                require([\"plotly\"], function(Plotly) {                    window.PLOTLYENV=window.PLOTLYENV || {};                                    if (document.getElementById(\"d3aa598e-7cc9-4050-a8c3-51c9941f374f\")) {                    Plotly.newPlot(                        \"d3aa598e-7cc9-4050-a8c3-51c9941f374f\",                        [{\"name\":\"Number of Exercised options\",\"type\":\"bar\",\"x\":[2015,2016,2017,2018,2019,2020,2021],\"xaxis\":\"x\",\"y\":[7,2,4,7,10,13,3],\"yaxis\":\"y\"},{\"name\":\"Number of Expired worthless options\",\"type\":\"bar\",\"x\":[2015,2016,2017,2018,2019,2020,2021],\"xaxis\":\"x\",\"y\":[33,34,44,37,38,35,29],\"yaxis\":\"y\"},{\"name\":\"Total Profit\",\"type\":\"scatter\",\"x\":[2015,2016,2017,2018,2019,2020,2021],\"xaxis\":\"x\",\"y\":[-14235.90000000002,22845.099999999962,1728.6000000000495,-42326.70000000001,-71033.59999999995,-52822.79999999999,91209.90000000002],\"yaxis\":\"y2\"}],                        {\"template\":{\"data\":{\"bar\":[{\"error_x\":{\"color\":\"#2a3f5f\"},\"error_y\":{\"color\":\"#2a3f5f\"},\"marker\":{\"line\":{\"color\":\"#E5ECF6\",\"width\":0.5},\"pattern\":{\"fillmode\":\"overlay\",\"size\":10,\"solidity\":0.2}},\"type\":\"bar\"}],\"barpolar\":[{\"marker\":{\"line\":{\"color\":\"#E5ECF6\",\"width\":0.5},\"pattern\":{\"fillmode\":\"overlay\",\"size\":10,\"solidity\":0.2}},\"type\":\"barpolar\"}],\"carpet\":[{\"aaxis\":{\"endlinecolor\":\"#2a3f5f\",\"gridcolor\":\"white\",\"linecolor\":\"white\",\"minorgridcolor\":\"white\",\"startlinecolor\":\"#2a3f5f\"},\"baxis\":{\"endlinecolor\":\"#2a3f5f\",\"gridcolor\":\"white\",\"linecolor\":\"white\",\"minorgridcolor\":\"white\",\"startlinecolor\":\"#2a3f5f\"},\"type\":\"carpet\"}],\"choropleth\":[{\"colorbar\":{\"outlinewidth\":0,\"ticks\":\"\"},\"type\":\"choropleth\"}],\"contour\":[{\"colorbar\":{\"outlinewidth\":0,\"ticks\":\"\"},\"colorscale\":[[0.0,\"#0d0887\"],[0.1111111111111111,\"#46039f\"],[0.2222222222222222,\"#7201a8\"],[0.3333333333333333,\"#9c179e\"],[0.4444444444444444,\"#bd3786\"],[0.5555555555555556,\"#d8576b\"],[0.6666666666666666,\"#ed7953\"],[0.7777777777777778,\"#fb9f3a\"],[0.8888888888888888,\"#fdca26\"],[1.0,\"#f0f921\"]],\"type\":\"contour\"}],\"contourcarpet\":[{\"colorbar\":{\"outlinewidth\":0,\"ticks\":\"\"},\"type\":\"contourcarpet\"}],\"heatmap\":[{\"colorbar\":{\"outlinewidth\":0,\"ticks\":\"\"},\"colorscale\":[[0.0,\"#0d0887\"],[0.1111111111111111,\"#46039f\"],[0.2222222222222222,\"#7201a8\"],[0.3333333333333333,\"#9c179e\"],[0.4444444444444444,\"#bd3786\"],[0.5555555555555556,\"#d8576b\"],[0.6666666666666666,\"#ed7953\"],[0.7777777777777778,\"#fb9f3a\"],[0.8888888888888888,\"#fdca26\"],[1.0,\"#f0f921\"]],\"type\":\"heatmap\"}],\"heatmapgl\":[{\"colorbar\":{\"outlinewidth\":0,\"ticks\":\"\"},\"colorscale\":[[0.0,\"#0d0887\"],[0.1111111111111111,\"#46039f\"],[0.2222222222222222,\"#7201a8\"],[0.3333333333333333,\"#9c179e\"],[0.4444444444444444,\"#bd3786\"],[0.5555555555555556,\"#d8576b\"],[0.6666666666666666,\"#ed7953\"],[0.7777777777777778,\"#fb9f3a\"],[0.8888888888888888,\"#fdca26\"],[1.0,\"#f0f921\"]],\"type\":\"heatmapgl\"}],\"histogram\":[{\"marker\":{\"pattern\":{\"fillmode\":\"overlay\",\"size\":10,\"solidity\":0.2}},\"type\":\"histogram\"}],\"histogram2d\":[{\"colorbar\":{\"outlinewidth\":0,\"ticks\":\"\"},\"colorscale\":[[0.0,\"#0d0887\"],[0.1111111111111111,\"#46039f\"],[0.2222222222222222,\"#7201a8\"],[0.3333333333333333,\"#9c179e\"],[0.4444444444444444,\"#bd3786\"],[0.5555555555555556,\"#d8576b\"],[0.6666666666666666,\"#ed7953\"],[0.7777777777777778,\"#fb9f3a\"],[0.8888888888888888,\"#fdca26\"],[1.0,\"#f0f921\"]],\"type\":\"histogram2d\"}],\"histogram2dcontour\":[{\"colorbar\":{\"outlinewidth\":0,\"ticks\":\"\"},\"colorscale\":[[0.0,\"#0d0887\"],[0.1111111111111111,\"#46039f\"],[0.2222222222222222,\"#7201a8\"],[0.3333333333333333,\"#9c179e\"],[0.4444444444444444,\"#bd3786\"],[0.5555555555555556,\"#d8576b\"],[0.6666666666666666,\"#ed7953\"],[0.7777777777777778,\"#fb9f3a\"],[0.8888888888888888,\"#fdca26\"],[1.0,\"#f0f921\"]],\"type\":\"histogram2dcontour\"}],\"mesh3d\":[{\"colorbar\":{\"outlinewidth\":0,\"ticks\":\"\"},\"type\":\"mesh3d\"}],\"parcoords\":[{\"line\":{\"colorbar\":{\"outlinewidth\":0,\"ticks\":\"\"}},\"type\":\"parcoords\"}],\"pie\":[{\"automargin\":true,\"type\":\"pie\"}],\"scatter\":[{\"marker\":{\"colorbar\":{\"outlinewidth\":0,\"ticks\":\"\"}},\"type\":\"scatter\"}],\"scatter3d\":[{\"line\":{\"colorbar\":{\"outlinewidth\":0,\"ticks\":\"\"}},\"marker\":{\"colorbar\":{\"outlinewidth\":0,\"ticks\":\"\"}},\"type\":\"scatter3d\"}],\"scattercarpet\":[{\"marker\":{\"colorbar\":{\"outlinewidth\":0,\"ticks\":\"\"}},\"type\":\"scattercarpet\"}],\"scattergeo\":[{\"marker\":{\"colorbar\":{\"outlinewidth\":0,\"ticks\":\"\"}},\"type\":\"scattergeo\"}],\"scattergl\":[{\"marker\":{\"colorbar\":{\"outlinewidth\":0,\"ticks\":\"\"}},\"type\":\"scattergl\"}],\"scattermapbox\":[{\"marker\":{\"colorbar\":{\"outlinewidth\":0,\"ticks\":\"\"}},\"type\":\"scattermapbox\"}],\"scatterpolar\":[{\"marker\":{\"colorbar\":{\"outlinewidth\":0,\"ticks\":\"\"}},\"type\":\"scatterpolar\"}],\"scatterpolargl\":[{\"marker\":{\"colorbar\":{\"outlinewidth\":0,\"ticks\":\"\"}},\"type\":\"scatterpolargl\"}],\"scatterternary\":[{\"marker\":{\"colorbar\":{\"outlinewidth\":0,\"ticks\":\"\"}},\"type\":\"scatterternary\"}],\"surface\":[{\"colorbar\":{\"outlinewidth\":0,\"ticks\":\"\"},\"colorscale\":[[0.0,\"#0d0887\"],[0.1111111111111111,\"#46039f\"],[0.2222222222222222,\"#7201a8\"],[0.3333333333333333,\"#9c179e\"],[0.4444444444444444,\"#bd3786\"],[0.5555555555555556,\"#d8576b\"],[0.6666666666666666,\"#ed7953\"],[0.7777777777777778,\"#fb9f3a\"],[0.8888888888888888,\"#fdca26\"],[1.0,\"#f0f921\"]],\"type\":\"surface\"}],\"table\":[{\"cells\":{\"fill\":{\"color\":\"#EBF0F8\"},\"line\":{\"color\":\"white\"}},\"header\":{\"fill\":{\"color\":\"#C8D4E3\"},\"line\":{\"color\":\"white\"}},\"type\":\"table\"}]},\"layout\":{\"annotationdefaults\":{\"arrowcolor\":\"#2a3f5f\",\"arrowhead\":0,\"arrowwidth\":1},\"autotypenumbers\":\"strict\",\"coloraxis\":{\"colorbar\":{\"outlinewidth\":0,\"ticks\":\"\"}},\"colorscale\":{\"diverging\":[[0,\"#8e0152\"],[0.1,\"#c51b7d\"],[0.2,\"#de77ae\"],[0.3,\"#f1b6da\"],[0.4,\"#fde0ef\"],[0.5,\"#f7f7f7\"],[0.6,\"#e6f5d0\"],[0.7,\"#b8e186\"],[0.8,\"#7fbc41\"],[0.9,\"#4d9221\"],[1,\"#276419\"]],\"sequential\":[[0.0,\"#0d0887\"],[0.1111111111111111,\"#46039f\"],[0.2222222222222222,\"#7201a8\"],[0.3333333333333333,\"#9c179e\"],[0.4444444444444444,\"#bd3786\"],[0.5555555555555556,\"#d8576b\"],[0.6666666666666666,\"#ed7953\"],[0.7777777777777778,\"#fb9f3a\"],[0.8888888888888888,\"#fdca26\"],[1.0,\"#f0f921\"]],\"sequentialminus\":[[0.0,\"#0d0887\"],[0.1111111111111111,\"#46039f\"],[0.2222222222222222,\"#7201a8\"],[0.3333333333333333,\"#9c179e\"],[0.4444444444444444,\"#bd3786\"],[0.5555555555555556,\"#d8576b\"],[0.6666666666666666,\"#ed7953\"],[0.7777777777777778,\"#fb9f3a\"],[0.8888888888888888,\"#fdca26\"],[1.0,\"#f0f921\"]]},\"colorway\":[\"#636efa\",\"#EF553B\",\"#00cc96\",\"#ab63fa\",\"#FFA15A\",\"#19d3f3\",\"#FF6692\",\"#B6E880\",\"#FF97FF\",\"#FECB52\"],\"font\":{\"color\":\"#2a3f5f\"},\"geo\":{\"bgcolor\":\"white\",\"lakecolor\":\"white\",\"landcolor\":\"#E5ECF6\",\"showlakes\":true,\"showland\":true,\"subunitcolor\":\"white\"},\"hoverlabel\":{\"align\":\"left\"},\"hovermode\":\"closest\",\"mapbox\":{\"style\":\"light\"},\"paper_bgcolor\":\"white\",\"plot_bgcolor\":\"#E5ECF6\",\"polar\":{\"angularaxis\":{\"gridcolor\":\"white\",\"linecolor\":\"white\",\"ticks\":\"\"},\"bgcolor\":\"#E5ECF6\",\"radialaxis\":{\"gridcolor\":\"white\",\"linecolor\":\"white\",\"ticks\":\"\"}},\"scene\":{\"xaxis\":{\"backgroundcolor\":\"#E5ECF6\",\"gridcolor\":\"white\",\"gridwidth\":2,\"linecolor\":\"white\",\"showbackground\":true,\"ticks\":\"\",\"zerolinecolor\":\"white\"},\"yaxis\":{\"backgroundcolor\":\"#E5ECF6\",\"gridcolor\":\"white\",\"gridwidth\":2,\"linecolor\":\"white\",\"showbackground\":true,\"ticks\":\"\",\"zerolinecolor\":\"white\"},\"zaxis\":{\"backgroundcolor\":\"#E5ECF6\",\"gridcolor\":\"white\",\"gridwidth\":2,\"linecolor\":\"white\",\"showbackground\":true,\"ticks\":\"\",\"zerolinecolor\":\"white\"}},\"shapedefaults\":{\"line\":{\"color\":\"#2a3f5f\"}},\"ternary\":{\"aaxis\":{\"gridcolor\":\"white\",\"linecolor\":\"white\",\"ticks\":\"\"},\"baxis\":{\"gridcolor\":\"white\",\"linecolor\":\"white\",\"ticks\":\"\"},\"bgcolor\":\"#E5ECF6\",\"caxis\":{\"gridcolor\":\"white\",\"linecolor\":\"white\",\"ticks\":\"\"}},\"title\":{\"x\":0.05},\"xaxis\":{\"automargin\":true,\"gridcolor\":\"white\",\"linecolor\":\"white\",\"ticks\":\"\",\"title\":{\"standoff\":15},\"zerolinecolor\":\"white\",\"zerolinewidth\":2},\"yaxis\":{\"automargin\":true,\"gridcolor\":\"white\",\"linecolor\":\"white\",\"ticks\":\"\",\"title\":{\"standoff\":15},\"zerolinecolor\":\"white\",\"zerolinewidth\":2}}},\"xaxis\":{\"anchor\":\"y\",\"domain\":[0.0,0.94]},\"yaxis\":{\"anchor\":\"x\",\"domain\":[0.0,1.0]},\"yaxis2\":{\"anchor\":\"x\",\"overlaying\":\"y\",\"side\":\"right\"}},                        {\"responsive\": true}                    ).then(function(){\n",
       "                            \n",
       "var gd = document.getElementById('d3aa598e-7cc9-4050-a8c3-51c9941f374f');\n",
       "var x = new MutationObserver(function (mutations, observer) {{\n",
       "        var display = window.getComputedStyle(gd).display;\n",
       "        if (!display || display === 'none') {{\n",
       "            console.log([gd, 'removed!']);\n",
       "            Plotly.purge(gd);\n",
       "            observer.disconnect();\n",
       "        }}\n",
       "}});\n",
       "\n",
       "// Listen for the removal of the full notebook cells\n",
       "var notebookContainer = gd.closest('#notebook-container');\n",
       "if (notebookContainer) {{\n",
       "    x.observe(notebookContainer, {childList: true});\n",
       "}}\n",
       "\n",
       "// Listen for the clearing of the current output cell\n",
       "var outputEl = gd.closest('.output');\n",
       "if (outputEl) {{\n",
       "    x.observe(outputEl, {childList: true});\n",
       "}}\n",
       "\n",
       "                        })                };                });            </script>        </div>"
      ]
     },
     "metadata": {},
     "output_type": "display_data"
    }
   ],
   "source": [
    "df2 = short_IC_5_10.groupby(by = ['Outcome', 'Trans_Date', 'Exp_date', 'Option type', 'Position'])['Total Profit/Loss'].sum().reset_index()\n",
    "df2.insert(loc = len(df2.columns), column = 'Year', value = [df2['Trans_Date'][i].year for i in range(len(df2))])\n",
    "\n",
    "exer = df2.groupby('Year')['Outcome'].apply(lambda x: x[x == 'Exercised option'].count()).reset_index()\n",
    "exp = df2.groupby('Year')['Outcome'].apply(lambda x: x[x == 'Expired worthless'].count()).reset_index()\n",
    "prof = df2.groupby(by = ['Year'])['Total Profit/Loss'].sum().reset_index()\n",
    "\n",
    "fig = make_subplots(specs=[[{\"secondary_y\": True}]])\n",
    "\n",
    "fig.add_trace(go.Bar(x=exer['Year'], y=exer['Outcome'], name=\"Number of Exercised options\"), secondary_y=False)\n",
    "fig.add_trace(go.Bar(x=exp['Year'], y=exp['Outcome'], name=\"Number of Expired worthless options\"), secondary_y=False)\n",
    "fig.add_trace(go.Line(x=prof['Year'], y= prof['Total Profit/Loss'], name=\"Total Profit\"), secondary_y=True)\n",
    "fig.show()"
   ]
  },
  {
   "cell_type": "code",
   "execution_count": 54,
   "id": "2d31a54e-d35c-4e0b-8bb2-3a611a9b8dbc",
   "metadata": {},
   "outputs": [],
   "source": [
    "df3 = df2.groupby(by = ['Year', 'Outcome'])['Total Profit/Loss'].sum().reset_index()\n",
    "exer = df3.loc[df3[\"Outcome\"] == \"Exercised option\"]\n",
    "exp = df3.loc[df3[\"Outcome\"] == \"Expired worthless\"]\n",
    "\n",
    "df4 = df2.groupby(by = ['Year', 'Option type'])['Total Profit/Loss'].sum().reset_index()\n",
    "call = df4.loc[df4[\"Option type\"] == \"call\"]\n",
    "put = df4.loc[df4[\"Option type\"] == \"put\"]\n",
    "\n",
    "df5 = df2.groupby(by = ['Year', 'Position'])['Total Profit/Loss'].sum().reset_index()\n",
    "short = df5.loc[df5[\"Position\"] == \"short\"]\n",
    "long = df5.loc[df5[\"Position\"] == \"long\"]\n",
    "\n",
    "df6 = df2.groupby(by = ['Year', 'Position', 'Option type'])['Total Profit/Loss'].sum().reset_index()\n",
    "df6['Option'] = df6['Position'] + df6['Option type']\n",
    "Long_call = df6.loc[df6[\"Option\"] == \"longcall\"]\n",
    "long_put = df6.loc[df6[\"Option\"] == \"longput\"]\n",
    "short_call = df6.loc[df6[\"Option\"] == \"shortcall\"]\n",
    "short_put = df6.loc[df6[\"Option\"] == \"shortput\"]"
   ]
  },
  {
   "cell_type": "code",
   "execution_count": 55,
   "id": "92dd3946-dc83-4bd5-a0a7-8882d5a7cc51",
   "metadata": {},
   "outputs": [
    {
     "data": {
      "application/vnd.plotly.v1+json": {
       "config": {
        "plotlyServerURL": "https://plot.ly"
       },
       "data": [
        {
         "name": "Exercised option",
         "type": "scatter",
         "x": [
          2015,
          2016,
          2017,
          2018,
          2019,
          2020,
          2021
         ],
         "xaxis": "x",
         "y": [
          -36938.90000000002,
          -9845.900000000036,
          -36230.39999999995,
          -103249.70000000001,
          -138866.59999999995,
          -225660.8,
          -23969.09999999997
         ],
         "yaxis": "y"
        },
        {
         "name": "Expired worthless",
         "type": "scatter",
         "x": [
          2015,
          2016,
          2017,
          2018,
          2019,
          2020,
          2021
         ],
         "xaxis": "x",
         "y": [
          22703,
          32691,
          37959,
          60923,
          67833,
          172838,
          115179
         ],
         "yaxis": "y"
        },
        {
         "name": "Call",
         "type": "scatter",
         "x": [
          2015,
          2016,
          2017,
          2018,
          2019,
          2020,
          2021
         ],
         "xaxis": "x2",
         "y": [
          -15538.999999999989,
          5945.299999999988,
          -26747.39999999995,
          1134.9999999999782,
          -121659.59999999995,
          -117805.79999999999,
          12244.90000000003
         ],
         "yaxis": "y2"
        },
        {
         "name": "Put",
         "type": "scatter",
         "x": [
          2015,
          2016,
          2017,
          2018,
          2019,
          2020,
          2021
         ],
         "xaxis": "x2",
         "y": [
          1303.0999999999685,
          16899.799999999974,
          28476,
          -43461.69999999998,
          50626,
          64983,
          78965
         ],
         "yaxis": "y2"
        },
        {
         "name": "short",
         "type": "scatter",
         "x": [
          2015,
          2016,
          2017,
          2018,
          2019,
          2020,
          2021
         ],
         "xaxis": "x3",
         "y": [
          -4447.500000000005,
          43073.09999999996,
          18577.60000000005,
          -18559.499999999993,
          -40615.49999999996,
          -134612.5,
          215813.90000000002
         ],
         "yaxis": "y3"
        },
        {
         "name": "long",
         "type": "scatter",
         "x": [
          2015,
          2016,
          2017,
          2018,
          2019,
          2020,
          2021
         ],
         "xaxis": "x3",
         "y": [
          -9788.400000000016,
          -20228,
          -16849,
          -23767.20000000001,
          -30418.099999999984,
          81789.7,
          -124604
         ],
         "yaxis": "y3"
        },
        {
         "name": "Long Call",
         "type": "scatter",
         "x": [
          2015,
          2016,
          2017,
          2018,
          2019,
          2020,
          2021
         ],
         "xaxis": "x4",
         "y": [
          5140.800000000017,
          -1637,
          -645,
          -7639,
          18207.900000000016,
          150942.8,
          -23949
         ],
         "yaxis": "y4"
        },
        {
         "name": "Long Put",
         "type": "scatter",
         "x": [
          2015,
          2016,
          2017,
          2018,
          2019,
          2020,
          2021
         ],
         "xaxis": "x4",
         "y": [
          -14929.200000000033,
          -18591,
          -16204,
          -16128.200000000012,
          -48626,
          -69153.1,
          -100655
         ],
         "yaxis": "y4"
        },
        {
         "name": "Short Call",
         "type": "scatter",
         "x": [
          2015,
          2016,
          2017,
          2018,
          2019,
          2020,
          2021
         ],
         "xaxis": "x4",
         "y": [
          -20679.800000000007,
          7582.299999999988,
          -26102.39999999995,
          8773.999999999978,
          -139867.49999999997,
          -268748.6,
          36193.90000000003
         ],
         "yaxis": "y4"
        },
        {
         "name": "Short Put",
         "type": "scatter",
         "x": [
          2015,
          2016,
          2017,
          2018,
          2019,
          2020,
          2021
         ],
         "xaxis": "x4",
         "y": [
          16232.300000000003,
          35490.799999999974,
          44680,
          -27333.49999999997,
          99252,
          134136.1,
          179620
         ],
         "yaxis": "y4"
        }
       ],
       "layout": {
        "annotations": [
         {
          "font": {
           "size": 16
          },
          "showarrow": false,
          "text": "Total profit from Exersiced versus Expired options",
          "x": 0.225,
          "xanchor": "center",
          "xref": "paper",
          "y": 1,
          "yanchor": "bottom",
          "yref": "paper"
         },
         {
          "font": {
           "size": 16
          },
          "showarrow": false,
          "text": "Total profit from Call versus put options",
          "x": 0.775,
          "xanchor": "center",
          "xref": "paper",
          "y": 1,
          "yanchor": "bottom",
          "yref": "paper"
         },
         {
          "font": {
           "size": 16
          },
          "showarrow": false,
          "text": "Total profit from Short versus Long transactions",
          "x": 0.225,
          "xanchor": "center",
          "xref": "paper",
          "y": 0.375,
          "yanchor": "bottom",
          "yref": "paper"
         },
         {
          "font": {
           "size": 16
          },
          "showarrow": false,
          "text": "Total profit from options option transactions",
          "x": 0.775,
          "xanchor": "center",
          "xref": "paper",
          "y": 0.375,
          "yanchor": "bottom",
          "yref": "paper"
         }
        ],
        "height": 800,
        "template": {
         "data": {
          "bar": [
           {
            "error_x": {
             "color": "#2a3f5f"
            },
            "error_y": {
             "color": "#2a3f5f"
            },
            "marker": {
             "line": {
              "color": "#E5ECF6",
              "width": 0.5
             },
             "pattern": {
              "fillmode": "overlay",
              "size": 10,
              "solidity": 0.2
             }
            },
            "type": "bar"
           }
          ],
          "barpolar": [
           {
            "marker": {
             "line": {
              "color": "#E5ECF6",
              "width": 0.5
             },
             "pattern": {
              "fillmode": "overlay",
              "size": 10,
              "solidity": 0.2
             }
            },
            "type": "barpolar"
           }
          ],
          "carpet": [
           {
            "aaxis": {
             "endlinecolor": "#2a3f5f",
             "gridcolor": "white",
             "linecolor": "white",
             "minorgridcolor": "white",
             "startlinecolor": "#2a3f5f"
            },
            "baxis": {
             "endlinecolor": "#2a3f5f",
             "gridcolor": "white",
             "linecolor": "white",
             "minorgridcolor": "white",
             "startlinecolor": "#2a3f5f"
            },
            "type": "carpet"
           }
          ],
          "choropleth": [
           {
            "colorbar": {
             "outlinewidth": 0,
             "ticks": ""
            },
            "type": "choropleth"
           }
          ],
          "contour": [
           {
            "colorbar": {
             "outlinewidth": 0,
             "ticks": ""
            },
            "colorscale": [
             [
              0,
              "#0d0887"
             ],
             [
              0.1111111111111111,
              "#46039f"
             ],
             [
              0.2222222222222222,
              "#7201a8"
             ],
             [
              0.3333333333333333,
              "#9c179e"
             ],
             [
              0.4444444444444444,
              "#bd3786"
             ],
             [
              0.5555555555555556,
              "#d8576b"
             ],
             [
              0.6666666666666666,
              "#ed7953"
             ],
             [
              0.7777777777777778,
              "#fb9f3a"
             ],
             [
              0.8888888888888888,
              "#fdca26"
             ],
             [
              1,
              "#f0f921"
             ]
            ],
            "type": "contour"
           }
          ],
          "contourcarpet": [
           {
            "colorbar": {
             "outlinewidth": 0,
             "ticks": ""
            },
            "type": "contourcarpet"
           }
          ],
          "heatmap": [
           {
            "colorbar": {
             "outlinewidth": 0,
             "ticks": ""
            },
            "colorscale": [
             [
              0,
              "#0d0887"
             ],
             [
              0.1111111111111111,
              "#46039f"
             ],
             [
              0.2222222222222222,
              "#7201a8"
             ],
             [
              0.3333333333333333,
              "#9c179e"
             ],
             [
              0.4444444444444444,
              "#bd3786"
             ],
             [
              0.5555555555555556,
              "#d8576b"
             ],
             [
              0.6666666666666666,
              "#ed7953"
             ],
             [
              0.7777777777777778,
              "#fb9f3a"
             ],
             [
              0.8888888888888888,
              "#fdca26"
             ],
             [
              1,
              "#f0f921"
             ]
            ],
            "type": "heatmap"
           }
          ],
          "heatmapgl": [
           {
            "colorbar": {
             "outlinewidth": 0,
             "ticks": ""
            },
            "colorscale": [
             [
              0,
              "#0d0887"
             ],
             [
              0.1111111111111111,
              "#46039f"
             ],
             [
              0.2222222222222222,
              "#7201a8"
             ],
             [
              0.3333333333333333,
              "#9c179e"
             ],
             [
              0.4444444444444444,
              "#bd3786"
             ],
             [
              0.5555555555555556,
              "#d8576b"
             ],
             [
              0.6666666666666666,
              "#ed7953"
             ],
             [
              0.7777777777777778,
              "#fb9f3a"
             ],
             [
              0.8888888888888888,
              "#fdca26"
             ],
             [
              1,
              "#f0f921"
             ]
            ],
            "type": "heatmapgl"
           }
          ],
          "histogram": [
           {
            "marker": {
             "pattern": {
              "fillmode": "overlay",
              "size": 10,
              "solidity": 0.2
             }
            },
            "type": "histogram"
           }
          ],
          "histogram2d": [
           {
            "colorbar": {
             "outlinewidth": 0,
             "ticks": ""
            },
            "colorscale": [
             [
              0,
              "#0d0887"
             ],
             [
              0.1111111111111111,
              "#46039f"
             ],
             [
              0.2222222222222222,
              "#7201a8"
             ],
             [
              0.3333333333333333,
              "#9c179e"
             ],
             [
              0.4444444444444444,
              "#bd3786"
             ],
             [
              0.5555555555555556,
              "#d8576b"
             ],
             [
              0.6666666666666666,
              "#ed7953"
             ],
             [
              0.7777777777777778,
              "#fb9f3a"
             ],
             [
              0.8888888888888888,
              "#fdca26"
             ],
             [
              1,
              "#f0f921"
             ]
            ],
            "type": "histogram2d"
           }
          ],
          "histogram2dcontour": [
           {
            "colorbar": {
             "outlinewidth": 0,
             "ticks": ""
            },
            "colorscale": [
             [
              0,
              "#0d0887"
             ],
             [
              0.1111111111111111,
              "#46039f"
             ],
             [
              0.2222222222222222,
              "#7201a8"
             ],
             [
              0.3333333333333333,
              "#9c179e"
             ],
             [
              0.4444444444444444,
              "#bd3786"
             ],
             [
              0.5555555555555556,
              "#d8576b"
             ],
             [
              0.6666666666666666,
              "#ed7953"
             ],
             [
              0.7777777777777778,
              "#fb9f3a"
             ],
             [
              0.8888888888888888,
              "#fdca26"
             ],
             [
              1,
              "#f0f921"
             ]
            ],
            "type": "histogram2dcontour"
           }
          ],
          "mesh3d": [
           {
            "colorbar": {
             "outlinewidth": 0,
             "ticks": ""
            },
            "type": "mesh3d"
           }
          ],
          "parcoords": [
           {
            "line": {
             "colorbar": {
              "outlinewidth": 0,
              "ticks": ""
             }
            },
            "type": "parcoords"
           }
          ],
          "pie": [
           {
            "automargin": true,
            "type": "pie"
           }
          ],
          "scatter": [
           {
            "marker": {
             "colorbar": {
              "outlinewidth": 0,
              "ticks": ""
             }
            },
            "type": "scatter"
           }
          ],
          "scatter3d": [
           {
            "line": {
             "colorbar": {
              "outlinewidth": 0,
              "ticks": ""
             }
            },
            "marker": {
             "colorbar": {
              "outlinewidth": 0,
              "ticks": ""
             }
            },
            "type": "scatter3d"
           }
          ],
          "scattercarpet": [
           {
            "marker": {
             "colorbar": {
              "outlinewidth": 0,
              "ticks": ""
             }
            },
            "type": "scattercarpet"
           }
          ],
          "scattergeo": [
           {
            "marker": {
             "colorbar": {
              "outlinewidth": 0,
              "ticks": ""
             }
            },
            "type": "scattergeo"
           }
          ],
          "scattergl": [
           {
            "marker": {
             "colorbar": {
              "outlinewidth": 0,
              "ticks": ""
             }
            },
            "type": "scattergl"
           }
          ],
          "scattermapbox": [
           {
            "marker": {
             "colorbar": {
              "outlinewidth": 0,
              "ticks": ""
             }
            },
            "type": "scattermapbox"
           }
          ],
          "scatterpolar": [
           {
            "marker": {
             "colorbar": {
              "outlinewidth": 0,
              "ticks": ""
             }
            },
            "type": "scatterpolar"
           }
          ],
          "scatterpolargl": [
           {
            "marker": {
             "colorbar": {
              "outlinewidth": 0,
              "ticks": ""
             }
            },
            "type": "scatterpolargl"
           }
          ],
          "scatterternary": [
           {
            "marker": {
             "colorbar": {
              "outlinewidth": 0,
              "ticks": ""
             }
            },
            "type": "scatterternary"
           }
          ],
          "surface": [
           {
            "colorbar": {
             "outlinewidth": 0,
             "ticks": ""
            },
            "colorscale": [
             [
              0,
              "#0d0887"
             ],
             [
              0.1111111111111111,
              "#46039f"
             ],
             [
              0.2222222222222222,
              "#7201a8"
             ],
             [
              0.3333333333333333,
              "#9c179e"
             ],
             [
              0.4444444444444444,
              "#bd3786"
             ],
             [
              0.5555555555555556,
              "#d8576b"
             ],
             [
              0.6666666666666666,
              "#ed7953"
             ],
             [
              0.7777777777777778,
              "#fb9f3a"
             ],
             [
              0.8888888888888888,
              "#fdca26"
             ],
             [
              1,
              "#f0f921"
             ]
            ],
            "type": "surface"
           }
          ],
          "table": [
           {
            "cells": {
             "fill": {
              "color": "#EBF0F8"
             },
             "line": {
              "color": "white"
             }
            },
            "header": {
             "fill": {
              "color": "#C8D4E3"
             },
             "line": {
              "color": "white"
             }
            },
            "type": "table"
           }
          ]
         },
         "layout": {
          "annotationdefaults": {
           "arrowcolor": "#2a3f5f",
           "arrowhead": 0,
           "arrowwidth": 1
          },
          "autotypenumbers": "strict",
          "coloraxis": {
           "colorbar": {
            "outlinewidth": 0,
            "ticks": ""
           }
          },
          "colorscale": {
           "diverging": [
            [
             0,
             "#8e0152"
            ],
            [
             0.1,
             "#c51b7d"
            ],
            [
             0.2,
             "#de77ae"
            ],
            [
             0.3,
             "#f1b6da"
            ],
            [
             0.4,
             "#fde0ef"
            ],
            [
             0.5,
             "#f7f7f7"
            ],
            [
             0.6,
             "#e6f5d0"
            ],
            [
             0.7,
             "#b8e186"
            ],
            [
             0.8,
             "#7fbc41"
            ],
            [
             0.9,
             "#4d9221"
            ],
            [
             1,
             "#276419"
            ]
           ],
           "sequential": [
            [
             0,
             "#0d0887"
            ],
            [
             0.1111111111111111,
             "#46039f"
            ],
            [
             0.2222222222222222,
             "#7201a8"
            ],
            [
             0.3333333333333333,
             "#9c179e"
            ],
            [
             0.4444444444444444,
             "#bd3786"
            ],
            [
             0.5555555555555556,
             "#d8576b"
            ],
            [
             0.6666666666666666,
             "#ed7953"
            ],
            [
             0.7777777777777778,
             "#fb9f3a"
            ],
            [
             0.8888888888888888,
             "#fdca26"
            ],
            [
             1,
             "#f0f921"
            ]
           ],
           "sequentialminus": [
            [
             0,
             "#0d0887"
            ],
            [
             0.1111111111111111,
             "#46039f"
            ],
            [
             0.2222222222222222,
             "#7201a8"
            ],
            [
             0.3333333333333333,
             "#9c179e"
            ],
            [
             0.4444444444444444,
             "#bd3786"
            ],
            [
             0.5555555555555556,
             "#d8576b"
            ],
            [
             0.6666666666666666,
             "#ed7953"
            ],
            [
             0.7777777777777778,
             "#fb9f3a"
            ],
            [
             0.8888888888888888,
             "#fdca26"
            ],
            [
             1,
             "#f0f921"
            ]
           ]
          },
          "colorway": [
           "#636efa",
           "#EF553B",
           "#00cc96",
           "#ab63fa",
           "#FFA15A",
           "#19d3f3",
           "#FF6692",
           "#B6E880",
           "#FF97FF",
           "#FECB52"
          ],
          "font": {
           "color": "#2a3f5f"
          },
          "geo": {
           "bgcolor": "white",
           "lakecolor": "white",
           "landcolor": "#E5ECF6",
           "showlakes": true,
           "showland": true,
           "subunitcolor": "white"
          },
          "hoverlabel": {
           "align": "left"
          },
          "hovermode": "closest",
          "mapbox": {
           "style": "light"
          },
          "paper_bgcolor": "white",
          "plot_bgcolor": "#E5ECF6",
          "polar": {
           "angularaxis": {
            "gridcolor": "white",
            "linecolor": "white",
            "ticks": ""
           },
           "bgcolor": "#E5ECF6",
           "radialaxis": {
            "gridcolor": "white",
            "linecolor": "white",
            "ticks": ""
           }
          },
          "scene": {
           "xaxis": {
            "backgroundcolor": "#E5ECF6",
            "gridcolor": "white",
            "gridwidth": 2,
            "linecolor": "white",
            "showbackground": true,
            "ticks": "",
            "zerolinecolor": "white"
           },
           "yaxis": {
            "backgroundcolor": "#E5ECF6",
            "gridcolor": "white",
            "gridwidth": 2,
            "linecolor": "white",
            "showbackground": true,
            "ticks": "",
            "zerolinecolor": "white"
           },
           "zaxis": {
            "backgroundcolor": "#E5ECF6",
            "gridcolor": "white",
            "gridwidth": 2,
            "linecolor": "white",
            "showbackground": true,
            "ticks": "",
            "zerolinecolor": "white"
           }
          },
          "shapedefaults": {
           "line": {
            "color": "#2a3f5f"
           }
          },
          "ternary": {
           "aaxis": {
            "gridcolor": "white",
            "linecolor": "white",
            "ticks": ""
           },
           "baxis": {
            "gridcolor": "white",
            "linecolor": "white",
            "ticks": ""
           },
           "bgcolor": "#E5ECF6",
           "caxis": {
            "gridcolor": "white",
            "linecolor": "white",
            "ticks": ""
           }
          },
          "title": {
           "x": 0.05
          },
          "xaxis": {
           "automargin": true,
           "gridcolor": "white",
           "linecolor": "white",
           "ticks": "",
           "title": {
            "standoff": 15
           },
           "zerolinecolor": "white",
           "zerolinewidth": 2
          },
          "yaxis": {
           "automargin": true,
           "gridcolor": "white",
           "linecolor": "white",
           "ticks": "",
           "title": {
            "standoff": 15
           },
           "zerolinecolor": "white",
           "zerolinewidth": 2
          }
         }
        },
        "width": 1100,
        "xaxis": {
         "anchor": "y",
         "autorange": true,
         "domain": [
          0,
          0.45
         ],
         "range": [
          2014.5913405043839,
          2021.4086594956161
         ],
         "type": "linear"
        },
        "xaxis2": {
         "anchor": "y2",
         "autorange": true,
         "domain": [
          0.55,
          1
         ],
         "range": [
          2014.5913405043839,
          2021.4086594956161
         ],
         "type": "linear"
        },
        "xaxis3": {
         "anchor": "y3",
         "autorange": true,
         "domain": [
          0,
          0.45
         ],
         "range": [
          2014.5913405043839,
          2021.4086594956161
         ],
         "type": "linear"
        },
        "xaxis4": {
         "anchor": "y4",
         "autorange": true,
         "domain": [
          0.55,
          1
         ],
         "range": [
          2014.5913405043839,
          2021.4086594956161
         ],
         "type": "linear"
        },
        "yaxis": {
         "anchor": "x",
         "autorange": true,
         "domain": [
          0.625,
          1
         ],
         "range": [
          -256029.66765799254,
          203206.86765799255
         ],
         "type": "linear"
        },
        "yaxis2": {
         "anchor": "x2",
         "autorange": true,
         "domain": [
          0.625,
          1
         ],
         "range": [
          -136948.83531598508,
          94254.23531598513
         ],
         "type": "linear"
        },
        "yaxis3": {
         "anchor": "x3",
         "autorange": true,
         "domain": [
          0,
          0.375
         ],
         "range": [
          -161317.85762081784,
          242519.25762081787
         ],
         "type": "linear"
        },
        "yaxis4": {
         "anchor": "x4",
         "autorange": true,
         "domain": [
          0,
          0.375
         ],
         "range": [
          -302917.9542750929,
          213789.35427509295
         ],
         "type": "linear"
        }
       }
      },
      "image/png": "[encoded data removed]",
      "text/html": [
       "<div>                            <div id=\"01366ccf-7627-47e8-ad3e-86fc8e478e22\" class=\"plotly-graph-div\" style=\"height:800px; width:1100px;\"></div>            <script type=\"text/javascript\">                require([\"plotly\"], function(Plotly) {                    window.PLOTLYENV=window.PLOTLYENV || {};                                    if (document.getElementById(\"01366ccf-7627-47e8-ad3e-86fc8e478e22\")) {                    Plotly.newPlot(                        \"01366ccf-7627-47e8-ad3e-86fc8e478e22\",                        [{\"name\":\"Exercised option\",\"type\":\"scatter\",\"x\":[2015,2016,2017,2018,2019,2020,2021],\"xaxis\":\"x\",\"y\":[-36938.90000000002,-9845.900000000036,-36230.39999999995,-103249.70000000001,-138866.59999999995,-225660.8,-23969.09999999997],\"yaxis\":\"y\"},{\"name\":\"Expired worthless\",\"type\":\"scatter\",\"x\":[2015,2016,2017,2018,2019,2020,2021],\"xaxis\":\"x\",\"y\":[22703.0,32691.0,37959.0,60923.0,67833.0,172838.0,115179.0],\"yaxis\":\"y\"},{\"name\":\"Call\",\"type\":\"scatter\",\"x\":[2015,2016,2017,2018,2019,2020,2021],\"xaxis\":\"x2\",\"y\":[-15538.999999999989,5945.299999999988,-26747.39999999995,1134.9999999999782,-121659.59999999995,-117805.79999999999,12244.90000000003],\"yaxis\":\"y2\"},{\"name\":\"Put\",\"type\":\"scatter\",\"x\":[2015,2016,2017,2018,2019,2020,2021],\"xaxis\":\"x2\",\"y\":[1303.0999999999685,16899.799999999974,28476.0,-43461.69999999998,50626.0,64983.0,78965.0],\"yaxis\":\"y2\"},{\"name\":\"short\",\"type\":\"scatter\",\"x\":[2015,2016,2017,2018,2019,2020,2021],\"xaxis\":\"x3\",\"y\":[-4447.500000000005,43073.09999999996,18577.60000000005,-18559.499999999993,-40615.49999999996,-134612.5,215813.90000000002],\"yaxis\":\"y3\"},{\"name\":\"long\",\"type\":\"scatter\",\"x\":[2015,2016,2017,2018,2019,2020,2021],\"xaxis\":\"x3\",\"y\":[-9788.400000000016,-20228.0,-16849.0,-23767.20000000001,-30418.099999999984,81789.7,-124604.0],\"yaxis\":\"y3\"},{\"name\":\"Long Call\",\"type\":\"scatter\",\"x\":[2015,2016,2017,2018,2019,2020,2021],\"xaxis\":\"x4\",\"y\":[5140.800000000017,-1637.0,-645.0,-7639.0,18207.900000000016,150942.8,-23949.0],\"yaxis\":\"y4\"},{\"name\":\"Long Put\",\"type\":\"scatter\",\"x\":[2015,2016,2017,2018,2019,2020,2021],\"xaxis\":\"x4\",\"y\":[-14929.200000000033,-18591.0,-16204.0,-16128.200000000012,-48626.0,-69153.1,-100655.0],\"yaxis\":\"y4\"},{\"name\":\"Short Call\",\"type\":\"scatter\",\"x\":[2015,2016,2017,2018,2019,2020,2021],\"xaxis\":\"x4\",\"y\":[-20679.800000000007,7582.299999999988,-26102.39999999995,8773.999999999978,-139867.49999999997,-268748.6,36193.90000000003],\"yaxis\":\"y4\"},{\"name\":\"Short Put\",\"type\":\"scatter\",\"x\":[2015,2016,2017,2018,2019,2020,2021],\"xaxis\":\"x4\",\"y\":[16232.300000000003,35490.799999999974,44680.0,-27333.49999999997,99252.0,134136.1,179620.0],\"yaxis\":\"y4\"}],                        {\"annotations\":[{\"font\":{\"size\":16},\"showarrow\":false,\"text\":\"Total profit from Exersiced versus Expired options\",\"x\":0.225,\"xanchor\":\"center\",\"xref\":\"paper\",\"y\":1.0,\"yanchor\":\"bottom\",\"yref\":\"paper\"},{\"font\":{\"size\":16},\"showarrow\":false,\"text\":\"Total profit from Call versus put options\",\"x\":0.775,\"xanchor\":\"center\",\"xref\":\"paper\",\"y\":1.0,\"yanchor\":\"bottom\",\"yref\":\"paper\"},{\"font\":{\"size\":16},\"showarrow\":false,\"text\":\"Total profit from Short versus Long transactions\",\"x\":0.225,\"xanchor\":\"center\",\"xref\":\"paper\",\"y\":0.375,\"yanchor\":\"bottom\",\"yref\":\"paper\"},{\"font\":{\"size\":16},\"showarrow\":false,\"text\":\"Total profit from options option transactions\",\"x\":0.775,\"xanchor\":\"center\",\"xref\":\"paper\",\"y\":0.375,\"yanchor\":\"bottom\",\"yref\":\"paper\"}],\"height\":800,\"template\":{\"data\":{\"bar\":[{\"error_x\":{\"color\":\"#2a3f5f\"},\"error_y\":{\"color\":\"#2a3f5f\"},\"marker\":{\"line\":{\"color\":\"#E5ECF6\",\"width\":0.5},\"pattern\":{\"fillmode\":\"overlay\",\"size\":10,\"solidity\":0.2}},\"type\":\"bar\"}],\"barpolar\":[{\"marker\":{\"line\":{\"color\":\"#E5ECF6\",\"width\":0.5},\"pattern\":{\"fillmode\":\"overlay\",\"size\":10,\"solidity\":0.2}},\"type\":\"barpolar\"}],\"carpet\":[{\"aaxis\":{\"endlinecolor\":\"#2a3f5f\",\"gridcolor\":\"white\",\"linecolor\":\"white\",\"minorgridcolor\":\"white\",\"startlinecolor\":\"#2a3f5f\"},\"baxis\":{\"endlinecolor\":\"#2a3f5f\",\"gridcolor\":\"white\",\"linecolor\":\"white\",\"minorgridcolor\":\"white\",\"startlinecolor\":\"#2a3f5f\"},\"type\":\"carpet\"}],\"choropleth\":[{\"colorbar\":{\"outlinewidth\":0,\"ticks\":\"\"},\"type\":\"choropleth\"}],\"contour\":[{\"colorbar\":{\"outlinewidth\":0,\"ticks\":\"\"},\"colorscale\":[[0.0,\"#0d0887\"],[0.1111111111111111,\"#46039f\"],[0.2222222222222222,\"#7201a8\"],[0.3333333333333333,\"#9c179e\"],[0.4444444444444444,\"#bd3786\"],[0.5555555555555556,\"#d8576b\"],[0.6666666666666666,\"#ed7953\"],[0.7777777777777778,\"#fb9f3a\"],[0.8888888888888888,\"#fdca26\"],[1.0,\"#f0f921\"]],\"type\":\"contour\"}],\"contourcarpet\":[{\"colorbar\":{\"outlinewidth\":0,\"ticks\":\"\"},\"type\":\"contourcarpet\"}],\"heatmap\":[{\"colorbar\":{\"outlinewidth\":0,\"ticks\":\"\"},\"colorscale\":[[0.0,\"#0d0887\"],[0.1111111111111111,\"#46039f\"],[0.2222222222222222,\"#7201a8\"],[0.3333333333333333,\"#9c179e\"],[0.4444444444444444,\"#bd3786\"],[0.5555555555555556,\"#d8576b\"],[0.6666666666666666,\"#ed7953\"],[0.7777777777777778,\"#fb9f3a\"],[0.8888888888888888,\"#fdca26\"],[1.0,\"#f0f921\"]],\"type\":\"heatmap\"}],\"heatmapgl\":[{\"colorbar\":{\"outlinewidth\":0,\"ticks\":\"\"},\"colorscale\":[[0.0,\"#0d0887\"],[0.1111111111111111,\"#46039f\"],[0.2222222222222222,\"#7201a8\"],[0.3333333333333333,\"#9c179e\"],[0.4444444444444444,\"#bd3786\"],[0.5555555555555556,\"#d8576b\"],[0.6666666666666666,\"#ed7953\"],[0.7777777777777778,\"#fb9f3a\"],[0.8888888888888888,\"#fdca26\"],[1.0,\"#f0f921\"]],\"type\":\"heatmapgl\"}],\"histogram\":[{\"marker\":{\"pattern\":{\"fillmode\":\"overlay\",\"size\":10,\"solidity\":0.2}},\"type\":\"histogram\"}],\"histogram2d\":[{\"colorbar\":{\"outlinewidth\":0,\"ticks\":\"\"},\"colorscale\":[[0.0,\"#0d0887\"],[0.1111111111111111,\"#46039f\"],[0.2222222222222222,\"#7201a8\"],[0.3333333333333333,\"#9c179e\"],[0.4444444444444444,\"#bd3786\"],[0.5555555555555556,\"#d8576b\"],[0.6666666666666666,\"#ed7953\"],[0.7777777777777778,\"#fb9f3a\"],[0.8888888888888888,\"#fdca26\"],[1.0,\"#f0f921\"]],\"type\":\"histogram2d\"}],\"histogram2dcontour\":[{\"colorbar\":{\"outlinewidth\":0,\"ticks\":\"\"},\"colorscale\":[[0.0,\"#0d0887\"],[0.1111111111111111,\"#46039f\"],[0.2222222222222222,\"#7201a8\"],[0.3333333333333333,\"#9c179e\"],[0.4444444444444444,\"#bd3786\"],[0.5555555555555556,\"#d8576b\"],[0.6666666666666666,\"#ed7953\"],[0.7777777777777778,\"#fb9f3a\"],[0.8888888888888888,\"#fdca26\"],[1.0,\"#f0f921\"]],\"type\":\"histogram2dcontour\"}],\"mesh3d\":[{\"colorbar\":{\"outlinewidth\":0,\"ticks\":\"\"},\"type\":\"mesh3d\"}],\"parcoords\":[{\"line\":{\"colorbar\":{\"outlinewidth\":0,\"ticks\":\"\"}},\"type\":\"parcoords\"}],\"pie\":[{\"automargin\":true,\"type\":\"pie\"}],\"scatter\":[{\"marker\":{\"colorbar\":{\"outlinewidth\":0,\"ticks\":\"\"}},\"type\":\"scatter\"}],\"scatter3d\":[{\"line\":{\"colorbar\":{\"outlinewidth\":0,\"ticks\":\"\"}},\"marker\":{\"colorbar\":{\"outlinewidth\":0,\"ticks\":\"\"}},\"type\":\"scatter3d\"}],\"scattercarpet\":[{\"marker\":{\"colorbar\":{\"outlinewidth\":0,\"ticks\":\"\"}},\"type\":\"scattercarpet\"}],\"scattergeo\":[{\"marker\":{\"colorbar\":{\"outlinewidth\":0,\"ticks\":\"\"}},\"type\":\"scattergeo\"}],\"scattergl\":[{\"marker\":{\"colorbar\":{\"outlinewidth\":0,\"ticks\":\"\"}},\"type\":\"scattergl\"}],\"scattermapbox\":[{\"marker\":{\"colorbar\":{\"outlinewidth\":0,\"ticks\":\"\"}},\"type\":\"scattermapbox\"}],\"scatterpolar\":[{\"marker\":{\"colorbar\":{\"outlinewidth\":0,\"ticks\":\"\"}},\"type\":\"scatterpolar\"}],\"scatterpolargl\":[{\"marker\":{\"colorbar\":{\"outlinewidth\":0,\"ticks\":\"\"}},\"type\":\"scatterpolargl\"}],\"scatterternary\":[{\"marker\":{\"colorbar\":{\"outlinewidth\":0,\"ticks\":\"\"}},\"type\":\"scatterternary\"}],\"surface\":[{\"colorbar\":{\"outlinewidth\":0,\"ticks\":\"\"},\"colorscale\":[[0.0,\"#0d0887\"],[0.1111111111111111,\"#46039f\"],[0.2222222222222222,\"#7201a8\"],[0.3333333333333333,\"#9c179e\"],[0.4444444444444444,\"#bd3786\"],[0.5555555555555556,\"#d8576b\"],[0.6666666666666666,\"#ed7953\"],[0.7777777777777778,\"#fb9f3a\"],[0.8888888888888888,\"#fdca26\"],[1.0,\"#f0f921\"]],\"type\":\"surface\"}],\"table\":[{\"cells\":{\"fill\":{\"color\":\"#EBF0F8\"},\"line\":{\"color\":\"white\"}},\"header\":{\"fill\":{\"color\":\"#C8D4E3\"},\"line\":{\"color\":\"white\"}},\"type\":\"table\"}]},\"layout\":{\"annotationdefaults\":{\"arrowcolor\":\"#2a3f5f\",\"arrowhead\":0,\"arrowwidth\":1},\"autotypenumbers\":\"strict\",\"coloraxis\":{\"colorbar\":{\"outlinewidth\":0,\"ticks\":\"\"}},\"colorscale\":{\"diverging\":[[0,\"#8e0152\"],[0.1,\"#c51b7d\"],[0.2,\"#de77ae\"],[0.3,\"#f1b6da\"],[0.4,\"#fde0ef\"],[0.5,\"#f7f7f7\"],[0.6,\"#e6f5d0\"],[0.7,\"#b8e186\"],[0.8,\"#7fbc41\"],[0.9,\"#4d9221\"],[1,\"#276419\"]],\"sequential\":[[0.0,\"#0d0887\"],[0.1111111111111111,\"#46039f\"],[0.2222222222222222,\"#7201a8\"],[0.3333333333333333,\"#9c179e\"],[0.4444444444444444,\"#bd3786\"],[0.5555555555555556,\"#d8576b\"],[0.6666666666666666,\"#ed7953\"],[0.7777777777777778,\"#fb9f3a\"],[0.8888888888888888,\"#fdca26\"],[1.0,\"#f0f921\"]],\"sequentialminus\":[[0.0,\"#0d0887\"],[0.1111111111111111,\"#46039f\"],[0.2222222222222222,\"#7201a8\"],[0.3333333333333333,\"#9c179e\"],[0.4444444444444444,\"#bd3786\"],[0.5555555555555556,\"#d8576b\"],[0.6666666666666666,\"#ed7953\"],[0.7777777777777778,\"#fb9f3a\"],[0.8888888888888888,\"#fdca26\"],[1.0,\"#f0f921\"]]},\"colorway\":[\"#636efa\",\"#EF553B\",\"#00cc96\",\"#ab63fa\",\"#FFA15A\",\"#19d3f3\",\"#FF6692\",\"#B6E880\",\"#FF97FF\",\"#FECB52\"],\"font\":{\"color\":\"#2a3f5f\"},\"geo\":{\"bgcolor\":\"white\",\"lakecolor\":\"white\",\"landcolor\":\"#E5ECF6\",\"showlakes\":true,\"showland\":true,\"subunitcolor\":\"white\"},\"hoverlabel\":{\"align\":\"left\"},\"hovermode\":\"closest\",\"mapbox\":{\"style\":\"light\"},\"paper_bgcolor\":\"white\",\"plot_bgcolor\":\"#E5ECF6\",\"polar\":{\"angularaxis\":{\"gridcolor\":\"white\",\"linecolor\":\"white\",\"ticks\":\"\"},\"bgcolor\":\"#E5ECF6\",\"radialaxis\":{\"gridcolor\":\"white\",\"linecolor\":\"white\",\"ticks\":\"\"}},\"scene\":{\"xaxis\":{\"backgroundcolor\":\"#E5ECF6\",\"gridcolor\":\"white\",\"gridwidth\":2,\"linecolor\":\"white\",\"showbackground\":true,\"ticks\":\"\",\"zerolinecolor\":\"white\"},\"yaxis\":{\"backgroundcolor\":\"#E5ECF6\",\"gridcolor\":\"white\",\"gridwidth\":2,\"linecolor\":\"white\",\"showbackground\":true,\"ticks\":\"\",\"zerolinecolor\":\"white\"},\"zaxis\":{\"backgroundcolor\":\"#E5ECF6\",\"gridcolor\":\"white\",\"gridwidth\":2,\"linecolor\":\"white\",\"showbackground\":true,\"ticks\":\"\",\"zerolinecolor\":\"white\"}},\"shapedefaults\":{\"line\":{\"color\":\"#2a3f5f\"}},\"ternary\":{\"aaxis\":{\"gridcolor\":\"white\",\"linecolor\":\"white\",\"ticks\":\"\"},\"baxis\":{\"gridcolor\":\"white\",\"linecolor\":\"white\",\"ticks\":\"\"},\"bgcolor\":\"#E5ECF6\",\"caxis\":{\"gridcolor\":\"white\",\"linecolor\":\"white\",\"ticks\":\"\"}},\"title\":{\"x\":0.05},\"xaxis\":{\"automargin\":true,\"gridcolor\":\"white\",\"linecolor\":\"white\",\"ticks\":\"\",\"title\":{\"standoff\":15},\"zerolinecolor\":\"white\",\"zerolinewidth\":2},\"yaxis\":{\"automargin\":true,\"gridcolor\":\"white\",\"linecolor\":\"white\",\"ticks\":\"\",\"title\":{\"standoff\":15},\"zerolinecolor\":\"white\",\"zerolinewidth\":2}}},\"width\":1100,\"xaxis\":{\"anchor\":\"y\",\"domain\":[0.0,0.45]},\"xaxis2\":{\"anchor\":\"y2\",\"domain\":[0.55,1.0]},\"xaxis3\":{\"anchor\":\"y3\",\"domain\":[0.0,0.45]},\"xaxis4\":{\"anchor\":\"y4\",\"domain\":[0.55,1.0]},\"yaxis\":{\"anchor\":\"x\",\"domain\":[0.625,1.0]},\"yaxis2\":{\"anchor\":\"x2\",\"domain\":[0.625,1.0]},\"yaxis3\":{\"anchor\":\"x3\",\"domain\":[0.0,0.375]},\"yaxis4\":{\"anchor\":\"x4\",\"domain\":[0.0,0.375]}},                        {\"responsive\": true}                    ).then(function(){\n",
       "                            \n",
       "var gd = document.getElementById('01366ccf-7627-47e8-ad3e-86fc8e478e22');\n",
       "var x = new MutationObserver(function (mutations, observer) {{\n",
       "        var display = window.getComputedStyle(gd).display;\n",
       "        if (!display || display === 'none') {{\n",
       "            console.log([gd, 'removed!']);\n",
       "            Plotly.purge(gd);\n",
       "            observer.disconnect();\n",
       "        }}\n",
       "}});\n",
       "\n",
       "// Listen for the removal of the full notebook cells\n",
       "var notebookContainer = gd.closest('#notebook-container');\n",
       "if (notebookContainer) {{\n",
       "    x.observe(notebookContainer, {childList: true});\n",
       "}}\n",
       "\n",
       "// Listen for the clearing of the current output cell\n",
       "var outputEl = gd.closest('.output');\n",
       "if (outputEl) {{\n",
       "    x.observe(outputEl, {childList: true});\n",
       "}}\n",
       "\n",
       "                        })                };                });            </script>        </div>"
      ]
     },
     "metadata": {},
     "output_type": "display_data"
    }
   ],
   "source": [
    "fig = make_subplots(rows=2, cols=2, subplot_titles = ['Total profit from Exersiced versus Expired options', 'Total profit from Call versus put options', \n",
    "                                                      'Total profit from Short versus Long transactions', 'Total profit from options option transactions'])\n",
    "\n",
    "fig.add_trace(go.Line(x=exer[\"Year\"], y=exer[\"Total Profit/Loss\"], name = 'Exercised option'), row=1, col=1)\n",
    "fig.add_trace(go.Line(x=exp[\"Year\"], y=exp[\"Total Profit/Loss\"], name = 'Expired worthless'), row=1, col=1)\n",
    "\n",
    "fig.add_trace(go.Line(x=call[\"Year\"], y=call[\"Total Profit/Loss\"], name = 'Call'), row=1, col=2)\n",
    "fig.add_trace(go.Line(x=put[\"Year\"], y=put[\"Total Profit/Loss\"], name = 'Put'), row=1,col=2)\n",
    "\n",
    "fig.add_trace(go.Line(x=short[\"Year\"], y=short[\"Total Profit/Loss\"], name = 'short'), row=2, col=1)\n",
    "fig.add_trace(go.Line(x=long[\"Year\"], y=long[\"Total Profit/Loss\"], name = 'long'), row=2,col=1)\n",
    "\n",
    "fig.add_trace(go.Line(x=Long_call[\"Year\"], y=Long_call[\"Total Profit/Loss\"], name = 'Long Call'), row=2, col=2)\n",
    "fig.add_trace(go.Line(x=long_put[\"Year\"], y=long_put[\"Total Profit/Loss\"], name = 'Long Put'),  row=2,col=2)\n",
    "fig.add_trace(go.Line(x=short_call[\"Year\"], y=short_call[\"Total Profit/Loss\"], name = 'Short Call'), row=2, col=2)\n",
    "fig.add_trace(go.Line(x=short_put[\"Year\"], y=short_put[\"Total Profit/Loss\"], name = 'Short Put'),  row=2,col=2)\n",
    "\n",
    "fig.update_layout(height=800, width=1100)\n",
    "fig.show()"
   ]
  },
  {
   "cell_type": "code",
   "execution_count": 28,
   "id": "0fbf29ef-eb53-4196-b87a-3b5618d8399d",
   "metadata": {},
   "outputs": [
    {
     "data": {
      "application/vnd.plotly.v1+json": {
       "config": {
        "plotlyServerURL": "https://plot.ly"
       },
       "data": [
        {
         "showlegend": false,
         "type": "bar",
         "x": [
          "2015-01-02T00:00:00",
          "2016-01-04T00:00:00",
          "2017-01-03T00:00:00",
          "2019-01-02T00:00:00",
          "2020-01-02T00:00:00",
          "2021-01-04T00:00:00"
         ],
         "xaxis": "x",
         "y": [
          4384,
          -3289.200000000025,
          -12976.09999999995,
          -19545,
          -6187.800000000009,
          5348.400000000016
         ],
         "yaxis": "y"
        },
        {
         "showlegend": false,
         "type": "bar",
         "x": [
          "2015-02-02T00:00:00",
          "2016-02-01T00:00:00",
          "2017-02-01T00:00:00",
          "2018-02-01T00:00:00",
          "2019-02-01T00:00:00",
          "2020-02-03T00:00:00",
          "2021-02-01T00:00:00"
         ],
         "xaxis": "x4",
         "y": [
          -2603.7999999999556,
          8315,
          1376.5999999999876,
          7168,
          -294.7000000000089,
          -35272,
          28330
         ],
         "yaxis": "y4"
        },
        {
         "showlegend": false,
         "type": "bar",
         "x": [
          "2015-03-02T00:00:00",
          "2016-03-01T00:00:00",
          "2017-03-01T00:00:00",
          "2018-03-01T00:00:00",
          "2019-03-01T00:00:00",
          "2020-03-02T00:00:00",
          "2021-03-01T00:00:00"
         ],
         "xaxis": "x7",
         "y": [
          2408,
          5255,
          2843,
          8086.999999999999,
          -13404.500000000011,
          9072,
          11546.200000000055
         ],
         "yaxis": "y7"
        },
        {
         "showlegend": false,
         "type": "bar",
         "x": [
          "2015-04-01T00:00:00",
          "2017-04-03T00:00:00",
          "2018-04-02T00:00:00",
          "2019-04-01T00:00:00",
          "2020-04-01T00:00:00",
          "2021-04-01T00:00:00"
         ],
         "xaxis": "x10",
         "y": [
          3529,
          1987,
          -3319.3999999999905,
          6139,
          -14719.999999999985,
          20305
         ],
         "yaxis": "y10"
        },
        {
         "showlegend": false,
         "type": "bar",
         "x": [
          "2015-05-01T00:00:00",
          "2016-05-02T00:00:00",
          "2017-05-01T00:00:00",
          "2018-05-01T00:00:00",
          "2019-05-01T00:00:00",
          "2020-05-01T00:00:00",
          "2021-05-03T00:00:00"
         ],
         "xaxis": "x2",
         "y": [
          3609,
          4364,
          2032,
          -15448.600000000031,
          7990.000000000001,
          -21935,
          15700
         ],
         "yaxis": "y2"
        },
        {
         "showlegend": false,
         "type": "bar",
         "x": [
          "2015-06-01T00:00:00",
          "2016-06-01T00:00:00",
          "2017-06-01T00:00:00",
          "2018-06-01T00:00:00",
          "2019-06-03T00:00:00",
          "2020-06-01T00:00:00",
          "2021-06-01T00:00:00"
         ],
         "xaxis": "x5",
         "y": [
          2444,
          2612,
          2929,
          3533,
          -21157.000000000007,
          -30099.999999999993,
          -20767.70000000004
         ],
         "yaxis": "y5"
        },
        {
         "showlegend": false,
         "type": "bar",
         "x": [
          "2015-07-01T00:00:00",
          "2017-07-03T00:00:00",
          "2018-07-02T00:00:00",
          "2019-07-01T00:00:00",
          "2020-07-01T00:00:00",
          "2021-07-01T00:00:00"
         ],
         "xaxis": "x8",
         "y": [
          3971.099999999973,
          6141,
          8916,
          7781,
          -31754.999999999996,
          14648
         ],
         "yaxis": "y8"
        },
        {
         "showlegend": false,
         "type": "bar",
         "x": [
          "2016-08-01T00:00:00",
          "2017-08-01T00:00:00",
          "2018-08-01T00:00:00",
          "2019-08-01T00:00:00",
          "2020-08-03T00:00:00",
          "2021-08-02T00:00:00"
         ],
         "xaxis": "x11",
         "y": [
          2450,
          3209,
          6910.999999999999,
          4006,
          22225,
          16100
         ],
         "yaxis": "y11"
        },
        {
         "showlegend": false,
         "type": "bar",
         "x": [
          "2015-09-01T00:00:00",
          "2016-09-01T00:00:00",
          "2017-09-01T00:00:00",
          "2018-09-04T00:00:00",
          "2019-09-03T00:00:00",
          "2020-09-01T00:00:00"
         ],
         "xaxis": "x3",
         "y": [
          1638.7999999999702,
          3282,
          3323,
          -8783.699999999983,
          11728,
          28585
         ],
         "yaxis": "y3"
        },
        {
         "showlegend": false,
         "type": "bar",
         "x": [
          "2015-10-01T00:00:00",
          "2017-10-02T00:00:00",
          "2018-10-01T00:00:00",
          "2019-10-01T00:00:00",
          "2020-10-01T00:00:00"
         ],
         "xaxis": "x6",
         "y": [
          -13986.000000000005,
          -843.0000000000218,
          -34875.00000000001,
          -14619.29999999992,
          34600
         ],
         "yaxis": "y6"
        },
        {
         "showlegend": false,
         "type": "bar",
         "x": [
          "2016-11-01T00:00:00",
          "2017-11-01T00:00:00",
          "2018-11-01T00:00:00",
          "2019-11-01T00:00:00",
          "2020-11-02T00:00:00"
         ],
         "xaxis": "x9",
         "y": [
          4364,
          3671,
          -24689.999999999996,
          -4474.1,
          -26447
         ],
         "yaxis": "y9"
        },
        {
         "showlegend": false,
         "type": "bar",
         "x": [
          "2015-12-01T00:00:00",
          "2016-12-01T00:00:00",
          "2017-12-01T00:00:00",
          "2018-12-03T00:00:00",
          "2019-12-02T00:00:00",
          "2020-12-01T00:00:00"
         ],
         "xaxis": "x12",
         "y": [
          -19630.000000000004,
          -4507.700000000012,
          -11963.899999999969,
          10175,
          -35183,
          19112
         ],
         "yaxis": "y12"
        }
       ],
       "layout": {
        "annotations": [
         {
          "font": {
           "size": 16
          },
          "showarrow": false,
          "text": "January",
          "x": 0.14444444444444446,
          "xanchor": "center",
          "xref": "paper",
          "y": 1,
          "yanchor": "bottom",
          "yref": "paper"
         },
         {
          "font": {
           "size": 16
          },
          "showarrow": false,
          "text": "February",
          "x": 0.5,
          "xanchor": "center",
          "xref": "paper",
          "y": 1,
          "yanchor": "bottom",
          "yref": "paper"
         },
         {
          "font": {
           "size": 16
          },
          "showarrow": false,
          "text": "March",
          "x": 0.8555555555555556,
          "xanchor": "center",
          "xref": "paper",
          "y": 1,
          "yanchor": "bottom",
          "yref": "paper"
         },
         {
          "font": {
           "size": 16
          },
          "showarrow": false,
          "text": "April",
          "x": 0.14444444444444446,
          "xanchor": "center",
          "xref": "paper",
          "y": 0.71875,
          "yanchor": "bottom",
          "yref": "paper"
         },
         {
          "font": {
           "size": 16
          },
          "showarrow": false,
          "text": "May",
          "x": 0.5,
          "xanchor": "center",
          "xref": "paper",
          "y": 0.71875,
          "yanchor": "bottom",
          "yref": "paper"
         },
         {
          "font": {
           "size": 16
          },
          "showarrow": false,
          "text": "June",
          "x": 0.8555555555555556,
          "xanchor": "center",
          "xref": "paper",
          "y": 0.71875,
          "yanchor": "bottom",
          "yref": "paper"
         },
         {
          "font": {
           "size": 16
          },
          "showarrow": false,
          "text": "July",
          "x": 0.14444444444444446,
          "xanchor": "center",
          "xref": "paper",
          "y": 0.4375,
          "yanchor": "bottom",
          "yref": "paper"
         },
         {
          "font": {
           "size": 16
          },
          "showarrow": false,
          "text": "August",
          "x": 0.5,
          "xanchor": "center",
          "xref": "paper",
          "y": 0.4375,
          "yanchor": "bottom",
          "yref": "paper"
         },
         {
          "font": {
           "size": 16
          },
          "showarrow": false,
          "text": "September",
          "x": 0.8555555555555556,
          "xanchor": "center",
          "xref": "paper",
          "y": 0.4375,
          "yanchor": "bottom",
          "yref": "paper"
         },
         {
          "font": {
           "size": 16
          },
          "showarrow": false,
          "text": "October",
          "x": 0.14444444444444446,
          "xanchor": "center",
          "xref": "paper",
          "y": 0.15625,
          "yanchor": "bottom",
          "yref": "paper"
         },
         {
          "font": {
           "size": 16
          },
          "showarrow": false,
          "text": "November",
          "x": 0.5,
          "xanchor": "center",
          "xref": "paper",
          "y": 0.15625,
          "yanchor": "bottom",
          "yref": "paper"
         },
         {
          "font": {
           "size": 16
          },
          "showarrow": false,
          "text": "December",
          "x": 0.8555555555555556,
          "xanchor": "center",
          "xref": "paper",
          "y": 0.15625,
          "yanchor": "bottom",
          "yref": "paper"
         }
        ],
        "height": 1000,
        "template": {
         "data": {
          "bar": [
           {
            "error_x": {
             "color": "#2a3f5f"
            },
            "error_y": {
             "color": "#2a3f5f"
            },
            "marker": {
             "line": {
              "color": "#E5ECF6",
              "width": 0.5
             },
             "pattern": {
              "fillmode": "overlay",
              "size": 10,
              "solidity": 0.2
             }
            },
            "type": "bar"
           }
          ],
          "barpolar": [
           {
            "marker": {
             "line": {
              "color": "#E5ECF6",
              "width": 0.5
             },
             "pattern": {
              "fillmode": "overlay",
              "size": 10,
              "solidity": 0.2
             }
            },
            "type": "barpolar"
           }
          ],
          "carpet": [
           {
            "aaxis": {
             "endlinecolor": "#2a3f5f",
             "gridcolor": "white",
             "linecolor": "white",
             "minorgridcolor": "white",
             "startlinecolor": "#2a3f5f"
            },
            "baxis": {
             "endlinecolor": "#2a3f5f",
             "gridcolor": "white",
             "linecolor": "white",
             "minorgridcolor": "white",
             "startlinecolor": "#2a3f5f"
            },
            "type": "carpet"
           }
          ],
          "choropleth": [
           {
            "colorbar": {
             "outlinewidth": 0,
             "ticks": ""
            },
            "type": "choropleth"
           }
          ],
          "contour": [
           {
            "colorbar": {
             "outlinewidth": 0,
             "ticks": ""
            },
            "colorscale": [
             [
              0,
              "#0d0887"
             ],
             [
              0.1111111111111111,
              "#46039f"
             ],
             [
              0.2222222222222222,
              "#7201a8"
             ],
             [
              0.3333333333333333,
              "#9c179e"
             ],
             [
              0.4444444444444444,
              "#bd3786"
             ],
             [
              0.5555555555555556,
              "#d8576b"
             ],
             [
              0.6666666666666666,
              "#ed7953"
             ],
             [
              0.7777777777777778,
              "#fb9f3a"
             ],
             [
              0.8888888888888888,
              "#fdca26"
             ],
             [
              1,
              "#f0f921"
             ]
            ],
            "type": "contour"
           }
          ],
          "contourcarpet": [
           {
            "colorbar": {
             "outlinewidth": 0,
             "ticks": ""
            },
            "type": "contourcarpet"
           }
          ],
          "heatmap": [
           {
            "colorbar": {
             "outlinewidth": 0,
             "ticks": ""
            },
            "colorscale": [
             [
              0,
              "#0d0887"
             ],
             [
              0.1111111111111111,
              "#46039f"
             ],
             [
              0.2222222222222222,
              "#7201a8"
             ],
             [
              0.3333333333333333,
              "#9c179e"
             ],
             [
              0.4444444444444444,
              "#bd3786"
             ],
             [
              0.5555555555555556,
              "#d8576b"
             ],
             [
              0.6666666666666666,
              "#ed7953"
             ],
             [
              0.7777777777777778,
              "#fb9f3a"
             ],
             [
              0.8888888888888888,
              "#fdca26"
             ],
             [
              1,
              "#f0f921"
             ]
            ],
            "type": "heatmap"
           }
          ],
          "heatmapgl": [
           {
            "colorbar": {
             "outlinewidth": 0,
             "ticks": ""
            },
            "colorscale": [
             [
              0,
              "#0d0887"
             ],
             [
              0.1111111111111111,
              "#46039f"
             ],
             [
              0.2222222222222222,
              "#7201a8"
             ],
             [
              0.3333333333333333,
              "#9c179e"
             ],
             [
              0.4444444444444444,
              "#bd3786"
             ],
             [
              0.5555555555555556,
              "#d8576b"
             ],
             [
              0.6666666666666666,
              "#ed7953"
             ],
             [
              0.7777777777777778,
              "#fb9f3a"
             ],
             [
              0.8888888888888888,
              "#fdca26"
             ],
             [
              1,
              "#f0f921"
             ]
            ],
            "type": "heatmapgl"
           }
          ],
          "histogram": [
           {
            "marker": {
             "pattern": {
              "fillmode": "overlay",
              "size": 10,
              "solidity": 0.2
             }
            },
            "type": "histogram"
           }
          ],
          "histogram2d": [
           {
            "colorbar": {
             "outlinewidth": 0,
             "ticks": ""
            },
            "colorscale": [
             [
              0,
              "#0d0887"
             ],
             [
              0.1111111111111111,
              "#46039f"
             ],
             [
              0.2222222222222222,
              "#7201a8"
             ],
             [
              0.3333333333333333,
              "#9c179e"
             ],
             [
              0.4444444444444444,
              "#bd3786"
             ],
             [
              0.5555555555555556,
              "#d8576b"
             ],
             [
              0.6666666666666666,
              "#ed7953"
             ],
             [
              0.7777777777777778,
              "#fb9f3a"
             ],
             [
              0.8888888888888888,
              "#fdca26"
             ],
             [
              1,
              "#f0f921"
             ]
            ],
            "type": "histogram2d"
           }
          ],
          "histogram2dcontour": [
           {
            "colorbar": {
             "outlinewidth": 0,
             "ticks": ""
            },
            "colorscale": [
             [
              0,
              "#0d0887"
             ],
             [
              0.1111111111111111,
              "#46039f"
             ],
             [
              0.2222222222222222,
              "#7201a8"
             ],
             [
              0.3333333333333333,
              "#9c179e"
             ],
             [
              0.4444444444444444,
              "#bd3786"
             ],
             [
              0.5555555555555556,
              "#d8576b"
             ],
             [
              0.6666666666666666,
              "#ed7953"
             ],
             [
              0.7777777777777778,
              "#fb9f3a"
             ],
             [
              0.8888888888888888,
              "#fdca26"
             ],
             [
              1,
              "#f0f921"
             ]
            ],
            "type": "histogram2dcontour"
           }
          ],
          "mesh3d": [
           {
            "colorbar": {
             "outlinewidth": 0,
             "ticks": ""
            },
            "type": "mesh3d"
           }
          ],
          "parcoords": [
           {
            "line": {
             "colorbar": {
              "outlinewidth": 0,
              "ticks": ""
             }
            },
            "type": "parcoords"
           }
          ],
          "pie": [
           {
            "automargin": true,
            "type": "pie"
           }
          ],
          "scatter": [
           {
            "marker": {
             "colorbar": {
              "outlinewidth": 0,
              "ticks": ""
             }
            },
            "type": "scatter"
           }
          ],
          "scatter3d": [
           {
            "line": {
             "colorbar": {
              "outlinewidth": 0,
              "ticks": ""
             }
            },
            "marker": {
             "colorbar": {
              "outlinewidth": 0,
              "ticks": ""
             }
            },
            "type": "scatter3d"
           }
          ],
          "scattercarpet": [
           {
            "marker": {
             "colorbar": {
              "outlinewidth": 0,
              "ticks": ""
             }
            },
            "type": "scattercarpet"
           }
          ],
          "scattergeo": [
           {
            "marker": {
             "colorbar": {
              "outlinewidth": 0,
              "ticks": ""
             }
            },
            "type": "scattergeo"
           }
          ],
          "scattergl": [
           {
            "marker": {
             "colorbar": {
              "outlinewidth": 0,
              "ticks": ""
             }
            },
            "type": "scattergl"
           }
          ],
          "scattermapbox": [
           {
            "marker": {
             "colorbar": {
              "outlinewidth": 0,
              "ticks": ""
             }
            },
            "type": "scattermapbox"
           }
          ],
          "scatterpolar": [
           {
            "marker": {
             "colorbar": {
              "outlinewidth": 0,
              "ticks": ""
             }
            },
            "type": "scatterpolar"
           }
          ],
          "scatterpolargl": [
           {
            "marker": {
             "colorbar": {
              "outlinewidth": 0,
              "ticks": ""
             }
            },
            "type": "scatterpolargl"
           }
          ],
          "scatterternary": [
           {
            "marker": {
             "colorbar": {
              "outlinewidth": 0,
              "ticks": ""
             }
            },
            "type": "scatterternary"
           }
          ],
          "surface": [
           {
            "colorbar": {
             "outlinewidth": 0,
             "ticks": ""
            },
            "colorscale": [
             [
              0,
              "#0d0887"
             ],
             [
              0.1111111111111111,
              "#46039f"
             ],
             [
              0.2222222222222222,
              "#7201a8"
             ],
             [
              0.3333333333333333,
              "#9c179e"
             ],
             [
              0.4444444444444444,
              "#bd3786"
             ],
             [
              0.5555555555555556,
              "#d8576b"
             ],
             [
              0.6666666666666666,
              "#ed7953"
             ],
             [
              0.7777777777777778,
              "#fb9f3a"
             ],
             [
              0.8888888888888888,
              "#fdca26"
             ],
             [
              1,
              "#f0f921"
             ]
            ],
            "type": "surface"
           }
          ],
          "table": [
           {
            "cells": {
             "fill": {
              "color": "#EBF0F8"
             },
             "line": {
              "color": "white"
             }
            },
            "header": {
             "fill": {
              "color": "#C8D4E3"
             },
             "line": {
              "color": "white"
             }
            },
            "type": "table"
           }
          ]
         },
         "layout": {
          "annotationdefaults": {
           "arrowcolor": "#2a3f5f",
           "arrowhead": 0,
           "arrowwidth": 1
          },
          "autotypenumbers": "strict",
          "coloraxis": {
           "colorbar": {
            "outlinewidth": 0,
            "ticks": ""
           }
          },
          "colorscale": {
           "diverging": [
            [
             0,
             "#8e0152"
            ],
            [
             0.1,
             "#c51b7d"
            ],
            [
             0.2,
             "#de77ae"
            ],
            [
             0.3,
             "#f1b6da"
            ],
            [
             0.4,
             "#fde0ef"
            ],
            [
             0.5,
             "#f7f7f7"
            ],
            [
             0.6,
             "#e6f5d0"
            ],
            [
             0.7,
             "#b8e186"
            ],
            [
             0.8,
             "#7fbc41"
            ],
            [
             0.9,
             "#4d9221"
            ],
            [
             1,
             "#276419"
            ]
           ],
           "sequential": [
            [
             0,
             "#0d0887"
            ],
            [
             0.1111111111111111,
             "#46039f"
            ],
            [
             0.2222222222222222,
             "#7201a8"
            ],
            [
             0.3333333333333333,
             "#9c179e"
            ],
            [
             0.4444444444444444,
             "#bd3786"
            ],
            [
             0.5555555555555556,
             "#d8576b"
            ],
            [
             0.6666666666666666,
             "#ed7953"
            ],
            [
             0.7777777777777778,
             "#fb9f3a"
            ],
            [
             0.8888888888888888,
             "#fdca26"
            ],
            [
             1,
             "#f0f921"
            ]
           ],
           "sequentialminus": [
            [
             0,
             "#0d0887"
            ],
            [
             0.1111111111111111,
             "#46039f"
            ],
            [
             0.2222222222222222,
             "#7201a8"
            ],
            [
             0.3333333333333333,
             "#9c179e"
            ],
            [
             0.4444444444444444,
             "#bd3786"
            ],
            [
             0.5555555555555556,
             "#d8576b"
            ],
            [
             0.6666666666666666,
             "#ed7953"
            ],
            [
             0.7777777777777778,
             "#fb9f3a"
            ],
            [
             0.8888888888888888,
             "#fdca26"
            ],
            [
             1,
             "#f0f921"
            ]
           ]
          },
          "colorway": [
           "#636efa",
           "#EF553B",
           "#00cc96",
           "#ab63fa",
           "#FFA15A",
           "#19d3f3",
           "#FF6692",
           "#B6E880",
           "#FF97FF",
           "#FECB52"
          ],
          "font": {
           "color": "#2a3f5f"
          },
          "geo": {
           "bgcolor": "white",
           "lakecolor": "white",
           "landcolor": "#E5ECF6",
           "showlakes": true,
           "showland": true,
           "subunitcolor": "white"
          },
          "hoverlabel": {
           "align": "left"
          },
          "hovermode": "closest",
          "mapbox": {
           "style": "light"
          },
          "paper_bgcolor": "white",
          "plot_bgcolor": "#E5ECF6",
          "polar": {
           "angularaxis": {
            "gridcolor": "white",
            "linecolor": "white",
            "ticks": ""
           },
           "bgcolor": "#E5ECF6",
           "radialaxis": {
            "gridcolor": "white",
            "linecolor": "white",
            "ticks": ""
           }
          },
          "scene": {
           "xaxis": {
            "backgroundcolor": "#E5ECF6",
            "gridcolor": "white",
            "gridwidth": 2,
            "linecolor": "white",
            "showbackground": true,
            "ticks": "",
            "zerolinecolor": "white"
           },
           "yaxis": {
            "backgroundcolor": "#E5ECF6",
            "gridcolor": "white",
            "gridwidth": 2,
            "linecolor": "white",
            "showbackground": true,
            "ticks": "",
            "zerolinecolor": "white"
           },
           "zaxis": {
            "backgroundcolor": "#E5ECF6",
            "gridcolor": "white",
            "gridwidth": 2,
            "linecolor": "white",
            "showbackground": true,
            "ticks": "",
            "zerolinecolor": "white"
           }
          },
          "shapedefaults": {
           "line": {
            "color": "#2a3f5f"
           }
          },
          "ternary": {
           "aaxis": {
            "gridcolor": "white",
            "linecolor": "white",
            "ticks": ""
           },
           "baxis": {
            "gridcolor": "white",
            "linecolor": "white",
            "ticks": ""
           },
           "bgcolor": "#E5ECF6",
           "caxis": {
            "gridcolor": "white",
            "linecolor": "white",
            "ticks": ""
           }
          },
          "title": {
           "x": 0.05
          },
          "xaxis": {
           "automargin": true,
           "gridcolor": "white",
           "linecolor": "white",
           "ticks": "",
           "title": {
            "standoff": 15
           },
           "zerolinecolor": "white",
           "zerolinewidth": 2
          },
          "yaxis": {
           "automargin": true,
           "gridcolor": "white",
           "linecolor": "white",
           "ticks": "",
           "title": {
            "standoff": 15
           },
           "zerolinecolor": "white",
           "zerolinewidth": 2
          }
         }
        },
        "width": 1100,
        "xaxis": {
         "anchor": "y",
         "autorange": true,
         "domain": [
          0,
          0.2888888888888889
         ],
         "range": [
          "2014-07-03 12:00",
          "2021-07-05 12:00"
         ],
         "type": "date"
        },
        "xaxis10": {
         "anchor": "y10",
         "autorange": true,
         "domain": [
          0,
          0.2888888888888889
         ],
         "range": [
          "2014-10-01",
          "2021-09-30"
         ],
         "type": "date"
        },
        "xaxis11": {
         "anchor": "y11",
         "autorange": true,
         "domain": [
          0.35555555555555557,
          0.6444444444444445
         ],
         "range": [
          "2016-02-01",
          "2022-01-31"
         ],
         "type": "date"
        },
        "xaxis12": {
         "anchor": "y12",
         "autorange": true,
         "domain": [
          0.7111111111111111,
          1
         ],
         "range": [
          "2015-06-02",
          "2021-06-01"
         ],
         "type": "date"
        },
        "xaxis2": {
         "anchor": "y2",
         "autorange": true,
         "domain": [
          0.35555555555555557,
          0.6444444444444445
         ],
         "range": [
          "2014-10-31",
          "2021-11-01"
         ],
         "type": "date"
        },
        "xaxis3": {
         "anchor": "y3",
         "autorange": true,
         "domain": [
          0.7111111111111111,
          1
         ],
         "range": [
          "2015-03-03",
          "2021-03-02"
         ],
         "type": "date"
        },
        "xaxis4": {
         "anchor": "y4",
         "autorange": true,
         "domain": [
          0,
          0.2888888888888889
         ],
         "range": [
          "2014-08-04",
          "2021-08-02"
         ],
         "type": "date"
        },
        "xaxis5": {
         "anchor": "y5",
         "autorange": true,
         "domain": [
          0.35555555555555557,
          0.6444444444444445
         ],
         "range": [
          "2014-12-01",
          "2021-11-30"
         ],
         "type": "date"
        },
        "xaxis6": {
         "anchor": "y6",
         "autorange": true,
         "domain": [
          0.7111111111111111,
          1
         ],
         "range": [
          "2015-04-02",
          "2021-04-01"
         ],
         "type": "date"
        },
        "xaxis7": {
         "anchor": "y7",
         "autorange": true,
         "domain": [
          0,
          0.2888888888888889
         ],
         "range": [
          "2014-09-01",
          "2021-08-30"
         ],
         "type": "date"
        },
        "xaxis8": {
         "anchor": "y8",
         "autorange": true,
         "domain": [
          0.35555555555555557,
          0.6444444444444445
         ],
         "range": [
          "2014-12-31",
          "2021-12-30"
         ],
         "type": "date"
        },
        "xaxis9": {
         "anchor": "y9",
         "autorange": true,
         "domain": [
          0.7111111111111111,
          1
         ],
         "range": [
          "2016-05-02 12:00",
          "2021-05-03 12:00"
         ],
         "type": "date"
        },
        "yaxis": {
         "anchor": "x",
         "autorange": true,
         "domain": [
          0.84375,
          1
         ],
         "range": [
          -20927.966666666667,
          6731.366666666683
         ],
         "type": "linear"
        },
        "yaxis10": {
         "anchor": "x10",
         "autorange": true,
         "domain": [
          0,
          0.15625
         ],
         "range": [
          -16665.833333333318,
          22250.833333333332
         ],
         "type": "linear"
        },
        "yaxis11": {
         "anchor": "x11",
         "autorange": true,
         "domain": [
          0,
          0.15625
         ],
         "range": [
          0,
          23394.736842105263
         ],
         "type": "linear"
        },
        "yaxis12": {
         "anchor": "x12",
         "autorange": true,
         "domain": [
          0,
          0.15625
         ],
         "range": [
          -38199.38888888889,
          22128.38888888889
         ],
         "type": "linear"
        },
        "yaxis2": {
         "anchor": "x2",
         "autorange": true,
         "domain": [
          0.84375,
          1
         ],
         "range": [
          -24025.833333333332,
          17790.833333333332
         ],
         "type": "linear"
        },
        "yaxis3": {
         "anchor": "x3",
         "autorange": true,
         "domain": [
          0.84375,
          1
         ],
         "range": [
          -10859.73888888887,
          30661.03888888889
         ],
         "type": "linear"
        },
        "yaxis4": {
         "anchor": "x4",
         "autorange": true,
         "domain": [
          0.5625,
          0.71875
         ],
         "range": [
          -38805.444444444445,
          31863.444444444445
         ],
         "type": "linear"
        },
        "yaxis5": {
         "anchor": "x5",
         "autorange": true,
         "domain": [
          0.5625,
          0.71875
         ],
         "range": [
          -31968.499999999993,
          5401.5
         ],
         "type": "linear"
        },
        "yaxis6": {
         "anchor": "x6",
         "autorange": true,
         "domain": [
          0.5625,
          0.71875
         ],
         "range": [
          -38734.722222222226,
          38459.72222222222
         ],
         "type": "linear"
        },
        "yaxis7": {
         "anchor": "x7",
         "autorange": true,
         "domain": [
          0.28125,
          0.4375
         ],
         "range": [
          -14790.650000000014,
          12932.350000000059
         ],
         "type": "linear"
        },
        "yaxis8": {
         "anchor": "x8",
         "autorange": true,
         "domain": [
          0.28125,
          0.4375
         ],
         "range": [
          -34332.94444444444,
          17225.944444444445
         ],
         "type": "linear"
        },
        "yaxis9": {
         "anchor": "x9",
         "autorange": true,
         "domain": [
          0.28125,
          0.4375
         ],
         "range": [
          -28158.722222222223,
          6075.722222222223
         ],
         "type": "linear"
        }
       }
      },
      "image/png": "[encoded data removed]",
      "text/html": [
       "<div>                            <div id=\"a2e43384-6d3c-4d11-a7e9-3b722cf45835\" class=\"plotly-graph-div\" style=\"height:1000px; width:1100px;\"></div>            <script type=\"text/javascript\">                require([\"plotly\"], function(Plotly) {                    window.PLOTLYENV=window.PLOTLYENV || {};                                    if (document.getElementById(\"a2e43384-6d3c-4d11-a7e9-3b722cf45835\")) {                    Plotly.newPlot(                        \"a2e43384-6d3c-4d11-a7e9-3b722cf45835\",                        [{\"showlegend\":false,\"type\":\"bar\",\"x\":[\"2015-01-02T00:00:00\",\"2016-01-04T00:00:00\",\"2017-01-03T00:00:00\",\"2019-01-02T00:00:00\",\"2020-01-02T00:00:00\",\"2021-01-04T00:00:00\"],\"xaxis\":\"x\",\"y\":[4384.0,-3289.200000000025,-12976.09999999995,-19545.0,-6187.800000000009,5348.400000000016],\"yaxis\":\"y\"},{\"showlegend\":false,\"type\":\"bar\",\"x\":[\"2015-02-02T00:00:00\",\"2016-02-01T00:00:00\",\"2017-02-01T00:00:00\",\"2018-02-01T00:00:00\",\"2019-02-01T00:00:00\",\"2020-02-03T00:00:00\",\"2021-02-01T00:00:00\"],\"xaxis\":\"x4\",\"y\":[-2603.7999999999556,8315.0,1376.5999999999876,7168.0,-294.7000000000089,-35272.0,28330.0],\"yaxis\":\"y4\"},{\"showlegend\":false,\"type\":\"bar\",\"x\":[\"2015-03-02T00:00:00\",\"2016-03-01T00:00:00\",\"2017-03-01T00:00:00\",\"2018-03-01T00:00:00\",\"2019-03-01T00:00:00\",\"2020-03-02T00:00:00\",\"2021-03-01T00:00:00\"],\"xaxis\":\"x7\",\"y\":[2408.0,5255.0,2843.0,8086.999999999999,-13404.500000000011,9072.0,11546.200000000055],\"yaxis\":\"y7\"},{\"showlegend\":false,\"type\":\"bar\",\"x\":[\"2015-04-01T00:00:00\",\"2017-04-03T00:00:00\",\"2018-04-02T00:00:00\",\"2019-04-01T00:00:00\",\"2020-04-01T00:00:00\",\"2021-04-01T00:00:00\"],\"xaxis\":\"x10\",\"y\":[3529.0,1987.0,-3319.3999999999905,6139.0,-14719.999999999985,20305.0],\"yaxis\":\"y10\"},{\"showlegend\":false,\"type\":\"bar\",\"x\":[\"2015-05-01T00:00:00\",\"2016-05-02T00:00:00\",\"2017-05-01T00:00:00\",\"2018-05-01T00:00:00\",\"2019-05-01T00:00:00\",\"2020-05-01T00:00:00\",\"2021-05-03T00:00:00\"],\"xaxis\":\"x2\",\"y\":[3609.0,4364.0,2032.0,-15448.600000000031,7990.000000000001,-21935.0,15700.0],\"yaxis\":\"y2\"},{\"showlegend\":false,\"type\":\"bar\",\"x\":[\"2015-06-01T00:00:00\",\"2016-06-01T00:00:00\",\"2017-06-01T00:00:00\",\"2018-06-01T00:00:00\",\"2019-06-03T00:00:00\",\"2020-06-01T00:00:00\",\"2021-06-01T00:00:00\"],\"xaxis\":\"x5\",\"y\":[2444.0,2612.0,2929.0,3533.0,-21157.000000000007,-30099.999999999993,-20767.70000000004],\"yaxis\":\"y5\"},{\"showlegend\":false,\"type\":\"bar\",\"x\":[\"2015-07-01T00:00:00\",\"2017-07-03T00:00:00\",\"2018-07-02T00:00:00\",\"2019-07-01T00:00:00\",\"2020-07-01T00:00:00\",\"2021-07-01T00:00:00\"],\"xaxis\":\"x8\",\"y\":[3971.099999999973,6141.0,8916.0,7781.0,-31754.999999999996,14648.0],\"yaxis\":\"y8\"},{\"showlegend\":false,\"type\":\"bar\",\"x\":[\"2016-08-01T00:00:00\",\"2017-08-01T00:00:00\",\"2018-08-01T00:00:00\",\"2019-08-01T00:00:00\",\"2020-08-03T00:00:00\",\"2021-08-02T00:00:00\"],\"xaxis\":\"x11\",\"y\":[2450.0,3209.0,6910.999999999999,4006.0,22225.0,16100.0],\"yaxis\":\"y11\"},{\"showlegend\":false,\"type\":\"bar\",\"x\":[\"2015-09-01T00:00:00\",\"2016-09-01T00:00:00\",\"2017-09-01T00:00:00\",\"2018-09-04T00:00:00\",\"2019-09-03T00:00:00\",\"2020-09-01T00:00:00\"],\"xaxis\":\"x3\",\"y\":[1638.7999999999702,3282.0,3323.0,-8783.699999999983,11728.0,28585.0],\"yaxis\":\"y3\"},{\"showlegend\":false,\"type\":\"bar\",\"x\":[\"2015-10-01T00:00:00\",\"2017-10-02T00:00:00\",\"2018-10-01T00:00:00\",\"2019-10-01T00:00:00\",\"2020-10-01T00:00:00\"],\"xaxis\":\"x6\",\"y\":[-13986.000000000005,-843.0000000000218,-34875.00000000001,-14619.29999999992,34600.0],\"yaxis\":\"y6\"},{\"showlegend\":false,\"type\":\"bar\",\"x\":[\"2016-11-01T00:00:00\",\"2017-11-01T00:00:00\",\"2018-11-01T00:00:00\",\"2019-11-01T00:00:00\",\"2020-11-02T00:00:00\"],\"xaxis\":\"x9\",\"y\":[4364.0,3671.0,-24689.999999999996,-4474.1,-26447.0],\"yaxis\":\"y9\"},{\"showlegend\":false,\"type\":\"bar\",\"x\":[\"2015-12-01T00:00:00\",\"2016-12-01T00:00:00\",\"2017-12-01T00:00:00\",\"2018-12-03T00:00:00\",\"2019-12-02T00:00:00\",\"2020-12-01T00:00:00\"],\"xaxis\":\"x12\",\"y\":[-19630.000000000004,-4507.700000000012,-11963.899999999969,10175.0,-35183.0,19112.0],\"yaxis\":\"y12\"}],                        {\"annotations\":[{\"font\":{\"size\":16},\"showarrow\":false,\"text\":\"January\",\"x\":0.14444444444444446,\"xanchor\":\"center\",\"xref\":\"paper\",\"y\":1.0,\"yanchor\":\"bottom\",\"yref\":\"paper\"},{\"font\":{\"size\":16},\"showarrow\":false,\"text\":\"February\",\"x\":0.5,\"xanchor\":\"center\",\"xref\":\"paper\",\"y\":1.0,\"yanchor\":\"bottom\",\"yref\":\"paper\"},{\"font\":{\"size\":16},\"showarrow\":false,\"text\":\"March\",\"x\":0.8555555555555556,\"xanchor\":\"center\",\"xref\":\"paper\",\"y\":1.0,\"yanchor\":\"bottom\",\"yref\":\"paper\"},{\"font\":{\"size\":16},\"showarrow\":false,\"text\":\"April\",\"x\":0.14444444444444446,\"xanchor\":\"center\",\"xref\":\"paper\",\"y\":0.71875,\"yanchor\":\"bottom\",\"yref\":\"paper\"},{\"font\":{\"size\":16},\"showarrow\":false,\"text\":\"May\",\"x\":0.5,\"xanchor\":\"center\",\"xref\":\"paper\",\"y\":0.71875,\"yanchor\":\"bottom\",\"yref\":\"paper\"},{\"font\":{\"size\":16},\"showarrow\":false,\"text\":\"June\",\"x\":0.8555555555555556,\"xanchor\":\"center\",\"xref\":\"paper\",\"y\":0.71875,\"yanchor\":\"bottom\",\"yref\":\"paper\"},{\"font\":{\"size\":16},\"showarrow\":false,\"text\":\"July\",\"x\":0.14444444444444446,\"xanchor\":\"center\",\"xref\":\"paper\",\"y\":0.4375,\"yanchor\":\"bottom\",\"yref\":\"paper\"},{\"font\":{\"size\":16},\"showarrow\":false,\"text\":\"August\",\"x\":0.5,\"xanchor\":\"center\",\"xref\":\"paper\",\"y\":0.4375,\"yanchor\":\"bottom\",\"yref\":\"paper\"},{\"font\":{\"size\":16},\"showarrow\":false,\"text\":\"September\",\"x\":0.8555555555555556,\"xanchor\":\"center\",\"xref\":\"paper\",\"y\":0.4375,\"yanchor\":\"bottom\",\"yref\":\"paper\"},{\"font\":{\"size\":16},\"showarrow\":false,\"text\":\"October\",\"x\":0.14444444444444446,\"xanchor\":\"center\",\"xref\":\"paper\",\"y\":0.15625,\"yanchor\":\"bottom\",\"yref\":\"paper\"},{\"font\":{\"size\":16},\"showarrow\":false,\"text\":\"November\",\"x\":0.5,\"xanchor\":\"center\",\"xref\":\"paper\",\"y\":0.15625,\"yanchor\":\"bottom\",\"yref\":\"paper\"},{\"font\":{\"size\":16},\"showarrow\":false,\"text\":\"December\",\"x\":0.8555555555555556,\"xanchor\":\"center\",\"xref\":\"paper\",\"y\":0.15625,\"yanchor\":\"bottom\",\"yref\":\"paper\"}],\"height\":1000,\"template\":{\"data\":{\"bar\":[{\"error_x\":{\"color\":\"#2a3f5f\"},\"error_y\":{\"color\":\"#2a3f5f\"},\"marker\":{\"line\":{\"color\":\"#E5ECF6\",\"width\":0.5},\"pattern\":{\"fillmode\":\"overlay\",\"size\":10,\"solidity\":0.2}},\"type\":\"bar\"}],\"barpolar\":[{\"marker\":{\"line\":{\"color\":\"#E5ECF6\",\"width\":0.5},\"pattern\":{\"fillmode\":\"overlay\",\"size\":10,\"solidity\":0.2}},\"type\":\"barpolar\"}],\"carpet\":[{\"aaxis\":{\"endlinecolor\":\"#2a3f5f\",\"gridcolor\":\"white\",\"linecolor\":\"white\",\"minorgridcolor\":\"white\",\"startlinecolor\":\"#2a3f5f\"},\"baxis\":{\"endlinecolor\":\"#2a3f5f\",\"gridcolor\":\"white\",\"linecolor\":\"white\",\"minorgridcolor\":\"white\",\"startlinecolor\":\"#2a3f5f\"},\"type\":\"carpet\"}],\"choropleth\":[{\"colorbar\":{\"outlinewidth\":0,\"ticks\":\"\"},\"type\":\"choropleth\"}],\"contour\":[{\"colorbar\":{\"outlinewidth\":0,\"ticks\":\"\"},\"colorscale\":[[0.0,\"#0d0887\"],[0.1111111111111111,\"#46039f\"],[0.2222222222222222,\"#7201a8\"],[0.3333333333333333,\"#9c179e\"],[0.4444444444444444,\"#bd3786\"],[0.5555555555555556,\"#d8576b\"],[0.6666666666666666,\"#ed7953\"],[0.7777777777777778,\"#fb9f3a\"],[0.8888888888888888,\"#fdca26\"],[1.0,\"#f0f921\"]],\"type\":\"contour\"}],\"contourcarpet\":[{\"colorbar\":{\"outlinewidth\":0,\"ticks\":\"\"},\"type\":\"contourcarpet\"}],\"heatmap\":[{\"colorbar\":{\"outlinewidth\":0,\"ticks\":\"\"},\"colorscale\":[[0.0,\"#0d0887\"],[0.1111111111111111,\"#46039f\"],[0.2222222222222222,\"#7201a8\"],[0.3333333333333333,\"#9c179e\"],[0.4444444444444444,\"#bd3786\"],[0.5555555555555556,\"#d8576b\"],[0.6666666666666666,\"#ed7953\"],[0.7777777777777778,\"#fb9f3a\"],[0.8888888888888888,\"#fdca26\"],[1.0,\"#f0f921\"]],\"type\":\"heatmap\"}],\"heatmapgl\":[{\"colorbar\":{\"outlinewidth\":0,\"ticks\":\"\"},\"colorscale\":[[0.0,\"#0d0887\"],[0.1111111111111111,\"#46039f\"],[0.2222222222222222,\"#7201a8\"],[0.3333333333333333,\"#9c179e\"],[0.4444444444444444,\"#bd3786\"],[0.5555555555555556,\"#d8576b\"],[0.6666666666666666,\"#ed7953\"],[0.7777777777777778,\"#fb9f3a\"],[0.8888888888888888,\"#fdca26\"],[1.0,\"#f0f921\"]],\"type\":\"heatmapgl\"}],\"histogram\":[{\"marker\":{\"pattern\":{\"fillmode\":\"overlay\",\"size\":10,\"solidity\":0.2}},\"type\":\"histogram\"}],\"histogram2d\":[{\"colorbar\":{\"outlinewidth\":0,\"ticks\":\"\"},\"colorscale\":[[0.0,\"#0d0887\"],[0.1111111111111111,\"#46039f\"],[0.2222222222222222,\"#7201a8\"],[0.3333333333333333,\"#9c179e\"],[0.4444444444444444,\"#bd3786\"],[0.5555555555555556,\"#d8576b\"],[0.6666666666666666,\"#ed7953\"],[0.7777777777777778,\"#fb9f3a\"],[0.8888888888888888,\"#fdca26\"],[1.0,\"#f0f921\"]],\"type\":\"histogram2d\"}],\"histogram2dcontour\":[{\"colorbar\":{\"outlinewidth\":0,\"ticks\":\"\"},\"colorscale\":[[0.0,\"#0d0887\"],[0.1111111111111111,\"#46039f\"],[0.2222222222222222,\"#7201a8\"],[0.3333333333333333,\"#9c179e\"],[0.4444444444444444,\"#bd3786\"],[0.5555555555555556,\"#d8576b\"],[0.6666666666666666,\"#ed7953\"],[0.7777777777777778,\"#fb9f3a\"],[0.8888888888888888,\"#fdca26\"],[1.0,\"#f0f921\"]],\"type\":\"histogram2dcontour\"}],\"mesh3d\":[{\"colorbar\":{\"outlinewidth\":0,\"ticks\":\"\"},\"type\":\"mesh3d\"}],\"parcoords\":[{\"line\":{\"colorbar\":{\"outlinewidth\":0,\"ticks\":\"\"}},\"type\":\"parcoords\"}],\"pie\":[{\"automargin\":true,\"type\":\"pie\"}],\"scatter\":[{\"marker\":{\"colorbar\":{\"outlinewidth\":0,\"ticks\":\"\"}},\"type\":\"scatter\"}],\"scatter3d\":[{\"line\":{\"colorbar\":{\"outlinewidth\":0,\"ticks\":\"\"}},\"marker\":{\"colorbar\":{\"outlinewidth\":0,\"ticks\":\"\"}},\"type\":\"scatter3d\"}],\"scattercarpet\":[{\"marker\":{\"colorbar\":{\"outlinewidth\":0,\"ticks\":\"\"}},\"type\":\"scattercarpet\"}],\"scattergeo\":[{\"marker\":{\"colorbar\":{\"outlinewidth\":0,\"ticks\":\"\"}},\"type\":\"scattergeo\"}],\"scattergl\":[{\"marker\":{\"colorbar\":{\"outlinewidth\":0,\"ticks\":\"\"}},\"type\":\"scattergl\"}],\"scattermapbox\":[{\"marker\":{\"colorbar\":{\"outlinewidth\":0,\"ticks\":\"\"}},\"type\":\"scattermapbox\"}],\"scatterpolar\":[{\"marker\":{\"colorbar\":{\"outlinewidth\":0,\"ticks\":\"\"}},\"type\":\"scatterpolar\"}],\"scatterpolargl\":[{\"marker\":{\"colorbar\":{\"outlinewidth\":0,\"ticks\":\"\"}},\"type\":\"scatterpolargl\"}],\"scatterternary\":[{\"marker\":{\"colorbar\":{\"outlinewidth\":0,\"ticks\":\"\"}},\"type\":\"scatterternary\"}],\"surface\":[{\"colorbar\":{\"outlinewidth\":0,\"ticks\":\"\"},\"colorscale\":[[0.0,\"#0d0887\"],[0.1111111111111111,\"#46039f\"],[0.2222222222222222,\"#7201a8\"],[0.3333333333333333,\"#9c179e\"],[0.4444444444444444,\"#bd3786\"],[0.5555555555555556,\"#d8576b\"],[0.6666666666666666,\"#ed7953\"],[0.7777777777777778,\"#fb9f3a\"],[0.8888888888888888,\"#fdca26\"],[1.0,\"#f0f921\"]],\"type\":\"surface\"}],\"table\":[{\"cells\":{\"fill\":{\"color\":\"#EBF0F8\"},\"line\":{\"color\":\"white\"}},\"header\":{\"fill\":{\"color\":\"#C8D4E3\"},\"line\":{\"color\":\"white\"}},\"type\":\"table\"}]},\"layout\":{\"annotationdefaults\":{\"arrowcolor\":\"#2a3f5f\",\"arrowhead\":0,\"arrowwidth\":1},\"autotypenumbers\":\"strict\",\"coloraxis\":{\"colorbar\":{\"outlinewidth\":0,\"ticks\":\"\"}},\"colorscale\":{\"diverging\":[[0,\"#8e0152\"],[0.1,\"#c51b7d\"],[0.2,\"#de77ae\"],[0.3,\"#f1b6da\"],[0.4,\"#fde0ef\"],[0.5,\"#f7f7f7\"],[0.6,\"#e6f5d0\"],[0.7,\"#b8e186\"],[0.8,\"#7fbc41\"],[0.9,\"#4d9221\"],[1,\"#276419\"]],\"sequential\":[[0.0,\"#0d0887\"],[0.1111111111111111,\"#46039f\"],[0.2222222222222222,\"#7201a8\"],[0.3333333333333333,\"#9c179e\"],[0.4444444444444444,\"#bd3786\"],[0.5555555555555556,\"#d8576b\"],[0.6666666666666666,\"#ed7953\"],[0.7777777777777778,\"#fb9f3a\"],[0.8888888888888888,\"#fdca26\"],[1.0,\"#f0f921\"]],\"sequentialminus\":[[0.0,\"#0d0887\"],[0.1111111111111111,\"#46039f\"],[0.2222222222222222,\"#7201a8\"],[0.3333333333333333,\"#9c179e\"],[0.4444444444444444,\"#bd3786\"],[0.5555555555555556,\"#d8576b\"],[0.6666666666666666,\"#ed7953\"],[0.7777777777777778,\"#fb9f3a\"],[0.8888888888888888,\"#fdca26\"],[1.0,\"#f0f921\"]]},\"colorway\":[\"#636efa\",\"#EF553B\",\"#00cc96\",\"#ab63fa\",\"#FFA15A\",\"#19d3f3\",\"#FF6692\",\"#B6E880\",\"#FF97FF\",\"#FECB52\"],\"font\":{\"color\":\"#2a3f5f\"},\"geo\":{\"bgcolor\":\"white\",\"lakecolor\":\"white\",\"landcolor\":\"#E5ECF6\",\"showlakes\":true,\"showland\":true,\"subunitcolor\":\"white\"},\"hoverlabel\":{\"align\":\"left\"},\"hovermode\":\"closest\",\"mapbox\":{\"style\":\"light\"},\"paper_bgcolor\":\"white\",\"plot_bgcolor\":\"#E5ECF6\",\"polar\":{\"angularaxis\":{\"gridcolor\":\"white\",\"linecolor\":\"white\",\"ticks\":\"\"},\"bgcolor\":\"#E5ECF6\",\"radialaxis\":{\"gridcolor\":\"white\",\"linecolor\":\"white\",\"ticks\":\"\"}},\"scene\":{\"xaxis\":{\"backgroundcolor\":\"#E5ECF6\",\"gridcolor\":\"white\",\"gridwidth\":2,\"linecolor\":\"white\",\"showbackground\":true,\"ticks\":\"\",\"zerolinecolor\":\"white\"},\"yaxis\":{\"backgroundcolor\":\"#E5ECF6\",\"gridcolor\":\"white\",\"gridwidth\":2,\"linecolor\":\"white\",\"showbackground\":true,\"ticks\":\"\",\"zerolinecolor\":\"white\"},\"zaxis\":{\"backgroundcolor\":\"#E5ECF6\",\"gridcolor\":\"white\",\"gridwidth\":2,\"linecolor\":\"white\",\"showbackground\":true,\"ticks\":\"\",\"zerolinecolor\":\"white\"}},\"shapedefaults\":{\"line\":{\"color\":\"#2a3f5f\"}},\"ternary\":{\"aaxis\":{\"gridcolor\":\"white\",\"linecolor\":\"white\",\"ticks\":\"\"},\"baxis\":{\"gridcolor\":\"white\",\"linecolor\":\"white\",\"ticks\":\"\"},\"bgcolor\":\"#E5ECF6\",\"caxis\":{\"gridcolor\":\"white\",\"linecolor\":\"white\",\"ticks\":\"\"}},\"title\":{\"x\":0.05},\"xaxis\":{\"automargin\":true,\"gridcolor\":\"white\",\"linecolor\":\"white\",\"ticks\":\"\",\"title\":{\"standoff\":15},\"zerolinecolor\":\"white\",\"zerolinewidth\":2},\"yaxis\":{\"automargin\":true,\"gridcolor\":\"white\",\"linecolor\":\"white\",\"ticks\":\"\",\"title\":{\"standoff\":15},\"zerolinecolor\":\"white\",\"zerolinewidth\":2}}},\"width\":1100,\"xaxis\":{\"anchor\":\"y\",\"domain\":[0.0,0.2888888888888889]},\"xaxis10\":{\"anchor\":\"y10\",\"domain\":[0.0,0.2888888888888889]},\"xaxis11\":{\"anchor\":\"y11\",\"domain\":[0.35555555555555557,0.6444444444444445]},\"xaxis12\":{\"anchor\":\"y12\",\"domain\":[0.7111111111111111,1.0]},\"xaxis2\":{\"anchor\":\"y2\",\"domain\":[0.35555555555555557,0.6444444444444445]},\"xaxis3\":{\"anchor\":\"y3\",\"domain\":[0.7111111111111111,1.0]},\"xaxis4\":{\"anchor\":\"y4\",\"domain\":[0.0,0.2888888888888889]},\"xaxis5\":{\"anchor\":\"y5\",\"domain\":[0.35555555555555557,0.6444444444444445]},\"xaxis6\":{\"anchor\":\"y6\",\"domain\":[0.7111111111111111,1.0]},\"xaxis7\":{\"anchor\":\"y7\",\"domain\":[0.0,0.2888888888888889]},\"xaxis8\":{\"anchor\":\"y8\",\"domain\":[0.35555555555555557,0.6444444444444445]},\"xaxis9\":{\"anchor\":\"y9\",\"domain\":[0.7111111111111111,1.0]},\"yaxis\":{\"anchor\":\"x\",\"domain\":[0.84375,1.0]},\"yaxis10\":{\"anchor\":\"x10\",\"domain\":[0.0,0.15625]},\"yaxis11\":{\"anchor\":\"x11\",\"domain\":[0.0,0.15625]},\"yaxis12\":{\"anchor\":\"x12\",\"domain\":[0.0,0.15625]},\"yaxis2\":{\"anchor\":\"x2\",\"domain\":[0.84375,1.0]},\"yaxis3\":{\"anchor\":\"x3\",\"domain\":[0.84375,1.0]},\"yaxis4\":{\"anchor\":\"x4\",\"domain\":[0.5625,0.71875]},\"yaxis5\":{\"anchor\":\"x5\",\"domain\":[0.5625,0.71875]},\"yaxis6\":{\"anchor\":\"x6\",\"domain\":[0.5625,0.71875]},\"yaxis7\":{\"anchor\":\"x7\",\"domain\":[0.28125,0.4375]},\"yaxis8\":{\"anchor\":\"x8\",\"domain\":[0.28125,0.4375]},\"yaxis9\":{\"anchor\":\"x9\",\"domain\":[0.28125,0.4375]}},                        {\"responsive\": true}                    ).then(function(){\n",
       "                            \n",
       "var gd = document.getElementById('a2e43384-6d3c-4d11-a7e9-3b722cf45835');\n",
       "var x = new MutationObserver(function (mutations, observer) {{\n",
       "        var display = window.getComputedStyle(gd).display;\n",
       "        if (!display || display === 'none') {{\n",
       "            console.log([gd, 'removed!']);\n",
       "            Plotly.purge(gd);\n",
       "            observer.disconnect();\n",
       "        }}\n",
       "}});\n",
       "\n",
       "// Listen for the removal of the full notebook cells\n",
       "var notebookContainer = gd.closest('#notebook-container');\n",
       "if (notebookContainer) {{\n",
       "    x.observe(notebookContainer, {childList: true});\n",
       "}}\n",
       "\n",
       "// Listen for the clearing of the current output cell\n",
       "var outputEl = gd.closest('.output');\n",
       "if (outputEl) {{\n",
       "    x.observe(outputEl, {childList: true});\n",
       "}}\n",
       "\n",
       "                        })                };                });            </script>        </div>"
      ]
     },
     "metadata": {},
     "output_type": "display_data"
    }
   ],
   "source": [
    "fig = make_subplots(rows=4, cols=3, subplot_titles = ['January', 'February', 'March', 'April', 'May', 'June', 'July', 'August', 'September', 'October', 'November', 'December'] )\n",
    "\n",
    "n = 0\n",
    "for i in range(1,4):\n",
    "    for j in range(1, 5):\n",
    "        n += 1\n",
    "        x = df1['Trans_Date'].loc[(df1['Trans_Date'].dt.month==n)]\n",
    "        y = df1['Total Profit/Loss'].loc[(df1['Trans_Date'].dt.month==n)]\n",
    "        fig.add_trace(\n",
    "            go.Bar(x=x , y=y,showlegend=False),\n",
    "            row=j, col=i\n",
    "        )\n",
    "fig.update_layout(height=1000, width=1100)\n",
    "\n",
    "fig.show()"
   ]
  },
  {
   "cell_type": "code",
   "execution_count": null,
   "id": "144c911a-4f6b-4520-8759-5b35cc11ac7c",
   "metadata": {},
   "outputs": [],
   "source": []
  }
 ],
 "metadata": {
  "kernelspec": {
   "display_name": "Python 3 (ipykernel)",
   "language": "python",
   "name": "python3"
  },
  "language_info": {
   "codemirror_mode": {
    "name": "ipython",
    "version": 3
   },
   "file_extension": ".py",
   "mimetype": "text/x-python",
   "name": "python",
   "nbconvert_exporter": "python",
   "pygments_lexer": "ipython3",
   "version": "3.9.7"
  }
 },
 "nbformat": 4,
 "nbformat_minor": 5
}
